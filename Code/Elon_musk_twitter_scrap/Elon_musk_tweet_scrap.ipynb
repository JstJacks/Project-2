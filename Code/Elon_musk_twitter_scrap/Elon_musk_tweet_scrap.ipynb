{
 "cells": [
  {
   "cell_type": "code",
   "execution_count": 1,
   "id": "7fbb1e30-23fe-4500-ae63-079ff1cb15c1",
   "metadata": {},
   "outputs": [],
   "source": [
    "import os\n",
    "from pathlib import Path\n",
    "import pandas as pd\n",
    "import numpy as np\n",
    "import datetime\n",
    "import time\n",
    "import requests\n",
    "import json\n",
    "import dateutil.parser\n",
    "import unicodedata\n",
    "from dotenv import load_dotenv\n",
    "from pytwitter import Api"
   ]
  },
  {
   "cell_type": "code",
   "execution_count": 10,
   "id": "a53aa8ea-3e6c-4956-862a-5263dc26c8f7",
   "metadata": {},
   "outputs": [],
   "source": [
    "# Load  ENV\n",
    "load_dotenv()\n",
    "\n",
    "# Set Alpaca API key and secret\n",
    "# YOUR CODE HERE\n",
    "\n",
    "twitter_api_key = os.getenv('twitter_api_key')\n",
    "twitter_secret_key = os.getenv('twitter_secret_key')\n",
    "bearer_token = Api(os.getenv('bearer_token'))"
   ]
  },
  {
   "cell_type": "code",
   "execution_count": 3,
   "id": "c9698558-a59a-4a90-bc9b-cab22a204008",
   "metadata": {},
   "outputs": [
    {
     "name": "stdout",
     "output_type": "stream",
     "text": [
      "<class 'str'>\n",
      "<class 'str'>\n",
      "<class 'pytwitter.api.Api'>\n"
     ]
    }
   ],
   "source": [
    "print(type(twitter_api_key))\n",
    "print(type(twitter_secret_key))\n",
    "print(type(bearer_token))"
   ]
  },
  {
   "cell_type": "code",
   "execution_count": 4,
   "id": "2970a0e2-d79f-4cdf-a49b-16edaa5fb342",
   "metadata": {},
   "outputs": [
    {
     "data": {
      "text/plain": [
       "Response(data=User(id='44196397', name='Elon Musk', username='elonmusk'))"
      ]
     },
     "execution_count": 4,
     "metadata": {},
     "output_type": "execute_result"
    }
   ],
   "source": [
    "# Acquire Elon Musk  Username\n",
    "\n",
    "bearer_token.get_user(username=\"elonmusk\")"
   ]
  },
  {
   "cell_type": "code",
   "execution_count": 5,
   "id": "cd7aa52c-5ddd-4464-92b7-266c952d8a82",
   "metadata": {},
   "outputs": [],
   "source": [
    "# Acqure User Following \n",
    "bearer_token.get_following(user_id=\"44196397\", max_results=5)"
   ]
  },
  {
   "cell_type": "code",
   "execution_count": 51,
   "id": "405c870e-74bd-4130-af84-892c8ca9075c",
   "metadata": {
    "tags": []
   },
   "outputs": [],
   "source": [
    "tweet_response=bearer_token.get_timelines(user_id=\"44196397\", max_results=100)\n",
    "\n",
    "tweets=tweet_response.data"
   ]
  },
  {
   "cell_type": "code",
   "execution_count": 52,
   "id": "29648338-32b8-4849-8c3d-f3bad027b833",
   "metadata": {},
   "outputs": [],
   "source": [
    "from datetime import datetime"
   ]
  },
  {
   "cell_type": "code",
   "execution_count": 53,
   "id": "6574ccdb-ad94-47d6-b77d-943448e790ed",
   "metadata": {},
   "outputs": [],
   "source": [
    "def convert_id_to_date(idd):\n",
    "    shifted = int(idd) >> 22\n",
    "    timestamp=shifted+1288834974657\n",
    "    time_created = datetime.fromtimestamp(timestamp/1000).strftime('%Y-%m-%d %H:%M:%S')\n",
    "    return time_created"
   ]
  },
  {
   "cell_type": "code",
   "execution_count": 54,
   "id": "99c1b53d-1fa9-4f1d-a92a-066b9c591885",
   "metadata": {},
   "outputs": [
    {
     "name": "stdout",
     "output_type": "stream",
     "text": [
      "@pmarca Lmaooo\n",
      "2022-04-09 08:34:09\n",
      "@waitbutwhy It’s a real problem\n",
      "2022-04-09 08:25:49\n",
      "@PPathole @stats_feed We have some cool ideas for sustainable lithium extraction &amp; refinement\n",
      "2022-04-09 08:21:37\n",
      "@PPathole @stats_feed True\n",
      "2022-04-09 05:32:24\n",
      "@stats_feed Price of lithium has gone to insane levels! Tesla might actually have to get into the mining &amp; refining directly at scale, unless costs improve.\n",
      "\n",
      "There is no shortage of the element itself, as lithium is almost everywhere on Earth, but pace of extraction/refinement is slow.\n",
      "2022-04-09 04:59:57\n",
      "@EvaFoxU @vincent13031925 Team did amazing work!\n",
      "2022-04-09 04:56:38\n",
      "@teslaownersSV I mean … that’s a lot of hamsters 🐹\n",
      "2022-04-09 04:36:08\n",
      "RT @NASA: This takes commerce to a whole new level. @Axiom_Space's #Ax1 mission is on its way to the @Space_Station in @SpaceX's Dragon End…\n",
      "2022-04-09 04:34:35\n",
      "@Rainmaker1973 Smooth video courtesy of bolting Starlinks to the deck. They are able to handle high vibration &amp; acoustics.\n",
      "2022-04-09 04:28:28\n",
      "@teslaownersSV Master Chief would love it haha\n",
      "2022-04-09 04:24:07\n",
      "@Dr_ThomasZ @SpaceX Flight-proven!\n",
      "2022-04-09 04:18:19\n",
      "RT @SpaceX: Ax-1 on orbit https://t.co/tpY8qtSaJj\n",
      "2022-04-09 04:16:03\n",
      "RT @SpaceX: Falcon 9 launches the first all-private human spaceflight mission to the @space_station https://t.co/krDfQyaVTO\n",
      "2022-04-09 04:15:50\n",
      "RT @SpaceX: All systems are looking good for tomorrow’s Falcon 9 launch of the @Axiom_Space Ax-1 mission to the @space_station; teams are k…\n",
      "2022-04-08 21:49:25\n",
      "Great work by Tesla Texas Team!!\n",
      "\n",
      "Built &amp; delivered first Giga Texas production cars &amp; threw a killer opening party 💥💫 🚘\n",
      "2022-04-08 20:50:44\n",
      "Show starts in ~20 mins https://t.co/VVT69WSkNH\n",
      "2022-04-08 11:43:01\n",
      "RT @NetflixFilm: RETURN TO SPACE\n",
      "(On Netflix April 7)\n",
      "Elon Musk and SpaceX engineers embark on a historic mission to return NASA astronauts…\n",
      "2022-04-08 09:20:16\n",
      "@Erdayastronaut @netflix @NASA @SpaceX @JimBridenstine @AstroBehnken @Astro_Doug @Gwynne_Shotwell Cool!\n",
      "2022-04-08 07:15:23\n",
      "https://t.co/TW2lLQakE5\n",
      "2022-04-07 18:22:22\n",
      "https://t.co/wcW6Z1MNNd\n",
      "2022-04-07 18:20:08\n",
      "@DBurkland @Tesla @gg4175 @TeslaChillMode @TeslaOwnersEBay @teslaownersSV @BLKMDL3 @MFrunker The door won’t be super strict\n",
      "2022-04-07 18:04:56\n"
     ]
    }
   ],
   "source": [
    "for tweet in tweets:\n",
    "    print(tweet.text)\n",
    "    print(convert_id_to_date(tweet.id))\n",
    "    "
   ]
  },
  {
   "cell_type": "code",
   "execution_count": 6,
   "id": "8a923192-8a2b-46ba-8476-9cfd485230c0",
   "metadata": {},
   "outputs": [
    {
     "data": {
      "text/plain": [
       "Response(data=[Tweet(id=1261326399320715264, text=Tune in to the @MongoDB @Twitch stream...), Tweet(id=1278347468690915330, text=Good news and bad news: 2020 is half over)])"
      ]
     },
     "execution_count": 6,
     "metadata": {},
     "output_type": "execute_result"
    }
   ],
   "source": [
    "bearer_token.get_tweets([\"1261326399320715264\",\"1278347468690915330\"],expansions=\"author_id\",tweet_fields=[\"created_at\"], user_fields=[\"username\",\"verified\"])"
   ]
  },
  {
   "cell_type": "code",
   "execution_count": 9,
   "id": "9cf90d85-1715-4134-a3c8-17c3de22e400",
   "metadata": {},
   "outputs": [
    {
     "data": {
      "text/plain": [
       "Response(data=Tweet(id=1354143047324299264, text=Academics are one of the biggest groups using...))"
      ]
     },
     "execution_count": 9,
     "metadata": {},
     "output_type": "execute_result"
    }
   ],
   "source": [
    "# Call a Tweet\n",
    "\n",
    "bearer_token.get_tweet(\"1354143047324299264\", expansions=[\"attachments.media_keys\"], media_fields=[\"type\",\"duration_ms\"])"
   ]
  },
  {
   "cell_type": "code",
   "execution_count": null,
   "id": "bbedec55-5e5d-4052-9dfd-8f38b9c9b600",
   "metadata": {},
   "outputs": [],
   "source": [
    "# Last Top 10 Tweets\n",
    "\n",
    "tweetCriteria = got.manager.TweetCriteria().setUsername(\"barackobama\").setTopTweets(True).setMaxTweets(10)\n",
    "# first one\n",
    "tweet = got.manager.TweetManager.getTweets(tweetCriteria)[0]\n",
    "  \n",
    "print (tweet.text)"
   ]
  },
  {
   "cell_type": "code",
   "execution_count": null,
   "id": "ebe91859-9ff6-46aa-8d24-02f5e3a0399d",
   "metadata": {},
   "outputs": [],
   "source": [
    "tweetCriteria = got.manager.TweetCriteria().setUsername('barackobama').setMaxTweets(1)\n",
    "tweet = got.manager.TweetManager.getTweets(tweetCriteria)[0]"
   ]
  },
  {
   "cell_type": "code",
   "execution_count": null,
   "id": "d2b320c9-e902-4ff2-b7bc-69df003f78c2",
   "metadata": {},
   "outputs": [],
   "source": [
    "print tweet.text"
   ]
  }
 ],
 "metadata": {
  "kernelspec": {
   "display_name": "Python [conda env:mlenv]",
   "language": "python",
   "name": "conda-env-mlenv-py"
  },
  "language_info": {
   "codemirror_mode": {
    "name": "ipython",
    "version": 3
   },
   "file_extension": ".py",
   "mimetype": "text/x-python",
   "name": "python",
   "nbconvert_exporter": "python",
   "pygments_lexer": "ipython3",
   "version": "3.7.11"
  }
 },
 "nbformat": 4,
 "nbformat_minor": 5
}
