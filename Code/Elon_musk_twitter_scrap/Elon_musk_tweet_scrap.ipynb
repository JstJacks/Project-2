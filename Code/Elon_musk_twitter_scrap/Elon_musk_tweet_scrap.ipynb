{
 "cells": [
  {
   "cell_type": "code",
   "execution_count": 1,
   "id": "9f1976ca-9808-41fc-a2b2-9e038a7c874b",
   "metadata": {},
   "outputs": [],
   "source": [
    "import os\n",
    "from pathlib import Path\n",
    "import pandas as pd\n",
    "import numpy as np\n",
    "import datetime\n",
    "import time\n",
    "from dotenv import load_dotenv\n",
    "from pytwitter import Api"
   ]
  },
  {
   "cell_type": "code",
   "execution_count": 2,
   "id": "f7716ce8-3cb1-4713-80b9-8cf2429b496a",
   "metadata": {},
   "outputs": [
    {
     "name": "stdout",
     "output_type": "stream",
     "text": [
      "<class 'str'>\n",
      "<class 'str'>\n",
      "<class 'pytwitter.api.Api'>\n"
     ]
    }
   ],
   "source": [
    "# Load  ENV\n",
    "load_dotenv()\n",
    "\n",
    "# Set Alpaca API key and secret\n",
    "# YOUR CODE HERE\n",
    "\n",
    "twitter_api_key = os.getenv('twitter_api_key')\n",
    "twitter_secret_key = os.getenv('twitter_secret_key')\n",
    "bearer_token = Api(os.getenv('bearer_token'))\n",
    "\n",
    "print(type(twitter_api_key))\n",
    "print(type(twitter_secret_key))\n",
    "print(type(bearer_token))"
   ]
  },
  {
   "cell_type": "code",
   "execution_count": 3,
   "id": "60a0b5a2-6d08-4c88-bd41-7aceb5d5627b",
   "metadata": {},
   "outputs": [
    {
     "data": {
      "text/plain": [
       "Response(data=User(id='44196397', name='Elon Musk', username='elonmusk'))"
      ]
     },
     "execution_count": 3,
     "metadata": {},
     "output_type": "execute_result"
    }
   ],
   "source": [
    "# Acquire Elon Musk  Username\n",
    "\n",
    "bearer_token.get_user(username=\"elonmusk\")"
   ]
  },
  {
   "cell_type": "code",
   "execution_count": 4,
   "id": "8a923192-8a2b-46ba-8476-9cfd485230c0",
   "metadata": {},
   "outputs": [
    {
     "data": {
      "text/plain": [
       "Response(data=[Tweet(id=1261326399320715264, text=Tune in to the @MongoDB @Twitch stream...), Tweet(id=1278347468690915330, text=Good news and bad news: 2020 is half over)])"
      ]
     },
     "execution_count": 4,
     "metadata": {},
     "output_type": "execute_result"
    }
   ],
   "source": [
    "bearer_token.get_tweets([\"1261326399320715264\",\"1278347468690915330\"],expansions=\"author_id\",tweet_fields=[\"created_at\"], user_fields=[\"username\",\"verified\"])"
   ]
  },
  {
   "cell_type": "code",
   "execution_count": 7,
   "id": "f489333f-b9f1-463b-b070-609d34558594",
   "metadata": {},
   "outputs": [
    {
     "ename": "NameError",
     "evalue": "name 'got' is not defined",
     "output_type": "error",
     "traceback": [
      "\u001b[1;31m---------------------------------------------------------------------------\u001b[0m",
      "\u001b[1;31mNameError\u001b[0m                                 Traceback (most recent call last)",
      "\u001b[1;32m~\\AppData\\Local\\Temp/ipykernel_16588/2454090051.py\u001b[0m in \u001b[0;36m<module>\u001b[1;34m\u001b[0m\n\u001b[0;32m      1\u001b[0m \u001b[1;31m# Last Top 10 Tweets\u001b[0m\u001b[1;33m\u001b[0m\u001b[1;33m\u001b[0m\u001b[1;33m\u001b[0m\u001b[0m\n\u001b[0;32m      2\u001b[0m \u001b[1;33m\u001b[0m\u001b[0m\n\u001b[1;32m----> 3\u001b[1;33m \u001b[0mtweetCriteria\u001b[0m \u001b[1;33m=\u001b[0m \u001b[0mgot\u001b[0m\u001b[1;33m.\u001b[0m\u001b[0mmanager\u001b[0m\u001b[1;33m.\u001b[0m\u001b[0mTweetCriteria\u001b[0m\u001b[1;33m(\u001b[0m\u001b[1;33m)\u001b[0m\u001b[1;33m.\u001b[0m\u001b[0msetUsername\u001b[0m\u001b[1;33m(\u001b[0m\u001b[1;34m\"barackobama\"\u001b[0m\u001b[1;33m)\u001b[0m\u001b[1;33m.\u001b[0m\u001b[0msetTopTweets\u001b[0m\u001b[1;33m(\u001b[0m\u001b[1;32mTrue\u001b[0m\u001b[1;33m)\u001b[0m\u001b[1;33m.\u001b[0m\u001b[0msetMaxTweets\u001b[0m\u001b[1;33m(\u001b[0m\u001b[1;36m10\u001b[0m\u001b[1;33m)\u001b[0m\u001b[1;33m\u001b[0m\u001b[1;33m\u001b[0m\u001b[0m\n\u001b[0m\u001b[0;32m      4\u001b[0m \u001b[1;31m# first one\u001b[0m\u001b[1;33m\u001b[0m\u001b[1;33m\u001b[0m\u001b[1;33m\u001b[0m\u001b[0m\n\u001b[0;32m      5\u001b[0m \u001b[0mtweet\u001b[0m \u001b[1;33m=\u001b[0m \u001b[0mgot\u001b[0m\u001b[1;33m.\u001b[0m\u001b[0mmanager\u001b[0m\u001b[1;33m.\u001b[0m\u001b[0mTweetManager\u001b[0m\u001b[1;33m.\u001b[0m\u001b[0mgetTweets\u001b[0m\u001b[1;33m(\u001b[0m\u001b[0mtweetCriteria\u001b[0m\u001b[1;33m)\u001b[0m\u001b[1;33m[\u001b[0m\u001b[1;36m0\u001b[0m\u001b[1;33m]\u001b[0m\u001b[1;33m\u001b[0m\u001b[1;33m\u001b[0m\u001b[0m\n",
      "\u001b[1;31mNameError\u001b[0m: name 'got' is not defined"
     ]
    }
   ],
   "source": [
    "# Last Top 10 Tweets\n",
    "\n",
    "tweetCriteria = got.manager.TweetCriteria().setUsername(\"barackobama\").setTopTweets(True).setMaxTweets(10)\n",
    "# first one\n",
    "tweet = got.manager.TweetManager.getTweets(tweetCriteria)[0]\n",
    "  \n",
    "print (tweet.text)"
   ]
  },
  {
   "cell_type": "code",
   "execution_count": null,
   "id": "89c33f6f-5df8-45c1-9dca-4e7cdfdfb2aa",
   "metadata": {},
   "outputs": [],
   "source": []
  }
 ],
 "metadata": {
  "kernelspec": {
   "display_name": "Python [conda env:mlenv]",
   "language": "python",
   "name": "conda-env-mlenv-py"
  },
  "language_info": {
   "codemirror_mode": {
    "name": "ipython",
    "version": 3
   },
   "file_extension": ".py",
   "mimetype": "text/x-python",
   "name": "python",
   "nbconvert_exporter": "python",
   "pygments_lexer": "ipython3",
   "version": "3.7.11"
  }
 },
 "nbformat": 4,
 "nbformat_minor": 5
}
