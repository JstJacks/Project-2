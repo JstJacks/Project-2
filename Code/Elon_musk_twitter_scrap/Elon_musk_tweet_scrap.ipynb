{
 "cells": [
  {
   "cell_type": "code",
   "execution_count": 16,
   "id": "9f1976ca-9808-41fc-a2b2-9e038a7c874b",
   "metadata": {},
   "outputs": [],
   "source": [
    "import os\n",
    "from pathlib import Path\n",
    "import pandas as pd\n",
    "import numpy as np\n",
    "import datetime\n",
    "import time\n",
    "from dotenv import load_dotenv"
   ]
  },
  {
   "cell_type": "code",
   "execution_count": 18,
   "id": "f7716ce8-3cb1-4713-80b9-8cf2429b496a",
   "metadata": {},
   "outputs": [
    {
     "name": "stdout",
     "output_type": "stream",
     "text": [
      "<class 'str'>\n",
      "<class 'str'>\n",
      "<class 'str'>\n"
     ]
    }
   ],
   "source": [
    "# Load  ENV\n",
    "load_dotenv()\n",
    "\n",
    "# Set Alpaca API key and secret\n",
    "# YOUR CODE HERE\n",
    "\n",
    "twitter_api_key = os.getenv('twitter_api_key')\n",
    "twitter_secret_key = os.getenv('twitter_secret_key')\n",
    "bearer_token = os.getenv('bearer_token')\n",
    "\n",
    "print(type(twitter_api_key))\n",
    "print(type(twitter_secret_key))\n",
    "print(type(bearer_token))"
   ]
  },
  {
   "cell_type": "code",
   "execution_count": 19,
   "id": "b19938a9-f697-415c-a0cf-cba9c81965a7",
   "metadata": {},
   "outputs": [
    {
     "ename": "SyntaxError",
     "evalue": "invalid syntax (Temp/ipykernel_14028/1501367712.py, line 1)",
     "output_type": "error",
     "traceback": [
      "\u001b[1;36m  File \u001b[1;32m\"C:\\Users\\antho\\AppData\\Local\\Temp/ipykernel_14028/1501367712.py\"\u001b[1;36m, line \u001b[1;32m1\u001b[0m\n\u001b[1;33m    curl -X GET -H \"Authorization: Bearer <BEARER TOKEN>\" \"https://api.twitter.com/2/tweets/20\"\u001b[0m\n\u001b[1;37m              ^\u001b[0m\n\u001b[1;31mSyntaxError\u001b[0m\u001b[1;31m:\u001b[0m invalid syntax\n"
     ]
    }
   ],
   "source": [
    "curl -X GET -H \"Authorization: Bearer <BEARER TOKEN>\" \"https://api.twitter.com/2/tweets/20\""
   ]
  },
  {
   "cell_type": "code",
   "execution_count": null,
   "id": "8a923192-8a2b-46ba-8476-9cfd485230c0",
   "metadata": {},
   "outputs": [],
   "source": []
  },
  {
   "cell_type": "code",
   "execution_count": null,
   "id": "f489333f-b9f1-463b-b070-609d34558594",
   "metadata": {},
   "outputs": [],
   "source": []
  }
 ],
 "metadata": {
  "kernelspec": {
   "display_name": "Python [conda env:mlenv]",
   "language": "python",
   "name": "conda-env-mlenv-py"
  },
  "language_info": {
   "codemirror_mode": {
    "name": "ipython",
    "version": 3
   },
   "file_extension": ".py",
   "mimetype": "text/x-python",
   "name": "python",
   "nbconvert_exporter": "python",
   "pygments_lexer": "ipython3",
   "version": "3.7.11"
  }
 },
 "nbformat": 4,
 "nbformat_minor": 5
}
