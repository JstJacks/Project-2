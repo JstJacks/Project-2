{
 "cells": [
  {
   "cell_type": "code",
   "execution_count": 1,
   "id": "7fbb1e30-23fe-4500-ae63-079ff1cb15c1",
   "metadata": {},
   "outputs": [],
   "source": [
    "import os\n",
    "from pathlib import Path\n",
    "import pandas as pd\n",
    "import numpy as np\n",
    "import datetime\n",
    "import time\n",
    "import requests\n",
    "import json\n",
    "import dateutil.parser\n",
    "import unicodedata\n",
    "from dotenv import load_dotenv\n",
    "from pytwitter import Api"
   ]
  },
  {
   "cell_type": "code",
   "execution_count": 2,
   "id": "a53aa8ea-3e6c-4956-862a-5263dc26c8f7",
   "metadata": {},
   "outputs": [],
   "source": [
    "# Load  ENV\n",
    "load_dotenv()\n",
    "\n",
    "# Set Alpaca API key and secret\n",
    "# YOUR CODE HERE\n",
    "\n",
    "twitter_api_key = os.getenv('twitter_api_key')\n",
    "twitter_secret_key = os.getenv('twitter_secret_key')\n",
    "bearer_token = Api(os.getenv('bearer_token'))"
   ]
  },
  {
   "cell_type": "code",
   "execution_count": 3,
   "id": "c9698558-a59a-4a90-bc9b-cab22a204008",
   "metadata": {},
   "outputs": [
    {
     "name": "stdout",
     "output_type": "stream",
     "text": [
      "<class 'str'>\n",
      "<class 'NoneType'>\n",
      "<class 'pytwitter.api.Api'>\n"
     ]
    }
   ],
   "source": [
    "print(type(twitter_api_key))\n",
    "print(type(twitter_secret_key))\n",
    "print(type(bearer_token))"
   ]
  },
  {
   "cell_type": "code",
   "execution_count": 4,
   "id": "c45b0eb1-9e42-4828-9110-708b21b77fa9",
   "metadata": {},
   "outputs": [],
   "source": [
    "# Acquire Elon Musk  Username\n",
    "\n",
    "bearer_token.get_user(username=\"elonmusk\")"
   ]
  },
  {
   "cell_type": "code",
   "execution_count": 11,
   "id": "1cd150a7-47d4-4224-8228-0ddc0b508e1f",
   "metadata": {},
   "outputs": [
    {
     "ename": "TypeError",
     "evalue": "get_tweets() missing 1 required positional argument: 'tweet_ids'",
     "output_type": "error",
     "traceback": [
      "\u001b[1;31m---------------------------------------------------------------------------\u001b[0m",
      "\u001b[1;31mTypeError\u001b[0m                                 Traceback (most recent call last)",
      "\u001b[1;32m~\\AppData\\Local\\Temp\\ipykernel_34692\\3394987720.py\u001b[0m in \u001b[0;36m<module>\u001b[1;34m\u001b[0m\n\u001b[1;32m----> 1\u001b[1;33m \u001b[0mbearer_token\u001b[0m\u001b[1;33m.\u001b[0m\u001b[0mget_tweets\u001b[0m\u001b[1;33m(\u001b[0m\u001b[1;33m)\u001b[0m\u001b[1;33m\u001b[0m\u001b[1;33m\u001b[0m\u001b[0m\n\u001b[0m",
      "\u001b[1;31mTypeError\u001b[0m: get_tweets() missing 1 required positional argument: 'tweet_ids'"
     ]
    }
   ],
   "source": [
    "bearer_token.get_tweets()"
   ]
  },
  {
   "cell_type": "code",
   "execution_count": 5,
   "id": "cd7aa52c-5ddd-4464-92b7-266c952d8a82",
   "metadata": {},
   "outputs": [
    {
     "data": {
      "text/plain": [
       "Response(data=[User(id='34097500', name='beeple', username='beeple'), User(id='276540738', name='𝔊𝔯𝔦𝔪𝔢𝔰 (⌛️,⏳) ᚷᚱᛁᛗᛖᛋ', username='Grimezsz'), User(id='1231406720', name='Michael Sheetz', username='thesheetztweetz'), User(id='959471389282578432', name='Eva Fox 🦊❤️🇺🇦', username='EvaFoxU'), User(id='17663776', name='Planet', username='planet')])"
      ]
     },
     "execution_count": 5,
     "metadata": {},
     "output_type": "execute_result"
    }
   ],
   "source": [
    "# Acqure User Following \n",
    "bearer_token.get_following(user_id=\"44196397\", max_results=5)"
   ]
  },
  {
   "cell_type": "code",
   "execution_count": 6,
   "id": "405c870e-74bd-4130-af84-892c8ca9075c",
   "metadata": {
    "tags": []
   },
   "outputs": [],
   "source": [
    "tweet_response=bearer_token.get_timelines(user_id=\"44196397\", max_results=100)\n",
    "\n",
    "tweets=tweet_response.data"
   ]
  },
  {
   "cell_type": "code",
   "execution_count": 7,
   "id": "29648338-32b8-4849-8c3d-f3bad027b833",
   "metadata": {},
   "outputs": [],
   "source": [
    "from datetime import datetime"
   ]
  },
  {
   "cell_type": "code",
   "execution_count": 8,
   "id": "6574ccdb-ad94-47d6-b77d-943448e790ed",
   "metadata": {},
   "outputs": [],
   "source": [
    "def convert_id_to_date(idd):\n",
    "    shifted = int(idd) >> 22\n",
    "    timestamp=shifted+1288834974657\n",
    "    time_created = datetime.fromtimestamp(timestamp/1000).strftime('%Y-%m-%d %H:%M:%S')\n",
    "    return time_created"
   ]
  },
  {
   "cell_type": "code",
   "execution_count": 9,
   "id": "99c1b53d-1fa9-4f1d-a92a-066b9c591885",
   "metadata": {},
   "outputs": [
    {
     "name": "stdout",
     "output_type": "stream",
     "text": [
      "@JeffBezos Great idea\n",
      "2022-04-11 08:49:22\n",
      "@BLKMDL3 Coming soon\n",
      "2022-04-11 08:30:20\n",
      "@tesla_raj Exciting times ahead\n",
      "2022-04-11 05:12:34\n",
      "@pmarca Disconnected from what it takes to make stuff\n",
      "2022-04-11 02:59:38\n",
      "@teslaownersSV I’m serious about this one btw\n",
      "2022-04-11 02:57:50\n",
      "@sweatystartup Exactly\n",
      "2022-04-10 12:02:31\n",
      "@PPathole Price should probably be ~$2/month, but paid 12 months up front &amp; account doesn’t get checkmark for 60 days (watch for CC chargebacks) &amp; suspended with no refund if used for scam/spam\n",
      "2022-04-10 11:21:42\n",
      "@PPathole It should go away or scammers will game the system by signing up only for a few months\n",
      "2022-04-10 10:58:28\n",
      "@GonzaAbalos Maybe even an option to pay in Doge?\n",
      "2022-04-10 10:45:10\n",
      "@GonzaAbalos Yes, should be proportionate to affordability &amp; in local currency\n",
      "2022-04-10 10:31:07\n",
      "@BLKMDL3 Exactly. It would massively expand the verified pool &amp; make bot armies too expensive to maintain.\n",
      "2022-04-10 10:22:08\n",
      "@michaeljburry You will get it back, even though you shorted Tesla, you bastard 🤣\n",
      "2022-04-10 10:08:19\n",
      "Weather is fake. I seen Truman Show!\n",
      "2022-04-10 10:03:19\n",
      "@teslaownersSV The resemblance is uncanny https://t.co/egFdUWso7Q\n",
      "2022-04-10 07:57:10\n",
      "@LPofMN As the saying goes, when the government first prints money, everyone feels like a winner, but in the end no one does\n",
      "2022-04-10 07:08:21\n",
      "@siddarthpaim Fake news purveyors would have hysterics, but a ratings system would improve quality of news greatly\n",
      "2022-04-10 06:51:01\n",
      "@universal_sci All of Earth is a tiny dust mote compared to the Sun\n",
      "2022-04-10 06:48:07\n",
      "@UKSAguy @RubinReport Yes\n",
      "2022-04-10 06:39:03\n",
      "@JohnnaCrider1 .@Beeple is 🔥🔥\n",
      "2022-04-10 06:18:17\n",
      "69.420% of statistics are false\n",
      "2022-04-10 06:14:20\n",
      "Truth is the first casualty. https://t.co/cN9PIfDvjr\n",
      "2022-04-10 06:12:22\n",
      "@Jason @justinbieber Yeah\n",
      "2022-04-10 04:51:39\n",
      "RT @Tesla: Thank you to everyone who came out to celebrate the first Giga Texas deliveries and party with us. Yeehaw! https://t.co/w4LJR79l…\n",
      "2022-04-10 01:24:26\n",
      "@WholeMarsBlog @jspeedymorris22 @darrenrovell Absolutely\n",
      "2022-04-10 00:44:19\n",
      "@JohnnaCrider1 @jspeedymorris22 @darrenrovell 💯\n",
      "2022-04-10 00:43:06\n",
      "@jspeedymorris22 @darrenrovell Now subtract crypto scam accounts that twitter constantly shows as “real” people in everyone’s feed\n",
      "2022-04-10 00:39:37\n",
      "RT @SpaceX: Docking confirmed! https://t.co/YPyF3aRwO7\n",
      "2022-04-09 23:41:47\n",
      "And @justinbieber only posted once this entire year\n",
      "2022-04-09 23:38:00\n",
      "For example, @taylorswift13 hasn’t posted anything in 3 months\n",
      "2022-04-09 23:35:49\n",
      "Most of these “top” accounts tweet rarely and post very little content. \n",
      "\n",
      "Is Twitter dying? https://t.co/lj9rRXfDHE\n",
      "2022-04-09 23:32:31\n",
      "Interesting https://t.co/LmviLXMkHK\n",
      "2022-04-09 22:37:44\n",
      "RT @SpaceX: Watch Dragon and the @Axiom_Space Ax-1 crew dock with the @space_station → https://t.co/N3MHSxCS0k  https://t.co/QkDJTTXqvK\n",
      "2022-04-09 22:27:47\n",
      "RT @Space_Station: The @SpaceX Dragon Endeavour with four @Axiom_Space astronauts is holding 20 meters away from the station as the station…\n",
      "2022-04-09 22:26:55\n",
      "@pmarca Lmaooo\n",
      "2022-04-09 08:34:09\n",
      "@waitbutwhy It’s a real problem\n",
      "2022-04-09 08:25:49\n",
      "@PPathole @stats_feed We have some cool ideas for sustainable lithium extraction &amp; refinement\n",
      "2022-04-09 08:21:37\n",
      "@PPathole @stats_feed True\n",
      "2022-04-09 05:32:24\n",
      "@stats_feed Price of lithium has gone to insane levels! Tesla might actually have to get into the mining &amp; refining directly at scale, unless costs improve.\n",
      "\n",
      "There is no shortage of the element itself, as lithium is almost everywhere on Earth, but pace of extraction/refinement is slow.\n",
      "2022-04-09 04:59:57\n",
      "@EvaFoxU @vincent13031925 Team did amazing work!\n",
      "2022-04-09 04:56:38\n",
      "@teslaownersSV I mean … that’s a lot of hamsters 🐹\n",
      "2022-04-09 04:36:08\n",
      "RT @NASA: This takes commerce to a whole new level. @Axiom_Space's #Ax1 mission is on its way to the @Space_Station in @SpaceX's Dragon End…\n",
      "2022-04-09 04:34:35\n",
      "@Rainmaker1973 Smooth video courtesy of bolting Starlinks to the deck. They are able to handle high vibration &amp; acoustics.\n",
      "2022-04-09 04:28:28\n",
      "@teslaownersSV Master Chief would love it haha\n",
      "2022-04-09 04:24:07\n",
      "@Dr_ThomasZ @SpaceX Flight-proven!\n",
      "2022-04-09 04:18:19\n",
      "RT @SpaceX: Ax-1 on orbit https://t.co/tpY8qtSaJj\n",
      "2022-04-09 04:16:03\n",
      "RT @SpaceX: Falcon 9 launches the first all-private human spaceflight mission to the @space_station https://t.co/krDfQyaVTO\n",
      "2022-04-09 04:15:50\n",
      "RT @SpaceX: All systems are looking good for tomorrow’s Falcon 9 launch of the @Axiom_Space Ax-1 mission to the @space_station; teams are k…\n",
      "2022-04-08 21:49:25\n",
      "Great work by Tesla Texas Team!!\n",
      "\n",
      "Built &amp; delivered first Giga Texas production cars &amp; threw a killer opening party 💥💫 🚘\n",
      "2022-04-08 20:50:44\n",
      "Show starts in ~20 mins https://t.co/VVT69WSkNH\n",
      "2022-04-08 11:43:01\n",
      "RT @NetflixFilm: RETURN TO SPACE\n",
      "(On Netflix April 7)\n",
      "Elon Musk and SpaceX engineers embark on a historic mission to return NASA astronauts…\n",
      "2022-04-08 09:20:16\n",
      "@Erdayastronaut @netflix @NASA @SpaceX @JimBridenstine @AstroBehnken @Astro_Doug @Gwynne_Shotwell Cool!\n",
      "2022-04-08 07:15:23\n",
      "https://t.co/TW2lLQakE5\n",
      "2022-04-07 18:22:22\n",
      "https://t.co/wcW6Z1MNNd\n",
      "2022-04-07 18:20:08\n",
      "@DBurkland @Tesla @gg4175 @TeslaChillMode @TeslaOwnersEBay @teslaownersSV @BLKMDL3 @MFrunker The door won’t be super strict\n",
      "2022-04-07 18:04:56\n",
      "https://t.co/ft2zujMvkK\n",
      "2022-04-07 16:17:19\n",
      "Preparing … https://t.co/Rb21R1ZDhN\n",
      "2022-04-07 16:16:04\n",
      "https://t.co/wvJ66Yr1Wj\n",
      "2022-04-07 16:14:07\n",
      "I will give a talk around 9\n",
      "2022-04-07 15:34:19\n",
      "🇺🇸🇺🇸 Gigafactory Texas 🇺🇸🇺🇸\n",
      "\n",
      "Grand opening party tomorrow!\n",
      "\n",
      "Doors open at 4, festivities at 8\n",
      "2022-04-07 15:29:24\n",
      "@remedygames Great games\n",
      "2022-04-07 07:42:58\n",
      "@StockMKTNewz No sale took place. Initial share number filed was incorrect.\n",
      "2022-04-07 06:40:17\n",
      "@Teslarati @KlenderJoey …\n",
      "2022-04-07 06:38:20\n",
      "@RealWheelieman @WholeMarsBlog Increasingly likely that the Tesla vehicle computer will be able to process 288 FPS (36 Hz * 8 cameras)\n",
      "2022-04-06 22:29:53\n",
      "@RealWheelieman @WholeMarsBlog 10.12 will significantly improve unprotected left turns\n",
      "2022-04-06 22:26:46\n",
      "@Rainmaker1973 The power used by humans is so tiny compared to how much power from the Sun reaches Earth!\n",
      "\n",
      "Solar power is ~1GW per sq km. At current solar efficiency, net electrical power is ~200 MW per square km.\n",
      "\n",
      "The entire United States can be powered by a small corner of Texas.\n",
      "2022-04-06 22:23:04\n",
      "RT @SpaceX: Falcon 9 and Dragon vertical at 39A; targeting Friday, April 8 for launch of Ax-1 → https://t.co/sIz9U6NRxT https://t.co/NSJqo3…\n",
      "2022-04-06 14:34:26\n",
      "@pmarca @skepticaliblog Yikes\n",
      "2022-04-06 07:25:28\n",
      "@pmarca WaPo always good for a laugh 🤣🤣\n",
      "2022-04-06 04:59:56\n",
      "@jack Thanks Jack!\n",
      "2022-04-06 04:53:45\n",
      "@paraga Looking forward to working with Parag &amp; Twitter board to make significant improvements to Twitter in coming months!\n",
      "2022-04-05 22:39:34\n",
      "@PPathole @Erdayastronaut Yeah, single most annoying problem on twitter imo\n",
      "2022-04-05 16:32:39\n",
      "@Erdayastronaut That sounds reasonable\n",
      "2022-04-05 15:38:54\n",
      "@boztank @Liz_Wheeler Facebook gives me the willies\n",
      "2022-04-05 14:56:59\n",
      "@OstynHyss @stevenmarkryan That is harder than a boss battle in DS3!\n",
      "2022-04-05 14:07:30\n",
      "@stevenmarkryan I mean, if the people vote overwhelmingly for something, it is at least *a* data point!\n",
      "2022-04-05 14:02:51\n",
      "Do you want an edit button?\n",
      "2022-04-05 10:48:06\n",
      "@hausman_k @GoogleAI Staggeringly unfunny\n",
      "2022-04-05 07:42:01\n",
      "@WholeMarsBlog First I’ve learned of this. Will be patched shortly.\n",
      "2022-04-05 07:38:39\n",
      "@jonas2man @slashdot Yes!\n",
      "2022-04-05 07:36:53\n",
      "@slashdot Spain should build a massive solar array. Could power all of Europe.\n",
      "2022-04-05 03:33:45\n",
      "Oh hi lol\n",
      "2022-04-05 02:04:49\n",
      "Berlin rocks\n",
      "2022-04-04 06:10:23\n",
      "@Erdayastronaut @Tesla Raptor pump power is over 100MW per engine &amp; 33 engines, means over 3GW. Not even remotely possible for electric motors &amp; batteries to compete.\n",
      "2022-04-04 05:03:17\n",
      "@GerberKawasaki We aim for 30% GM or ~10% profitability, all costs included\n",
      "2022-04-04 04:51:00\n",
      "@PopMech Good summary\n",
      "2022-04-03 19:46:05\n",
      "https://t.co/VlIZsJyH4F\n",
      "2022-04-03 19:14:40\n",
      "@JuicyCreativ3 George Lucas once told me that the only reason Star Wars got made is because the old studio heads died\n",
      "2022-04-03 17:16:12\n",
      "@JuicyCreativ3 Old people don’t change their minds, with rare exception, they just die. Without death, there would not be change.\n",
      "2022-04-03 17:15:02\n",
      "I am inspired by curiosity. \n",
      "\n",
      "That is what drives me. \n",
      "\n",
      "So let us expand the scope &amp; scale of consciousness so that we may aspire to understand the Universe.\n",
      "2022-04-03 16:54:15\n",
      "@WholeMarsBlog There will come a time in the future where people will be surprised that we let practically anyone drive a 2 ton death machine anywhere they want\n",
      "2022-04-03 16:22:34\n",
      "Peace. Peace?  I hate the word. Those who do care about peace (myself aspirationally included) don’t need to hear it. And those who don’t care about peace? Well …\n",
      "2022-04-03 16:19:29\n",
      "https://t.co/MWjY9GBRUh\n",
      "2022-04-03 15:45:19\n",
      "@Kristennetten @PPathole @engineers_feed I look kinda dumb in that pic haha\n",
      "2022-04-03 15:39:18\n",
      "@PPathole @engineers_feed And Shakespeare had no surviving descendants\n",
      "2022-04-03 15:20:46\n",
      "@pmarca I am increasingly convinced that corporate ESG is the Devil Incarnate\n",
      "2022-04-03 15:14:11\n",
      "@engineers_feed He never had even one kid 😞\n",
      "2022-04-03 15:11:41\n",
      "@lexfridman Seriously. One of them might been Einstein!\n",
      "2022-04-03 15:08:47\n",
      "@GailAlfarATX @SpaceX @latestinspace @4thFromOurStar @cnunezimages @jessica_kirsh @JoeTegtmeyer @redditSpacePorn @Tesla @OwenSparks_ Константи́н Циолко́вский\n",
      "2022-04-03 15:06:52\n",
      "https://t.co/6UIhHHtQyc\n",
      "2022-04-03 15:00:17\n",
      "I’m talking about not having kids in the first place. That’s the problem.\n",
      "2022-04-03 14:58:37\n"
     ]
    }
   ],
   "source": [
    "for tweet in tweets:\n",
    "    print(tweet.text)\n",
    "    print(convert_id_to_date(tweet.id))\n",
    "    "
   ]
  },
  {
   "cell_type": "code",
   "execution_count": 14,
   "id": "5f4d1703-e77c-4f24-83f2-078e10148c34",
   "metadata": {},
   "outputs": [
    {
     "ename": "TypeError",
     "evalue": "get_tweets() missing 1 required positional argument: 'tweet_ids'",
     "output_type": "error",
     "traceback": [
      "\u001b[1;31m---------------------------------------------------------------------------\u001b[0m",
      "\u001b[1;31mTypeError\u001b[0m                                 Traceback (most recent call last)",
      "\u001b[1;32m~\\AppData\\Local\\Temp\\ipykernel_34692\\3394987720.py\u001b[0m in \u001b[0;36m<module>\u001b[1;34m\u001b[0m\n\u001b[1;32m----> 1\u001b[1;33m \u001b[0mbearer_token\u001b[0m\u001b[1;33m.\u001b[0m\u001b[0mget_tweets\u001b[0m\u001b[1;33m(\u001b[0m\u001b[1;33m)\u001b[0m\u001b[1;33m\u001b[0m\u001b[1;33m\u001b[0m\u001b[0m\n\u001b[0m",
      "\u001b[1;31mTypeError\u001b[0m: get_tweets() missing 1 required positional argument: 'tweet_ids'"
     ]
    }
   ],
   "source": [
    "bearer_token.get_tweets()"
   ]
  },
  {
   "cell_type": "code",
   "execution_count": 10,
   "id": "d802c7eb-a48d-48df-958b-5330b5e46f25",
   "metadata": {},
   "outputs": [
    {
     "data": {
      "text/plain": [
       "Response(data=[Tweet(id=1261326399320715264, text=Tune in to the @MongoDB @Twitch stream...), Tweet(id=1278347468690915330, text=Good news and bad news: 2020 is half over)])"
      ]
     },
     "execution_count": 10,
     "metadata": {},
     "output_type": "execute_result"
    }
   ],
   "source": [
    "bearer_token.get_tweets([\"1261326399320715264\",\"1278347468690915330\"],expansions=\"author_id\",tweet_fields=[\"created_at\"], user_fields=[\"username\",\"verified\"])"
   ]
  },
  {
   "cell_type": "code",
   "execution_count": null,
   "id": "9cf90d85-1715-4134-a3c8-17c3de22e400",
   "metadata": {},
   "outputs": [],
   "source": [
    "# Call a Tweet\n",
    "\n",
    "bearer_token.get_tweet(\"1354143047324299264\", expansions=[\"attachments.media_keys\"], media_fields=[\"type\",\"duration_ms\"])"
   ]
  },
  {
   "cell_type": "code",
   "execution_count": null,
   "id": "ebe91859-9ff6-46aa-8d24-02f5e3a0399d",
   "metadata": {},
   "outputs": [],
   "source": [
    "tweetCriteria = got.manager.TweetCriteria().setUsername('barackobama').setMaxTweets(1)\n",
    "tweet = got.manager.TweetManager.getTweets(tweetCriteria)[0]"
   ]
  },
  {
   "cell_type": "code",
   "execution_count": null,
   "id": "d2b320c9-e902-4ff2-b7bc-69df003f78c2",
   "metadata": {},
   "outputs": [],
   "source": [
    "print tweet.text"
   ]
  }
 ],
 "metadata": {
  "kernelspec": {
   "display_name": "Python [conda env:mlenv]",
   "language": "python",
   "name": "conda-env-mlenv-py"
  },
  "language_info": {
   "codemirror_mode": {
    "name": "ipython",
    "version": 3
   },
   "file_extension": ".py",
   "mimetype": "text/x-python",
   "name": "python",
   "nbconvert_exporter": "python",
   "pygments_lexer": "ipython3",
   "version": "3.7.11"
  }
 },
 "nbformat": 4,
 "nbformat_minor": 5
}
