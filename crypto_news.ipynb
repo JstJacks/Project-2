{
 "cells": [
  {
   "cell_type": "markdown",
   "id": "3378c03e",
   "metadata": {},
   "source": [
    "# Crypto News (Historical) via Alpaca Trade API"
   ]
  },
  {
   "cell_type": "code",
   "execution_count": 1,
   "id": "260d8a48",
   "metadata": {},
   "outputs": [],
   "source": [
    "# Initial imports\n",
    "import os\n",
    "import requests\n",
    "import pandas as pd\n",
    "from datetime import datetime, timedelta\n",
    "from dotenv import load_dotenv\n",
    "import alpaca_trade_api as tradeapi\n",
    "from alpaca_trade_api.rest import REST, TimeFrame, TimeFrameUnit\n",
    "import nltk as nltk\n",
    "from nltk.sentiment.vader import SentimentIntensityAnalyzer\n",
    "import matplotlib.pyplot as plt\n",
    "import dataframe_image as dfi\n",
    "\n",
    "%matplotlib inline"
   ]
  },
  {
   "cell_type": "code",
   "execution_count": 2,
   "id": "475f2f9b",
   "metadata": {},
   "outputs": [],
   "source": [
    "# Load .env enviroment variables\n",
    "load_dotenv()\n",
    "\n",
    "# Set Alpaca API key and secret\n",
    "alpaca_api_key = os.getenv(\"ALPACA_API_KEY\")\n",
    "alpaca_secret_key = os.getenv(\"ALPACA_SECRET_KEY\")\n",
    "\n",
    "# Create Alpaca Trade API client\n",
    "api = tradeapi.REST(alpaca_api_key, alpaca_secret_key, api_version='v2')"
   ]
  },
  {
   "cell_type": "code",
   "execution_count": 3,
   "id": "c575ab81",
   "metadata": {},
   "outputs": [],
   "source": [
    "# Fetch json data\n",
    "url     = 'https://data.alpaca.markets/v1beta1/news?end=2022-10-04T11:59:59Z&symbols=COIN,BTCUSD&include_content=True'\n",
    "#payload = { 'key' : 'val' }\n",
    "headers = {'Apca-Api-Key-Id': \"PK2WA1GYRO281K7F855F\",\n",
    "            'Apca-Api-Secret-Key':\"DjgIrZMUgqsL7E95XV4WU9fi7Lc4441WkL8ylWM6\"}"
   ]
  },
  {
   "cell_type": "code",
   "execution_count": 4,
   "id": "cd947e8c",
   "metadata": {},
   "outputs": [
    {
     "data": {
      "text/html": [
       "<div>\n",
       "<style scoped>\n",
       "    .dataframe tbody tr th:only-of-type {\n",
       "        vertical-align: middle;\n",
       "    }\n",
       "\n",
       "    .dataframe tbody tr th {\n",
       "        vertical-align: top;\n",
       "    }\n",
       "\n",
       "    .dataframe thead th {\n",
       "        text-align: right;\n",
       "    }\n",
       "</style>\n",
       "<table border=\"1\" class=\"dataframe\">\n",
       "  <thead>\n",
       "    <tr style=\"text-align: right;\">\n",
       "      <th></th>\n",
       "      <th>news</th>\n",
       "      <th>next_page_token</th>\n",
       "    </tr>\n",
       "  </thead>\n",
       "  <tbody>\n",
       "    <tr>\n",
       "      <th>5</th>\n",
       "      <td>{'id': 26626492, 'headline': 'Top News In Fint...</td>\n",
       "      <td>MTY0OTg2Njg0MDAwMDAwMDAwMHwyNjYxMzUwMw==</td>\n",
       "    </tr>\n",
       "    <tr>\n",
       "      <th>6</th>\n",
       "      <td>{'id': 26625275, 'headline': 'Why Bitcoin-, Et...</td>\n",
       "      <td>MTY0OTg2Njg0MDAwMDAwMDAwMHwyNjYxMzUwMw==</td>\n",
       "    </tr>\n",
       "    <tr>\n",
       "      <th>7</th>\n",
       "      <td>{'id': 26625336, 'headline': 'The Company Bob ...</td>\n",
       "      <td>MTY0OTg2Njg0MDAwMDAwMDAwMHwyNjYxMzUwMw==</td>\n",
       "    </tr>\n",
       "    <tr>\n",
       "      <th>8</th>\n",
       "      <td>{'id': 26623643, 'headline': 'American Airline...</td>\n",
       "      <td>MTY0OTg2Njg0MDAwMDAwMDAwMHwyNjYxMzUwMw==</td>\n",
       "    </tr>\n",
       "    <tr>\n",
       "      <th>9</th>\n",
       "      <td>{'id': 26613503, 'headline': 'Here's How Maste...</td>\n",
       "      <td>MTY0OTg2Njg0MDAwMDAwMDAwMHwyNjYxMzUwMw==</td>\n",
       "    </tr>\n",
       "  </tbody>\n",
       "</table>\n",
       "</div>"
      ],
      "text/plain": [
       "                                                news  \\\n",
       "5  {'id': 26626492, 'headline': 'Top News In Fint...   \n",
       "6  {'id': 26625275, 'headline': 'Why Bitcoin-, Et...   \n",
       "7  {'id': 26625336, 'headline': 'The Company Bob ...   \n",
       "8  {'id': 26623643, 'headline': 'American Airline...   \n",
       "9  {'id': 26613503, 'headline': 'Here's How Maste...   \n",
       "\n",
       "                            next_page_token  \n",
       "5  MTY0OTg2Njg0MDAwMDAwMDAwMHwyNjYxMzUwMw==  \n",
       "6  MTY0OTg2Njg0MDAwMDAwMDAwMHwyNjYxMzUwMw==  \n",
       "7  MTY0OTg2Njg0MDAwMDAwMDAwMHwyNjYxMzUwMw==  \n",
       "8  MTY0OTg2Njg0MDAwMDAwMDAwMHwyNjYxMzUwMw==  \n",
       "9  MTY0OTg2Njg0MDAwMDAwMDAwMHwyNjYxMzUwMw==  "
      ]
     },
     "execution_count": 4,
     "metadata": {},
     "output_type": "execute_result"
    }
   ],
   "source": [
    "# Create dataframe\n",
    "res = requests.get(url, headers=headers)\n",
    "data = res.json()\n",
    "crypto_news_df = pd.DataFrame.from_dict(data)\n",
    "crypto_news_df.tail()"
   ]
  }
 ],
 "metadata": {
  "kernelspec": {
   "display_name": "Python 3 (ipykernel)",
   "language": "python",
   "name": "python3"
  },
  "language_info": {
   "codemirror_mode": {
    "name": "ipython",
    "version": 3
   },
   "file_extension": ".py",
   "mimetype": "text/x-python",
   "name": "python",
   "nbconvert_exporter": "python",
   "pygments_lexer": "ipython3",
   "version": "3.9.7"
  }
 },
 "nbformat": 4,
 "nbformat_minor": 5
}
