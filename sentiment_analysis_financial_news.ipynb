{
 "cells": [
  {
   "cell_type": "markdown",
   "id": "6658da65-1a08-4fe4-b5ef-9e310a55d90f",
   "metadata": {},
   "source": [
    "# Sentiments Analysis of Financial News with News API and Transformers"
   ]
  },
  {
   "cell_type": "code",
   "execution_count": null,
   "id": "71ae24d2-e9ad-42f9-b0ee-7daee2a6b4b2",
   "metadata": {},
   "outputs": [],
   "source": [
    "# Initial Imports \n",
    "import os\n",
    "import pandas as pd\n",
    "from datetime import datetime, timedelta\n",
    "import hvplot.pandas \n",
    "import numpy as np\n",
    "from pathlib import Path \n",
    "import requests\n",
    "import plotly.graph_objects as go\n",
    "import plotly.express as px\n",
    "import matplotlib.pyplot as plt\n",
    "import logging\n",
    "\n",
    "# Dot ENV\n",
    "from dotenv import load_dotenv\n",
    "\n",
    "# Jupyter Widgets \n",
    "import ipywidgets as widgets\n",
    "from IPython.display import display\n",
    "\n",
    "# Alpaca Trade API  \n",
    "import alpaca_trade_api as tradeapi\n",
    "import alpaca_trade_api as api\n",
    "from alpaca_trade_api.rest import REST, TimeFrame, TimeFrameUnit, URL\n",
    "\n",
    "%matplotlib inline"
   ]
  },
  {
   "cell_type": "code",
   "execution_count": null,
   "id": "e90f8ed3-53e2-4ccc-8eb4-31452368ccf2",
   "metadata": {},
   "outputs": [],
   "source": [
    "# Load .env enviroment variables\n",
    "load_dotenv()\n",
    "\n",
    "# Set Alpaca API key and secret\n",
    "alpaca_api_key = os.getenv(\"ALPACA_API_KEY\")\n",
    "alpaca_secret_key = os.getenv(\"ALPACA_SECRET_KEY\")\n",
    "\n",
    "# Create Alpaca Trade API client\n",
    "rest_client = REST(alpaca_api_key, alpaca_secret_key)"
   ]
  },
  {
   "cell_type": "code",
   "execution_count": null,
   "id": "b1fe11a9-0b3e-48c2-a4a2-a653072a4516",
   "metadata": {},
   "outputs": [],
   "source": [
    "news = rest_client.get_news(\"AAPL\", \"2021-01-01\", \"2021-12-31\")"
   ]
  },
  {
   "cell_type": "code",
   "execution_count": null,
   "id": "688bbc6c-69e5-4365-a347-7d35bef579d6",
   "metadata": {},
   "outputs": [],
   "source": [
    "stream_client = Stream(API_KEY, API_SECRET)"
   ]
  },
  {
   "cell_type": "code",
   "execution_count": null,
   "id": "b936eaa1-2150-46c9-b74a-7adec32eb20b",
   "metadata": {},
   "outputs": [],
   "source": [
    "async def news_data_handler(news):\n",
    "\t\"\"\"Will fire each time news data is published\n",
    "\t\"\"\"\n",
    "\tprint(news)\n",
    "\n",
    "stream_client.subscribe_news(news_data_handler, \"AAPL\")\n",
    "\n",
    "stream_client.run()"
   ]
  },
  {
   "cell_type": "code",
   "execution_count": null,
   "id": "5fb14a3b-a35b-4af5-9042-dce9f6ed2cc2",
   "metadata": {},
   "outputs": [],
   "source": [
    "from transformers import pipeline"
   ]
  },
  {
   "cell_type": "code",
   "execution_count": null,
   "id": "bc3d7ee1-8970-4c36-b253-0eaad8cc2a45",
   "metadata": {},
   "outputs": [],
   "source": [
    "classifier = pipeline('sentiment-analysis')\n",
    "\n",
    "async def news_data_handler(news):\n",
    "\t\"\"\"Will fire each time news data is published\n",
    "\t\"\"\"\n",
    "      summary = news.summary\n",
    "      headline = news.headline\n",
    "\n",
    "      relevant_text = summary + headline\n",
    "      sentiment = classifier(relevant_text)\n",
    "\t\n",
    "      if sentiment[‘label’] === ‘POSITIVE’ and sentiment[‘score’] > 0.95:\n",
    "         rest_client.submit_order(“AAPL”, 100)\n",
    "         \n",
    "      elif sentiment[‘label’] === ‘NEGATIVE’ and sentiment[‘score’] > 0.95:\n",
    "         rest_client.submit_order(“AAPL”, -100)\n",
    "\n",
    "stream_client.subscribe_news(news_data_handler, \"AAPL\")\n",
    "\n",
    "stream_client.run()"
   ]
  }
 ],
 "metadata": {
  "kernelspec": {
   "display_name": "Python 3 (ipykernel)",
   "language": "python",
   "name": "python3"
  },
  "language_info": {
   "codemirror_mode": {
    "name": "ipython",
    "version": 3
   },
   "file_extension": ".py",
   "mimetype": "text/x-python",
   "name": "python",
   "nbconvert_exporter": "python",
   "pygments_lexer": "ipython3",
   "version": "3.7.11"
  }
 },
 "nbformat": 4,
 "nbformat_minor": 5
}
