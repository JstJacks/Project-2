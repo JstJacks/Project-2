{
 "cells": [
  {
   "cell_type": "markdown",
   "id": "794035c4-f784-4a09-99e3-f0df9898de7c",
   "metadata": {},
   "source": [
    "# Quantitative Analysis of S&P500\n",
    "### (via Alpaca Trade API)"
   ]
  },
  {
   "cell_type": "code",
   "execution_count": 7,
   "id": "929c1e1e-11b1-48f2-9d90-ee21d515b923",
   "metadata": {},
   "outputs": [],
   "source": [
    "# Initial imports\n",
    "import os\n",
    "import requests\n",
    "import plotly.graph_objects as go\n",
    "import plotly.express as px\n",
    "import pandas as pd\n",
    "from datetime import datetime, timedelta\n",
    "from dotenv import load_dotenv\n",
    "import alpaca_trade_api as tradeapi\n",
    "from alpaca_trade_api.rest import REST, TimeFrame, TimeFrameUnit\n",
    "import nltk as nltk\n",
    "from nltk.sentiment.vader import SentimentIntensityAnalyzer\n",
    "import matplotlib.pyplot as plt\n",
    "import dataframe_image as dfi\n",
    "\n",
    "%matplotlib inline"
   ]
  },
  {
   "cell_type": "code",
   "execution_count": 9,
   "id": "c99c340a-44a0-44f2-a167-08213fe8d64d",
   "metadata": {},
   "outputs": [],
   "source": [
    "# API's \n",
    "API_KEY  = 'PK2WA1GYRO281K7F855F'\n",
    "SECRET_KEY = 'DjgIrZMUgqsL7E95XV4WU9fi7Lc4441WkL8ylWM6'\n",
    "\n",
    "# URL\n",
    "url = 'https://data.alpaca.markets/v2'\n",
    "\n",
    "# Rest API\n",
    "rest_api = REST(API_KEY, SECRET_KEY, 'https://data.alpaca.markets/v2')"
   ]
  },
  {
   "cell_type": "code",
   "execution_count": 10,
   "id": "c21078e5-769a-44e6-bbfb-6dec34a99679",
   "metadata": {},
   "outputs": [
    {
     "data": {
      "text/html": [
       "<div>\n",
       "<style scoped>\n",
       "    .dataframe tbody tr th:only-of-type {\n",
       "        vertical-align: middle;\n",
       "    }\n",
       "\n",
       "    .dataframe tbody tr th {\n",
       "        vertical-align: top;\n",
       "    }\n",
       "\n",
       "    .dataframe thead th {\n",
       "        text-align: right;\n",
       "    }\n",
       "</style>\n",
       "<table border=\"1\" class=\"dataframe\">\n",
       "  <thead>\n",
       "    <tr style=\"text-align: right;\">\n",
       "      <th></th>\n",
       "      <th>open</th>\n",
       "      <th>high</th>\n",
       "      <th>low</th>\n",
       "      <th>close</th>\n",
       "      <th>volume</th>\n",
       "      <th>trade_count</th>\n",
       "      <th>vwap</th>\n",
       "    </tr>\n",
       "    <tr>\n",
       "      <th>timestamp</th>\n",
       "      <th></th>\n",
       "      <th></th>\n",
       "      <th></th>\n",
       "      <th></th>\n",
       "      <th></th>\n",
       "      <th></th>\n",
       "      <th></th>\n",
       "    </tr>\n",
       "  </thead>\n",
       "  <tbody>\n",
       "    <tr>\n",
       "      <th>2021-01-04 05:00:00+00:00</th>\n",
       "      <td>375.30</td>\n",
       "      <td>375.45</td>\n",
       "      <td>364.82</td>\n",
       "      <td>368.79</td>\n",
       "      <td>110311999</td>\n",
       "      <td>623066</td>\n",
       "      <td>369.335676</td>\n",
       "    </tr>\n",
       "    <tr>\n",
       "      <th>2021-01-05 05:00:00+00:00</th>\n",
       "      <td>368.05</td>\n",
       "      <td>372.50</td>\n",
       "      <td>368.05</td>\n",
       "      <td>371.33</td>\n",
       "      <td>66435029</td>\n",
       "      <td>338927</td>\n",
       "      <td>370.390186</td>\n",
       "    </tr>\n",
       "    <tr>\n",
       "      <th>2021-01-06 05:00:00+00:00</th>\n",
       "      <td>369.67</td>\n",
       "      <td>376.98</td>\n",
       "      <td>369.12</td>\n",
       "      <td>373.55</td>\n",
       "      <td>108007146</td>\n",
       "      <td>575347</td>\n",
       "      <td>373.807251</td>\n",
       "    </tr>\n",
       "    <tr>\n",
       "      <th>2021-01-07 05:00:00+00:00</th>\n",
       "      <td>376.18</td>\n",
       "      <td>379.90</td>\n",
       "      <td>375.91</td>\n",
       "      <td>379.10</td>\n",
       "      <td>68801420</td>\n",
       "      <td>366626</td>\n",
       "      <td>378.249233</td>\n",
       "    </tr>\n",
       "    <tr>\n",
       "      <th>2021-01-08 05:00:00+00:00</th>\n",
       "      <td>380.63</td>\n",
       "      <td>381.49</td>\n",
       "      <td>377.10</td>\n",
       "      <td>381.26</td>\n",
       "      <td>71677308</td>\n",
       "      <td>391944</td>\n",
       "      <td>380.111637</td>\n",
       "    </tr>\n",
       "  </tbody>\n",
       "</table>\n",
       "</div>"
      ],
      "text/plain": [
       "                             open    high     low   close     volume  \\\n",
       "timestamp                                                              \n",
       "2021-01-04 05:00:00+00:00  375.30  375.45  364.82  368.79  110311999   \n",
       "2021-01-05 05:00:00+00:00  368.05  372.50  368.05  371.33   66435029   \n",
       "2021-01-06 05:00:00+00:00  369.67  376.98  369.12  373.55  108007146   \n",
       "2021-01-07 05:00:00+00:00  376.18  379.90  375.91  379.10   68801420   \n",
       "2021-01-08 05:00:00+00:00  380.63  381.49  377.10  381.26   71677308   \n",
       "\n",
       "                           trade_count        vwap  \n",
       "timestamp                                           \n",
       "2021-01-04 05:00:00+00:00       623066  369.335676  \n",
       "2021-01-05 05:00:00+00:00       338927  370.390186  \n",
       "2021-01-06 05:00:00+00:00       575347  373.807251  \n",
       "2021-01-07 05:00:00+00:00       366626  378.249233  \n",
       "2021-01-08 05:00:00+00:00       391944  380.111637  "
      ]
     },
     "execution_count": 10,
     "metadata": {},
     "output_type": "execute_result"
    }
   ],
   "source": [
    "# Retrieve daily bar data for SPY in a dataframe \n",
    "spy_bars = rest_api.get_bars('SPY', TimeFrame.Day, '2021-01-01', '2021-03-30').df\n",
    "spy_bars.head()"
   ]
  },
  {
   "cell_type": "code",
   "execution_count": 38,
   "id": "f0646d4e",
   "metadata": {},
   "outputs": [
    {
     "data": {
      "application/vnd.plotly.v1+json": {
       "config": {
        "plotlyServerURL": "https://plotly.com"
       },
       "data": [
        {
         "close": [
          368.79,
          371.33,
          373.55,
          379.1,
          381.26,
          378.69,
          378.77,
          379.79,
          378.46,
          375.7,
          378.65,
          383.89,
          384.24,
          382.88,
          384.39,
          383.79,
          374.41,
          377.63,
          370.07,
          376.23,
          381.55,
          381.85,
          386.19,
          387.71,
          390.51,
          390.25,
          390.08,
          390.71,
          392.64,
          392.3,
          392.39,
          390.72,
          390.03,
          387.03,
          387.5,
          391.77,
          382.33,
          380.36,
          389.58,
          386.54,
          381.42,
          376.7,
          383.63,
          381.72,
          387.17,
          389.58,
          393.53,
          394.06,
          396.41,
          395.91,
          397.26,
          391.48,
          389.48,
          392.59,
          389.5,
          387.52,
          389.7,
          395.98,
          395.78,
          394.73
         ],
         "high": [
          375.45,
          372.5,
          376.98,
          379.9,
          381.49,
          380.58,
          379.86,
          380.86,
          381.13,
          377.58,
          379.23,
          384.79,
          384.95,
          384.1256,
          384.77,
          385.85,
          380.32,
          381.93,
          376.67,
          377.34,
          383.22,
          383.7,
          386.24,
          388.47,
          390.56,
          390.89,
          392.28,
          391.69,
          392.9,
          394.17,
          392.66,
          391.515,
          392.38,
          389.62,
          388.945,
          392.23,
          391.88,
          385.58,
          390.92,
          390.07,
          386.83,
          384,
          384.76,
          387.68,
          389.91,
          391.4,
          395.65,
          394.21,
          396.685,
          397.83,
          398.12,
          396.72,
          391.569,
          394.07,
          393.46,
          392.75,
          390.55,
          396.41,
          396.75,
          395.45
         ],
         "low": [
          364.82,
          368.05,
          369.12,
          375.91,
          377.1,
          377.7189,
          376.36,
          377.85,
          378.1,
          373.7,
          376.75,
          380.69,
          383.25,
          381.835,
          378.46,
          383.54,
          372.01,
          375.89,
          368.27,
          370.376,
          376.3181,
          380.48,
          381.9655,
          386.1444,
          388.35,
          389.17,
          387.5,
          388.1,
          389.77,
          391.53,
          389.33,
          387.74,
          389.55,
          386.74,
          380.2,
          385.27,
          380.7789,
          378.23,
          380.572,
          386,
          381.31,
          371.88,
          372.64,
          381.42,
          381.7299,
          388.1702,
          391.74,
          391.2,
          392.03,
          395.08,
          393.3,
          390.75,
          387.15,
          389.97,
          388.66,
          387.47,
          383.9,
          390.29,
          392.81,
          393.02
         ],
         "open": [
          375.3,
          368.05,
          369.67,
          376.18,
          380.63,
          377.84,
          378.84,
          378.65,
          380.63,
          376.71,
          378.24,
          381.1,
          384.5,
          382.24,
          383.6,
          385.41,
          380.24,
          376.27,
          375.57,
          373.84,
          379.68,
          382.43,
          383.03,
          388.27,
          389.3,
          389.55,
          392.1,
          391.34,
          389.88,
          394.06,
          390.43,
          389.56,
          392.1,
          387.06,
          384.72,
          386.23,
          390.51,
          384.44,
          385.65,
          389.87,
          385.83,
          381.22,
          380.41,
          384.69,
          385.88,
          389.59,
          392.24,
          392.09,
          394.4,
          397.06,
          394.56,
          394.49,
          389.94,
          390.01,
          391.89,
          390.92,
          385.99,
          390.98,
          394.35,
          394.35
         ],
         "type": "candlestick",
         "x": [
          "2021-01-04T05:00:00+00:00",
          "2021-01-05T05:00:00+00:00",
          "2021-01-06T05:00:00+00:00",
          "2021-01-07T05:00:00+00:00",
          "2021-01-08T05:00:00+00:00",
          "2021-01-11T05:00:00+00:00",
          "2021-01-12T05:00:00+00:00",
          "2021-01-13T05:00:00+00:00",
          "2021-01-14T05:00:00+00:00",
          "2021-01-15T05:00:00+00:00",
          "2021-01-19T05:00:00+00:00",
          "2021-01-20T05:00:00+00:00",
          "2021-01-21T05:00:00+00:00",
          "2021-01-22T05:00:00+00:00",
          "2021-01-25T05:00:00+00:00",
          "2021-01-26T05:00:00+00:00",
          "2021-01-27T05:00:00+00:00",
          "2021-01-28T05:00:00+00:00",
          "2021-01-29T05:00:00+00:00",
          "2021-02-01T05:00:00+00:00",
          "2021-02-02T05:00:00+00:00",
          "2021-02-03T05:00:00+00:00",
          "2021-02-04T05:00:00+00:00",
          "2021-02-05T05:00:00+00:00",
          "2021-02-08T05:00:00+00:00",
          "2021-02-09T05:00:00+00:00",
          "2021-02-10T05:00:00+00:00",
          "2021-02-11T05:00:00+00:00",
          "2021-02-12T05:00:00+00:00",
          "2021-02-16T05:00:00+00:00",
          "2021-02-17T05:00:00+00:00",
          "2021-02-18T05:00:00+00:00",
          "2021-02-19T05:00:00+00:00",
          "2021-02-22T05:00:00+00:00",
          "2021-02-23T05:00:00+00:00",
          "2021-02-24T05:00:00+00:00",
          "2021-02-25T05:00:00+00:00",
          "2021-02-26T05:00:00+00:00",
          "2021-03-01T05:00:00+00:00",
          "2021-03-02T05:00:00+00:00",
          "2021-03-03T05:00:00+00:00",
          "2021-03-04T05:00:00+00:00",
          "2021-03-05T05:00:00+00:00",
          "2021-03-08T05:00:00+00:00",
          "2021-03-09T05:00:00+00:00",
          "2021-03-10T05:00:00+00:00",
          "2021-03-11T05:00:00+00:00",
          "2021-03-12T05:00:00+00:00",
          "2021-03-15T04:00:00+00:00",
          "2021-03-16T04:00:00+00:00",
          "2021-03-17T04:00:00+00:00",
          "2021-03-18T04:00:00+00:00",
          "2021-03-19T04:00:00+00:00",
          "2021-03-22T04:00:00+00:00",
          "2021-03-23T04:00:00+00:00",
          "2021-03-24T04:00:00+00:00",
          "2021-03-25T04:00:00+00:00",
          "2021-03-26T04:00:00+00:00",
          "2021-03-29T04:00:00+00:00",
          "2021-03-30T04:00:00+00:00"
         ]
        }
       ],
       "layout": {
        "template": {
         "data": {
          "bar": [
           {
            "error_x": {
             "color": "#2a3f5f"
            },
            "error_y": {
             "color": "#2a3f5f"
            },
            "marker": {
             "line": {
              "color": "#E5ECF6",
              "width": 0.5
             },
             "pattern": {
              "fillmode": "overlay",
              "size": 10,
              "solidity": 0.2
             }
            },
            "type": "bar"
           }
          ],
          "barpolar": [
           {
            "marker": {
             "line": {
              "color": "#E5ECF6",
              "width": 0.5
             },
             "pattern": {
              "fillmode": "overlay",
              "size": 10,
              "solidity": 0.2
             }
            },
            "type": "barpolar"
           }
          ],
          "carpet": [
           {
            "aaxis": {
             "endlinecolor": "#2a3f5f",
             "gridcolor": "white",
             "linecolor": "white",
             "minorgridcolor": "white",
             "startlinecolor": "#2a3f5f"
            },
            "baxis": {
             "endlinecolor": "#2a3f5f",
             "gridcolor": "white",
             "linecolor": "white",
             "minorgridcolor": "white",
             "startlinecolor": "#2a3f5f"
            },
            "type": "carpet"
           }
          ],
          "choropleth": [
           {
            "colorbar": {
             "outlinewidth": 0,
             "ticks": ""
            },
            "type": "choropleth"
           }
          ],
          "contour": [
           {
            "colorbar": {
             "outlinewidth": 0,
             "ticks": ""
            },
            "colorscale": [
             [
              0,
              "#0d0887"
             ],
             [
              0.1111111111111111,
              "#46039f"
             ],
             [
              0.2222222222222222,
              "#7201a8"
             ],
             [
              0.3333333333333333,
              "#9c179e"
             ],
             [
              0.4444444444444444,
              "#bd3786"
             ],
             [
              0.5555555555555556,
              "#d8576b"
             ],
             [
              0.6666666666666666,
              "#ed7953"
             ],
             [
              0.7777777777777778,
              "#fb9f3a"
             ],
             [
              0.8888888888888888,
              "#fdca26"
             ],
             [
              1,
              "#f0f921"
             ]
            ],
            "type": "contour"
           }
          ],
          "contourcarpet": [
           {
            "colorbar": {
             "outlinewidth": 0,
             "ticks": ""
            },
            "type": "contourcarpet"
           }
          ],
          "heatmap": [
           {
            "colorbar": {
             "outlinewidth": 0,
             "ticks": ""
            },
            "colorscale": [
             [
              0,
              "#0d0887"
             ],
             [
              0.1111111111111111,
              "#46039f"
             ],
             [
              0.2222222222222222,
              "#7201a8"
             ],
             [
              0.3333333333333333,
              "#9c179e"
             ],
             [
              0.4444444444444444,
              "#bd3786"
             ],
             [
              0.5555555555555556,
              "#d8576b"
             ],
             [
              0.6666666666666666,
              "#ed7953"
             ],
             [
              0.7777777777777778,
              "#fb9f3a"
             ],
             [
              0.8888888888888888,
              "#fdca26"
             ],
             [
              1,
              "#f0f921"
             ]
            ],
            "type": "heatmap"
           }
          ],
          "heatmapgl": [
           {
            "colorbar": {
             "outlinewidth": 0,
             "ticks": ""
            },
            "colorscale": [
             [
              0,
              "#0d0887"
             ],
             [
              0.1111111111111111,
              "#46039f"
             ],
             [
              0.2222222222222222,
              "#7201a8"
             ],
             [
              0.3333333333333333,
              "#9c179e"
             ],
             [
              0.4444444444444444,
              "#bd3786"
             ],
             [
              0.5555555555555556,
              "#d8576b"
             ],
             [
              0.6666666666666666,
              "#ed7953"
             ],
             [
              0.7777777777777778,
              "#fb9f3a"
             ],
             [
              0.8888888888888888,
              "#fdca26"
             ],
             [
              1,
              "#f0f921"
             ]
            ],
            "type": "heatmapgl"
           }
          ],
          "histogram": [
           {
            "marker": {
             "pattern": {
              "fillmode": "overlay",
              "size": 10,
              "solidity": 0.2
             }
            },
            "type": "histogram"
           }
          ],
          "histogram2d": [
           {
            "colorbar": {
             "outlinewidth": 0,
             "ticks": ""
            },
            "colorscale": [
             [
              0,
              "#0d0887"
             ],
             [
              0.1111111111111111,
              "#46039f"
             ],
             [
              0.2222222222222222,
              "#7201a8"
             ],
             [
              0.3333333333333333,
              "#9c179e"
             ],
             [
              0.4444444444444444,
              "#bd3786"
             ],
             [
              0.5555555555555556,
              "#d8576b"
             ],
             [
              0.6666666666666666,
              "#ed7953"
             ],
             [
              0.7777777777777778,
              "#fb9f3a"
             ],
             [
              0.8888888888888888,
              "#fdca26"
             ],
             [
              1,
              "#f0f921"
             ]
            ],
            "type": "histogram2d"
           }
          ],
          "histogram2dcontour": [
           {
            "colorbar": {
             "outlinewidth": 0,
             "ticks": ""
            },
            "colorscale": [
             [
              0,
              "#0d0887"
             ],
             [
              0.1111111111111111,
              "#46039f"
             ],
             [
              0.2222222222222222,
              "#7201a8"
             ],
             [
              0.3333333333333333,
              "#9c179e"
             ],
             [
              0.4444444444444444,
              "#bd3786"
             ],
             [
              0.5555555555555556,
              "#d8576b"
             ],
             [
              0.6666666666666666,
              "#ed7953"
             ],
             [
              0.7777777777777778,
              "#fb9f3a"
             ],
             [
              0.8888888888888888,
              "#fdca26"
             ],
             [
              1,
              "#f0f921"
             ]
            ],
            "type": "histogram2dcontour"
           }
          ],
          "mesh3d": [
           {
            "colorbar": {
             "outlinewidth": 0,
             "ticks": ""
            },
            "type": "mesh3d"
           }
          ],
          "parcoords": [
           {
            "line": {
             "colorbar": {
              "outlinewidth": 0,
              "ticks": ""
             }
            },
            "type": "parcoords"
           }
          ],
          "pie": [
           {
            "automargin": true,
            "type": "pie"
           }
          ],
          "scatter": [
           {
            "fillpattern": {
             "fillmode": "overlay",
             "size": 10,
             "solidity": 0.2
            },
            "type": "scatter"
           }
          ],
          "scatter3d": [
           {
            "line": {
             "colorbar": {
              "outlinewidth": 0,
              "ticks": ""
             }
            },
            "marker": {
             "colorbar": {
              "outlinewidth": 0,
              "ticks": ""
             }
            },
            "type": "scatter3d"
           }
          ],
          "scattercarpet": [
           {
            "marker": {
             "colorbar": {
              "outlinewidth": 0,
              "ticks": ""
             }
            },
            "type": "scattercarpet"
           }
          ],
          "scattergeo": [
           {
            "marker": {
             "colorbar": {
              "outlinewidth": 0,
              "ticks": ""
             }
            },
            "type": "scattergeo"
           }
          ],
          "scattergl": [
           {
            "marker": {
             "colorbar": {
              "outlinewidth": 0,
              "ticks": ""
             }
            },
            "type": "scattergl"
           }
          ],
          "scattermapbox": [
           {
            "marker": {
             "colorbar": {
              "outlinewidth": 0,
              "ticks": ""
             }
            },
            "type": "scattermapbox"
           }
          ],
          "scatterpolar": [
           {
            "marker": {
             "colorbar": {
              "outlinewidth": 0,
              "ticks": ""
             }
            },
            "type": "scatterpolar"
           }
          ],
          "scatterpolargl": [
           {
            "marker": {
             "colorbar": {
              "outlinewidth": 0,
              "ticks": ""
             }
            },
            "type": "scatterpolargl"
           }
          ],
          "scatterternary": [
           {
            "marker": {
             "colorbar": {
              "outlinewidth": 0,
              "ticks": ""
             }
            },
            "type": "scatterternary"
           }
          ],
          "surface": [
           {
            "colorbar": {
             "outlinewidth": 0,
             "ticks": ""
            },
            "colorscale": [
             [
              0,
              "#0d0887"
             ],
             [
              0.1111111111111111,
              "#46039f"
             ],
             [
              0.2222222222222222,
              "#7201a8"
             ],
             [
              0.3333333333333333,
              "#9c179e"
             ],
             [
              0.4444444444444444,
              "#bd3786"
             ],
             [
              0.5555555555555556,
              "#d8576b"
             ],
             [
              0.6666666666666666,
              "#ed7953"
             ],
             [
              0.7777777777777778,
              "#fb9f3a"
             ],
             [
              0.8888888888888888,
              "#fdca26"
             ],
             [
              1,
              "#f0f921"
             ]
            ],
            "type": "surface"
           }
          ],
          "table": [
           {
            "cells": {
             "fill": {
              "color": "#EBF0F8"
             },
             "line": {
              "color": "white"
             }
            },
            "header": {
             "fill": {
              "color": "#C8D4E3"
             },
             "line": {
              "color": "white"
             }
            },
            "type": "table"
           }
          ]
         },
         "layout": {
          "annotationdefaults": {
           "arrowcolor": "#2a3f5f",
           "arrowhead": 0,
           "arrowwidth": 1
          },
          "autotypenumbers": "strict",
          "coloraxis": {
           "colorbar": {
            "outlinewidth": 0,
            "ticks": ""
           }
          },
          "colorscale": {
           "diverging": [
            [
             0,
             "#8e0152"
            ],
            [
             0.1,
             "#c51b7d"
            ],
            [
             0.2,
             "#de77ae"
            ],
            [
             0.3,
             "#f1b6da"
            ],
            [
             0.4,
             "#fde0ef"
            ],
            [
             0.5,
             "#f7f7f7"
            ],
            [
             0.6,
             "#e6f5d0"
            ],
            [
             0.7,
             "#b8e186"
            ],
            [
             0.8,
             "#7fbc41"
            ],
            [
             0.9,
             "#4d9221"
            ],
            [
             1,
             "#276419"
            ]
           ],
           "sequential": [
            [
             0,
             "#0d0887"
            ],
            [
             0.1111111111111111,
             "#46039f"
            ],
            [
             0.2222222222222222,
             "#7201a8"
            ],
            [
             0.3333333333333333,
             "#9c179e"
            ],
            [
             0.4444444444444444,
             "#bd3786"
            ],
            [
             0.5555555555555556,
             "#d8576b"
            ],
            [
             0.6666666666666666,
             "#ed7953"
            ],
            [
             0.7777777777777778,
             "#fb9f3a"
            ],
            [
             0.8888888888888888,
             "#fdca26"
            ],
            [
             1,
             "#f0f921"
            ]
           ],
           "sequentialminus": [
            [
             0,
             "#0d0887"
            ],
            [
             0.1111111111111111,
             "#46039f"
            ],
            [
             0.2222222222222222,
             "#7201a8"
            ],
            [
             0.3333333333333333,
             "#9c179e"
            ],
            [
             0.4444444444444444,
             "#bd3786"
            ],
            [
             0.5555555555555556,
             "#d8576b"
            ],
            [
             0.6666666666666666,
             "#ed7953"
            ],
            [
             0.7777777777777778,
             "#fb9f3a"
            ],
            [
             0.8888888888888888,
             "#fdca26"
            ],
            [
             1,
             "#f0f921"
            ]
           ]
          },
          "colorway": [
           "#636efa",
           "#EF553B",
           "#00cc96",
           "#ab63fa",
           "#FFA15A",
           "#19d3f3",
           "#FF6692",
           "#B6E880",
           "#FF97FF",
           "#FECB52"
          ],
          "font": {
           "color": "#2a3f5f"
          },
          "geo": {
           "bgcolor": "white",
           "lakecolor": "white",
           "landcolor": "#E5ECF6",
           "showlakes": true,
           "showland": true,
           "subunitcolor": "white"
          },
          "hoverlabel": {
           "align": "left"
          },
          "hovermode": "closest",
          "mapbox": {
           "style": "light"
          },
          "paper_bgcolor": "white",
          "plot_bgcolor": "#E5ECF6",
          "polar": {
           "angularaxis": {
            "gridcolor": "white",
            "linecolor": "white",
            "ticks": ""
           },
           "bgcolor": "#E5ECF6",
           "radialaxis": {
            "gridcolor": "white",
            "linecolor": "white",
            "ticks": ""
           }
          },
          "scene": {
           "xaxis": {
            "backgroundcolor": "#E5ECF6",
            "gridcolor": "white",
            "gridwidth": 2,
            "linecolor": "white",
            "showbackground": true,
            "ticks": "",
            "zerolinecolor": "white"
           },
           "yaxis": {
            "backgroundcolor": "#E5ECF6",
            "gridcolor": "white",
            "gridwidth": 2,
            "linecolor": "white",
            "showbackground": true,
            "ticks": "",
            "zerolinecolor": "white"
           },
           "zaxis": {
            "backgroundcolor": "#E5ECF6",
            "gridcolor": "white",
            "gridwidth": 2,
            "linecolor": "white",
            "showbackground": true,
            "ticks": "",
            "zerolinecolor": "white"
           }
          },
          "shapedefaults": {
           "line": {
            "color": "#2a3f5f"
           }
          },
          "ternary": {
           "aaxis": {
            "gridcolor": "white",
            "linecolor": "white",
            "ticks": ""
           },
           "baxis": {
            "gridcolor": "white",
            "linecolor": "white",
            "ticks": ""
           },
           "bgcolor": "#E5ECF6",
           "caxis": {
            "gridcolor": "white",
            "linecolor": "white",
            "ticks": ""
           }
          },
          "title": {
           "x": 0.05
          },
          "xaxis": {
           "automargin": true,
           "gridcolor": "white",
           "linecolor": "white",
           "ticks": "",
           "title": {
            "standoff": 15
           },
           "zerolinecolor": "white",
           "zerolinewidth": 2
          },
          "yaxis": {
           "automargin": true,
           "gridcolor": "white",
           "linecolor": "white",
           "ticks": "",
           "title": {
            "standoff": 15
           },
           "zerolinecolor": "white",
           "zerolinewidth": 2
          }
         }
        }
       }
      }
     },
     "metadata": {},
     "output_type": "display_data"
    }
   ],
   "source": [
    "# SPY bar data candlestick plot\n",
    "go.Figure(data=[go.Candlestick(x=spy_bars.index,\n",
    "            open=spy_bars['open'],\n",
    "            high=spy_bars['high'],\n",
    "            low=spy_bars['low'],\n",
    "            close=spy_bars['close'])])\n"
   ]
  },
  {
   "cell_type": "code",
   "execution_count": 16,
   "id": "6dffbb4d",
   "metadata": {},
   "outputs": [
    {
     "data": {
      "text/plain": [
       "<AxesSubplot:title={'center':'Donald Trumps Presidency: Daily Close for S&P'}, xlabel='timestamp'>"
      ]
     },
     "execution_count": 16,
     "metadata": {},
     "output_type": "execute_result"
    },
    {
     "data": {
      "image/png": "[encoded data removed]",
      "text/plain": [
       "<Figure size 1440x720 with 1 Axes>"
      ]
     },
     "metadata": {
      "needs_background": "light"
     },
     "output_type": "display_data"
    }
   ],
   "source": [
    "# Plot daily close\n",
    "spy_bars.plot(figsize=(20,10), title='Donald Trumps Presidency: Daily Close for S&P')"
   ]
  },
  {
   "cell_type": "code",
   "execution_count": 11,
   "id": "2b5aa3fd",
   "metadata": {},
   "outputs": [
    {
     "data": {
      "text/html": [
       "<div>\n",
       "<style scoped>\n",
       "    .dataframe tbody tr th:only-of-type {\n",
       "        vertical-align: middle;\n",
       "    }\n",
       "\n",
       "    .dataframe tbody tr th {\n",
       "        vertical-align: top;\n",
       "    }\n",
       "\n",
       "    .dataframe thead th {\n",
       "        text-align: right;\n",
       "    }\n",
       "</style>\n",
       "<table border=\"1\" class=\"dataframe\">\n",
       "  <thead>\n",
       "    <tr style=\"text-align: right;\">\n",
       "      <th></th>\n",
       "      <th>open</th>\n",
       "      <th>high</th>\n",
       "      <th>low</th>\n",
       "      <th>close</th>\n",
       "      <th>volume</th>\n",
       "      <th>trade_count</th>\n",
       "      <th>vwap</th>\n",
       "    </tr>\n",
       "    <tr>\n",
       "      <th>timestamp</th>\n",
       "      <th></th>\n",
       "      <th></th>\n",
       "      <th></th>\n",
       "      <th></th>\n",
       "      <th></th>\n",
       "      <th></th>\n",
       "      <th></th>\n",
       "    </tr>\n",
       "  </thead>\n",
       "  <tbody>\n",
       "    <tr>\n",
       "      <th>2021-01-04 05:00:00+00:00</th>\n",
       "      <td>NaN</td>\n",
       "      <td>NaN</td>\n",
       "      <td>NaN</td>\n",
       "      <td>NaN</td>\n",
       "      <td>NaN</td>\n",
       "      <td>NaN</td>\n",
       "      <td>NaN</td>\n",
       "    </tr>\n",
       "    <tr>\n",
       "      <th>2021-01-05 05:00:00+00:00</th>\n",
       "      <td>-0.019318</td>\n",
       "      <td>-0.007857</td>\n",
       "      <td>0.008854</td>\n",
       "      <td>0.006887</td>\n",
       "      <td>-0.397753</td>\n",
       "      <td>-0.456034</td>\n",
       "      <td>0.002855</td>\n",
       "    </tr>\n",
       "    <tr>\n",
       "      <th>2021-01-06 05:00:00+00:00</th>\n",
       "      <td>0.004402</td>\n",
       "      <td>0.012027</td>\n",
       "      <td>0.002907</td>\n",
       "      <td>0.005979</td>\n",
       "      <td>0.625756</td>\n",
       "      <td>0.697554</td>\n",
       "      <td>0.009226</td>\n",
       "    </tr>\n",
       "    <tr>\n",
       "      <th>2021-01-07 05:00:00+00:00</th>\n",
       "      <td>0.017610</td>\n",
       "      <td>0.007746</td>\n",
       "      <td>0.018395</td>\n",
       "      <td>0.014857</td>\n",
       "      <td>-0.362992</td>\n",
       "      <td>-0.362774</td>\n",
       "      <td>0.011883</td>\n",
       "    </tr>\n",
       "    <tr>\n",
       "      <th>2021-01-08 05:00:00+00:00</th>\n",
       "      <td>0.011829</td>\n",
       "      <td>0.004185</td>\n",
       "      <td>0.003166</td>\n",
       "      <td>0.005698</td>\n",
       "      <td>0.041800</td>\n",
       "      <td>0.069057</td>\n",
       "      <td>0.004924</td>\n",
       "    </tr>\n",
       "  </tbody>\n",
       "</table>\n",
       "</div>"
      ],
      "text/plain": [
       "                               open      high       low     close    volume  \\\n",
       "timestamp                                                                     \n",
       "2021-01-04 05:00:00+00:00       NaN       NaN       NaN       NaN       NaN   \n",
       "2021-01-05 05:00:00+00:00 -0.019318 -0.007857  0.008854  0.006887 -0.397753   \n",
       "2021-01-06 05:00:00+00:00  0.004402  0.012027  0.002907  0.005979  0.625756   \n",
       "2021-01-07 05:00:00+00:00  0.017610  0.007746  0.018395  0.014857 -0.362992   \n",
       "2021-01-08 05:00:00+00:00  0.011829  0.004185  0.003166  0.005698  0.041800   \n",
       "\n",
       "                           trade_count      vwap  \n",
       "timestamp                                         \n",
       "2021-01-04 05:00:00+00:00          NaN       NaN  \n",
       "2021-01-05 05:00:00+00:00    -0.456034  0.002855  \n",
       "2021-01-06 05:00:00+00:00     0.697554  0.009226  \n",
       "2021-01-07 05:00:00+00:00    -0.362774  0.011883  \n",
       "2021-01-08 05:00:00+00:00     0.069057  0.004924  "
      ]
     },
     "execution_count": 11,
     "metadata": {},
     "output_type": "execute_result"
    }
   ],
   "source": [
    "# Cumulative/Daily Returns\n",
    "spy_cumulative_returns = spy_bars.pct_change()\n",
    "spy_cumulative_returns.head()"
   ]
  },
  {
   "cell_type": "code",
   "execution_count": 40,
   "id": "293d426e",
   "metadata": {},
   "outputs": [
    {
     "data": {
      "text/plain": [
       "<AxesSubplot:title={'center':'Donald Trumps Presidency: Daily Returns for S&P TSX'}, xlabel='timestamp'>"
      ]
     },
     "execution_count": 40,
     "metadata": {},
     "output_type": "execute_result"
    },
    {
     "data": {
      "image/png": "[encoded data removed]",
      "text/plain": [
       "<Figure size 1440x720 with 1 Axes>"
      ]
     },
     "metadata": {
      "needs_background": "light"
     },
     "output_type": "display_data"
    }
   ],
   "source": [
    "# Replace null values with '0'\n",
    "spy_cumulative_returns = spy_cumulative_returns.fillna(0)\n",
    "spy_cumulative_returns\n",
    "\n",
    "# Plot cumulative returns\n",
    "spy_cumulative_returns.plot(figsize=(20,10), title='Donald Trumps Presidency: Daily Returns for S&P TSX')"
   ]
  },
  {
   "cell_type": "code",
   "execution_count": 41,
   "id": "f52be156",
   "metadata": {},
   "outputs": [
    {
     "data": {
      "application/vnd.plotly.v1+json": {
       "config": {
        "plotlyServerURL": "https://plotly.com"
       },
       "data": [
        {
         "close": [
          368.79,
          371.33,
          373.55,
          379.1,
          381.26,
          378.69,
          378.77,
          379.79,
          378.46,
          375.7,
          378.65,
          383.89,
          384.24,
          382.88,
          384.39,
          383.79,
          374.41,
          377.63,
          370.07,
          376.23,
          381.55,
          381.85,
          386.19,
          387.71,
          390.51,
          390.25,
          390.08,
          390.71,
          392.64,
          392.3,
          392.39,
          390.72,
          390.03,
          387.03,
          387.5,
          391.77,
          382.33,
          380.36,
          389.58,
          386.54,
          381.42,
          376.7,
          383.63,
          381.72,
          387.17,
          389.58,
          393.53,
          394.06,
          396.41,
          395.91,
          397.26,
          391.48,
          389.48,
          392.59,
          389.5,
          387.52,
          389.7,
          395.98,
          395.78,
          394.73
         ],
         "high": [
          375.45,
          372.5,
          376.98,
          379.9,
          381.49,
          380.58,
          379.86,
          380.86,
          381.13,
          377.58,
          379.23,
          384.79,
          384.95,
          384.1256,
          384.77,
          385.85,
          380.32,
          381.93,
          376.67,
          377.34,
          383.22,
          383.7,
          386.24,
          388.47,
          390.56,
          390.89,
          392.28,
          391.69,
          392.9,
          394.17,
          392.66,
          391.515,
          392.38,
          389.62,
          388.945,
          392.23,
          391.88,
          385.58,
          390.92,
          390.07,
          386.83,
          384,
          384.76,
          387.68,
          389.91,
          391.4,
          395.65,
          394.21,
          396.685,
          397.83,
          398.12,
          396.72,
          391.569,
          394.07,
          393.46,
          392.75,
          390.55,
          396.41,
          396.75,
          395.45
         ],
         "low": [
          364.82,
          368.05,
          369.12,
          375.91,
          377.1,
          377.7189,
          376.36,
          377.85,
          378.1,
          373.7,
          376.75,
          380.69,
          383.25,
          381.835,
          378.46,
          383.54,
          372.01,
          375.89,
          368.27,
          370.376,
          376.3181,
          380.48,
          381.9655,
          386.1444,
          388.35,
          389.17,
          387.5,
          388.1,
          389.77,
          391.53,
          389.33,
          387.74,
          389.55,
          386.74,
          380.2,
          385.27,
          380.7789,
          378.23,
          380.572,
          386,
          381.31,
          371.88,
          372.64,
          381.42,
          381.7299,
          388.1702,
          391.74,
          391.2,
          392.03,
          395.08,
          393.3,
          390.75,
          387.15,
          389.97,
          388.66,
          387.47,
          383.9,
          390.29,
          392.81,
          393.02
         ],
         "open": [
          375.3,
          368.05,
          369.67,
          376.18,
          380.63,
          377.84,
          378.84,
          378.65,
          380.63,
          376.71,
          378.24,
          381.1,
          384.5,
          382.24,
          383.6,
          385.41,
          380.24,
          376.27,
          375.57,
          373.84,
          379.68,
          382.43,
          383.03,
          388.27,
          389.3,
          389.55,
          392.1,
          391.34,
          389.88,
          394.06,
          390.43,
          389.56,
          392.1,
          387.06,
          384.72,
          386.23,
          390.51,
          384.44,
          385.65,
          389.87,
          385.83,
          381.22,
          380.41,
          384.69,
          385.88,
          389.59,
          392.24,
          392.09,
          394.4,
          397.06,
          394.56,
          394.49,
          389.94,
          390.01,
          391.89,
          390.92,
          385.99,
          390.98,
          394.35,
          394.35
         ],
         "type": "candlestick",
         "x": [
          "2021-01-04T05:00:00+00:00",
          "2021-01-05T05:00:00+00:00",
          "2021-01-06T05:00:00+00:00",
          "2021-01-07T05:00:00+00:00",
          "2021-01-08T05:00:00+00:00",
          "2021-01-11T05:00:00+00:00",
          "2021-01-12T05:00:00+00:00",
          "2021-01-13T05:00:00+00:00",
          "2021-01-14T05:00:00+00:00",
          "2021-01-15T05:00:00+00:00",
          "2021-01-19T05:00:00+00:00",
          "2021-01-20T05:00:00+00:00",
          "2021-01-21T05:00:00+00:00",
          "2021-01-22T05:00:00+00:00",
          "2021-01-25T05:00:00+00:00",
          "2021-01-26T05:00:00+00:00",
          "2021-01-27T05:00:00+00:00",
          "2021-01-28T05:00:00+00:00",
          "2021-01-29T05:00:00+00:00",
          "2021-02-01T05:00:00+00:00",
          "2021-02-02T05:00:00+00:00",
          "2021-02-03T05:00:00+00:00",
          "2021-02-04T05:00:00+00:00",
          "2021-02-05T05:00:00+00:00",
          "2021-02-08T05:00:00+00:00",
          "2021-02-09T05:00:00+00:00",
          "2021-02-10T05:00:00+00:00",
          "2021-02-11T05:00:00+00:00",
          "2021-02-12T05:00:00+00:00",
          "2021-02-16T05:00:00+00:00",
          "2021-02-17T05:00:00+00:00",
          "2021-02-18T05:00:00+00:00",
          "2021-02-19T05:00:00+00:00",
          "2021-02-22T05:00:00+00:00",
          "2021-02-23T05:00:00+00:00",
          "2021-02-24T05:00:00+00:00",
          "2021-02-25T05:00:00+00:00",
          "2021-02-26T05:00:00+00:00",
          "2021-03-01T05:00:00+00:00",
          "2021-03-02T05:00:00+00:00",
          "2021-03-03T05:00:00+00:00",
          "2021-03-04T05:00:00+00:00",
          "2021-03-05T05:00:00+00:00",
          "2021-03-08T05:00:00+00:00",
          "2021-03-09T05:00:00+00:00",
          "2021-03-10T05:00:00+00:00",
          "2021-03-11T05:00:00+00:00",
          "2021-03-12T05:00:00+00:00",
          "2021-03-15T04:00:00+00:00",
          "2021-03-16T04:00:00+00:00",
          "2021-03-17T04:00:00+00:00",
          "2021-03-18T04:00:00+00:00",
          "2021-03-19T04:00:00+00:00",
          "2021-03-22T04:00:00+00:00",
          "2021-03-23T04:00:00+00:00",
          "2021-03-24T04:00:00+00:00",
          "2021-03-25T04:00:00+00:00",
          "2021-03-26T04:00:00+00:00",
          "2021-03-29T04:00:00+00:00",
          "2021-03-30T04:00:00+00:00"
         ]
        }
       ],
       "layout": {
        "template": {
         "data": {
          "bar": [
           {
            "error_x": {
             "color": "#2a3f5f"
            },
            "error_y": {
             "color": "#2a3f5f"
            },
            "marker": {
             "line": {
              "color": "#E5ECF6",
              "width": 0.5
             },
             "pattern": {
              "fillmode": "overlay",
              "size": 10,
              "solidity": 0.2
             }
            },
            "type": "bar"
           }
          ],
          "barpolar": [
           {
            "marker": {
             "line": {
              "color": "#E5ECF6",
              "width": 0.5
             },
             "pattern": {
              "fillmode": "overlay",
              "size": 10,
              "solidity": 0.2
             }
            },
            "type": "barpolar"
           }
          ],
          "carpet": [
           {
            "aaxis": {
             "endlinecolor": "#2a3f5f",
             "gridcolor": "white",
             "linecolor": "white",
             "minorgridcolor": "white",
             "startlinecolor": "#2a3f5f"
            },
            "baxis": {
             "endlinecolor": "#2a3f5f",
             "gridcolor": "white",
             "linecolor": "white",
             "minorgridcolor": "white",
             "startlinecolor": "#2a3f5f"
            },
            "type": "carpet"
           }
          ],
          "choropleth": [
           {
            "colorbar": {
             "outlinewidth": 0,
             "ticks": ""
            },
            "type": "choropleth"
           }
          ],
          "contour": [
           {
            "colorbar": {
             "outlinewidth": 0,
             "ticks": ""
            },
            "colorscale": [
             [
              0,
              "#0d0887"
             ],
             [
              0.1111111111111111,
              "#46039f"
             ],
             [
              0.2222222222222222,
              "#7201a8"
             ],
             [
              0.3333333333333333,
              "#9c179e"
             ],
             [
              0.4444444444444444,
              "#bd3786"
             ],
             [
              0.5555555555555556,
              "#d8576b"
             ],
             [
              0.6666666666666666,
              "#ed7953"
             ],
             [
              0.7777777777777778,
              "#fb9f3a"
             ],
             [
              0.8888888888888888,
              "#fdca26"
             ],
             [
              1,
              "#f0f921"
             ]
            ],
            "type": "contour"
           }
          ],
          "contourcarpet": [
           {
            "colorbar": {
             "outlinewidth": 0,
             "ticks": ""
            },
            "type": "contourcarpet"
           }
          ],
          "heatmap": [
           {
            "colorbar": {
             "outlinewidth": 0,
             "ticks": ""
            },
            "colorscale": [
             [
              0,
              "#0d0887"
             ],
             [
              0.1111111111111111,
              "#46039f"
             ],
             [
              0.2222222222222222,
              "#7201a8"
             ],
             [
              0.3333333333333333,
              "#9c179e"
             ],
             [
              0.4444444444444444,
              "#bd3786"
             ],
             [
              0.5555555555555556,
              "#d8576b"
             ],
             [
              0.6666666666666666,
              "#ed7953"
             ],
             [
              0.7777777777777778,
              "#fb9f3a"
             ],
             [
              0.8888888888888888,
              "#fdca26"
             ],
             [
              1,
              "#f0f921"
             ]
            ],
            "type": "heatmap"
           }
          ],
          "heatmapgl": [
           {
            "colorbar": {
             "outlinewidth": 0,
             "ticks": ""
            },
            "colorscale": [
             [
              0,
              "#0d0887"
             ],
             [
              0.1111111111111111,
              "#46039f"
             ],
             [
              0.2222222222222222,
              "#7201a8"
             ],
             [
              0.3333333333333333,
              "#9c179e"
             ],
             [
              0.4444444444444444,
              "#bd3786"
             ],
             [
              0.5555555555555556,
              "#d8576b"
             ],
             [
              0.6666666666666666,
              "#ed7953"
             ],
             [
              0.7777777777777778,
              "#fb9f3a"
             ],
             [
              0.8888888888888888,
              "#fdca26"
             ],
             [
              1,
              "#f0f921"
             ]
            ],
            "type": "heatmapgl"
           }
          ],
          "histogram": [
           {
            "marker": {
             "pattern": {
              "fillmode": "overlay",
              "size": 10,
              "solidity": 0.2
             }
            },
            "type": "histogram"
           }
          ],
          "histogram2d": [
           {
            "colorbar": {
             "outlinewidth": 0,
             "ticks": ""
            },
            "colorscale": [
             [
              0,
              "#0d0887"
             ],
             [
              0.1111111111111111,
              "#46039f"
             ],
             [
              0.2222222222222222,
              "#7201a8"
             ],
             [
              0.3333333333333333,
              "#9c179e"
             ],
             [
              0.4444444444444444,
              "#bd3786"
             ],
             [
              0.5555555555555556,
              "#d8576b"
             ],
             [
              0.6666666666666666,
              "#ed7953"
             ],
             [
              0.7777777777777778,
              "#fb9f3a"
             ],
             [
              0.8888888888888888,
              "#fdca26"
             ],
             [
              1,
              "#f0f921"
             ]
            ],
            "type": "histogram2d"
           }
          ],
          "histogram2dcontour": [
           {
            "colorbar": {
             "outlinewidth": 0,
             "ticks": ""
            },
            "colorscale": [
             [
              0,
              "#0d0887"
             ],
             [
              0.1111111111111111,
              "#46039f"
             ],
             [
              0.2222222222222222,
              "#7201a8"
             ],
             [
              0.3333333333333333,
              "#9c179e"
             ],
             [
              0.4444444444444444,
              "#bd3786"
             ],
             [
              0.5555555555555556,
              "#d8576b"
             ],
             [
              0.6666666666666666,
              "#ed7953"
             ],
             [
              0.7777777777777778,
              "#fb9f3a"
             ],
             [
              0.8888888888888888,
              "#fdca26"
             ],
             [
              1,
              "#f0f921"
             ]
            ],
            "type": "histogram2dcontour"
           }
          ],
          "mesh3d": [
           {
            "colorbar": {
             "outlinewidth": 0,
             "ticks": ""
            },
            "type": "mesh3d"
           }
          ],
          "parcoords": [
           {
            "line": {
             "colorbar": {
              "outlinewidth": 0,
              "ticks": ""
             }
            },
            "type": "parcoords"
           }
          ],
          "pie": [
           {
            "automargin": true,
            "type": "pie"
           }
          ],
          "scatter": [
           {
            "fillpattern": {
             "fillmode": "overlay",
             "size": 10,
             "solidity": 0.2
            },
            "type": "scatter"
           }
          ],
          "scatter3d": [
           {
            "line": {
             "colorbar": {
              "outlinewidth": 0,
              "ticks": ""
             }
            },
            "marker": {
             "colorbar": {
              "outlinewidth": 0,
              "ticks": ""
             }
            },
            "type": "scatter3d"
           }
          ],
          "scattercarpet": [
           {
            "marker": {
             "colorbar": {
              "outlinewidth": 0,
              "ticks": ""
             }
            },
            "type": "scattercarpet"
           }
          ],
          "scattergeo": [
           {
            "marker": {
             "colorbar": {
              "outlinewidth": 0,
              "ticks": ""
             }
            },
            "type": "scattergeo"
           }
          ],
          "scattergl": [
           {
            "marker": {
             "colorbar": {
              "outlinewidth": 0,
              "ticks": ""
             }
            },
            "type": "scattergl"
           }
          ],
          "scattermapbox": [
           {
            "marker": {
             "colorbar": {
              "outlinewidth": 0,
              "ticks": ""
             }
            },
            "type": "scattermapbox"
           }
          ],
          "scatterpolar": [
           {
            "marker": {
             "colorbar": {
              "outlinewidth": 0,
              "ticks": ""
             }
            },
            "type": "scatterpolar"
           }
          ],
          "scatterpolargl": [
           {
            "marker": {
             "colorbar": {
              "outlinewidth": 0,
              "ticks": ""
             }
            },
            "type": "scatterpolargl"
           }
          ],
          "scatterternary": [
           {
            "marker": {
             "colorbar": {
              "outlinewidth": 0,
              "ticks": ""
             }
            },
            "type": "scatterternary"
           }
          ],
          "surface": [
           {
            "colorbar": {
             "outlinewidth": 0,
             "ticks": ""
            },
            "colorscale": [
             [
              0,
              "#0d0887"
             ],
             [
              0.1111111111111111,
              "#46039f"
             ],
             [
              0.2222222222222222,
              "#7201a8"
             ],
             [
              0.3333333333333333,
              "#9c179e"
             ],
             [
              0.4444444444444444,
              "#bd3786"
             ],
             [
              0.5555555555555556,
              "#d8576b"
             ],
             [
              0.6666666666666666,
              "#ed7953"
             ],
             [
              0.7777777777777778,
              "#fb9f3a"
             ],
             [
              0.8888888888888888,
              "#fdca26"
             ],
             [
              1,
              "#f0f921"
             ]
            ],
            "type": "surface"
           }
          ],
          "table": [
           {
            "cells": {
             "fill": {
              "color": "#EBF0F8"
             },
             "line": {
              "color": "white"
             }
            },
            "header": {
             "fill": {
              "color": "#C8D4E3"
             },
             "line": {
              "color": "white"
             }
            },
            "type": "table"
           }
          ]
         },
         "layout": {
          "annotationdefaults": {
           "arrowcolor": "#2a3f5f",
           "arrowhead": 0,
           "arrowwidth": 1
          },
          "autotypenumbers": "strict",
          "coloraxis": {
           "colorbar": {
            "outlinewidth": 0,
            "ticks": ""
           }
          },
          "colorscale": {
           "diverging": [
            [
             0,
             "#8e0152"
            ],
            [
             0.1,
             "#c51b7d"
            ],
            [
             0.2,
             "#de77ae"
            ],
            [
             0.3,
             "#f1b6da"
            ],
            [
             0.4,
             "#fde0ef"
            ],
            [
             0.5,
             "#f7f7f7"
            ],
            [
             0.6,
             "#e6f5d0"
            ],
            [
             0.7,
             "#b8e186"
            ],
            [
             0.8,
             "#7fbc41"
            ],
            [
             0.9,
             "#4d9221"
            ],
            [
             1,
             "#276419"
            ]
           ],
           "sequential": [
            [
             0,
             "#0d0887"
            ],
            [
             0.1111111111111111,
             "#46039f"
            ],
            [
             0.2222222222222222,
             "#7201a8"
            ],
            [
             0.3333333333333333,
             "#9c179e"
            ],
            [
             0.4444444444444444,
             "#bd3786"
            ],
            [
             0.5555555555555556,
             "#d8576b"
            ],
            [
             0.6666666666666666,
             "#ed7953"
            ],
            [
             0.7777777777777778,
             "#fb9f3a"
            ],
            [
             0.8888888888888888,
             "#fdca26"
            ],
            [
             1,
             "#f0f921"
            ]
           ],
           "sequentialminus": [
            [
             0,
             "#0d0887"
            ],
            [
             0.1111111111111111,
             "#46039f"
            ],
            [
             0.2222222222222222,
             "#7201a8"
            ],
            [
             0.3333333333333333,
             "#9c179e"
            ],
            [
             0.4444444444444444,
             "#bd3786"
            ],
            [
             0.5555555555555556,
             "#d8576b"
            ],
            [
             0.6666666666666666,
             "#ed7953"
            ],
            [
             0.7777777777777778,
             "#fb9f3a"
            ],
            [
             0.8888888888888888,
             "#fdca26"
            ],
            [
             1,
             "#f0f921"
            ]
           ]
          },
          "colorway": [
           "#636efa",
           "#EF553B",
           "#00cc96",
           "#ab63fa",
           "#FFA15A",
           "#19d3f3",
           "#FF6692",
           "#B6E880",
           "#FF97FF",
           "#FECB52"
          ],
          "font": {
           "color": "#2a3f5f"
          },
          "geo": {
           "bgcolor": "white",
           "lakecolor": "white",
           "landcolor": "#E5ECF6",
           "showlakes": true,
           "showland": true,
           "subunitcolor": "white"
          },
          "hoverlabel": {
           "align": "left"
          },
          "hovermode": "closest",
          "mapbox": {
           "style": "light"
          },
          "paper_bgcolor": "white",
          "plot_bgcolor": "#E5ECF6",
          "polar": {
           "angularaxis": {
            "gridcolor": "white",
            "linecolor": "white",
            "ticks": ""
           },
           "bgcolor": "#E5ECF6",
           "radialaxis": {
            "gridcolor": "white",
            "linecolor": "white",
            "ticks": ""
           }
          },
          "scene": {
           "xaxis": {
            "backgroundcolor": "#E5ECF6",
            "gridcolor": "white",
            "gridwidth": 2,
            "linecolor": "white",
            "showbackground": true,
            "ticks": "",
            "zerolinecolor": "white"
           },
           "yaxis": {
            "backgroundcolor": "#E5ECF6",
            "gridcolor": "white",
            "gridwidth": 2,
            "linecolor": "white",
            "showbackground": true,
            "ticks": "",
            "zerolinecolor": "white"
           },
           "zaxis": {
            "backgroundcolor": "#E5ECF6",
            "gridcolor": "white",
            "gridwidth": 2,
            "linecolor": "white",
            "showbackground": true,
            "ticks": "",
            "zerolinecolor": "white"
           }
          },
          "shapedefaults": {
           "line": {
            "color": "#2a3f5f"
           }
          },
          "ternary": {
           "aaxis": {
            "gridcolor": "white",
            "linecolor": "white",
            "ticks": ""
           },
           "baxis": {
            "gridcolor": "white",
            "linecolor": "white",
            "ticks": ""
           },
           "bgcolor": "#E5ECF6",
           "caxis": {
            "gridcolor": "white",
            "linecolor": "white",
            "ticks": ""
           }
          },
          "title": {
           "x": 0.05
          },
          "xaxis": {
           "automargin": true,
           "gridcolor": "white",
           "linecolor": "white",
           "ticks": "",
           "title": {
            "standoff": 15
           },
           "zerolinecolor": "white",
           "zerolinewidth": 2
          },
          "yaxis": {
           "automargin": true,
           "gridcolor": "white",
           "linecolor": "white",
           "ticks": "",
           "title": {
            "standoff": 15
           },
           "zerolinecolor": "white",
           "zerolinewidth": 2
          }
         }
        }
       }
      }
     },
     "metadata": {},
     "output_type": "display_data"
    }
   ],
   "source": [
    "# Cumulative returns / candlestick plot\n",
    "go.Figure(data=[go.Candlestick(x=spy_cumulative_returns.index,\n",
    "            open=spy_bars['open'],\n",
    "            high=spy_bars['high'],\n",
    "            low=spy_bars['low'],\n",
    "            close=spy_bars['close'])])"
   ]
  },
  {
   "cell_type": "code",
   "execution_count": 17,
   "id": "1baadc5a",
   "metadata": {},
   "outputs": [
    {
     "data": {
      "text/plain": [
       "<AxesSubplot:title={'center':'Donald Trumps Presidency: Daily Returns for S&P TSX'}, xlabel='timestamp'>"
      ]
     },
     "execution_count": 17,
     "metadata": {},
     "output_type": "execute_result"
    },
    {
     "data": {
      "image/png": "[encoded data removed]",
      "text/plain": [
       "<Figure size 1440x720 with 1 Axes>"
      ]
     },
     "metadata": {
      "needs_background": "light"
     },
     "output_type": "display_data"
    }
   ],
   "source": [
    "spy_cumulative_returns.plot(figsize=(20,10), title='Donald Trumps Presidency: Daily Returns for S&P TSX')"
   ]
  },
  {
   "cell_type": "code",
   "execution_count": 18,
   "id": "8fc634df",
   "metadata": {},
   "outputs": [
    {
     "data": {
      "text/plain": [
       "<AxesSubplot:title={'center':'Boxplot Representation of Portfolio Analysis'}>"
      ]
     },
     "execution_count": 18,
     "metadata": {},
     "output_type": "execute_result"
    },
    {
     "data": {
      "image/png": "[encoded data removed]",
      "text/plain": [
       "<Figure size 1440x720 with 1 Axes>"
      ]
     },
     "metadata": {
      "needs_background": "light"
     },
     "output_type": "display_data"
    }
   ],
   "source": [
    "# Risk Analysis\n",
    "## Box Plot\n",
    "spy_cumulative_returns.plot.box(figsize=(20,10), title='Boxplot Representation of Portfolio Analysis')"
   ]
  },
  {
   "cell_type": "code",
   "execution_count": 19,
   "id": "eff363f6",
   "metadata": {},
   "outputs": [
    {
     "data": {
      "text/plain": [
       "open           0.008491\n",
       "high           0.007018\n",
       "low            0.010457\n",
       "close          0.009799\n",
       "volume         0.417275\n",
       "trade_count    0.411344\n",
       "vwap           0.007858\n",
       "dtype: float64"
      ]
     },
     "execution_count": 19,
     "metadata": {},
     "output_type": "execute_result"
    }
   ],
   "source": [
    "# Standard deviation \n",
    "spy_cumulative_returns.std()"
   ]
  },
  {
   "cell_type": "code",
   "execution_count": 42,
   "id": "3800222c",
   "metadata": {},
   "outputs": [
    {
     "data": {
      "text/plain": [
       "<AxesSubplot:title={'center':'Rolling Standard Deviation 21 day Window'}, xlabel='timestamp'>"
      ]
     },
     "execution_count": 42,
     "metadata": {},
     "output_type": "execute_result"
    },
    {
     "data": {
      "image/png": "[encoded data removed]",
      "text/plain": [
       "<Figure size 1440x720 with 1 Axes>"
      ]
     },
     "metadata": {
      "needs_background": "light"
     },
     "output_type": "display_data"
    }
   ],
   "source": [
    "# Calculate the annualized standard deviation\n",
    "spy_cumulative_returns.rolling(window=252).std()\n",
    "\n",
    "# Calculate and plot rolling standard deviation \n",
    "spy_cumulative_returns.rolling(window=21).std()\n",
    "\n",
    "# Plot the rolling standard deviation \n",
    "spy_cumulative_returns.rolling(window=21).std().plot(figsize=(20,10),title=\"Rolling Standard Deviation 21 day Window\")"
   ]
  },
  {
   "cell_type": "code",
   "execution_count": 25,
   "id": "a0ecaa4a",
   "metadata": {},
   "outputs": [
    {
     "data": {
      "text/plain": [
       "<AxesSubplot:>"
      ]
     },
     "execution_count": 25,
     "metadata": {},
     "output_type": "execute_result"
    },
    {
     "data": {
      "image/png": "[encoded data removed]",
      "text/plain": [
       "<Figure size 432x288 with 2 Axes>"
      ]
     },
     "metadata": {
      "needs_background": "light"
     },
     "output_type": "display_data"
    }
   ],
   "source": [
    "import seaborn as sns\n",
    "# Correlation \n",
    "## Calculate the correlation using 'pearson' method\n",
    "correlation_pearson = spy_cumulative_returns.corr(method='pearson')\n",
    "\n",
    "### Display the correlation matrix\n",
    "sns.heatmap(correlation_pearson, vmin=-1, vmax=1, annot=True)"
   ]
  },
  {
   "cell_type": "code",
   "execution_count": null,
   "id": "4b0ebfc8",
   "metadata": {},
   "outputs": [],
   "source": [
    "# Calculate and plot beta\n"
   ]
  },
  {
   "cell_type": "code",
   "execution_count": 29,
   "id": "36ce98b8",
   "metadata": {},
   "outputs": [
    {
     "data": {
      "text/plain": [
       "<pandas.plotting._core.PlotAccessor object at 0x000002128FA863A0>"
      ]
     },
     "execution_count": 29,
     "metadata": {},
     "output_type": "execute_result"
    }
   ],
   "source": [
    "# Exponentially weighted average \n",
    "# Use `ewm` to calculate the rolling window\n",
    "spy_cumulative_returns.ewm(com=None, span=None, halflife=21, alpha=None, min_periods=0, adjust=True, ignore_na=False, axis=0).std().plot"
   ]
  },
  {
   "cell_type": "code",
   "execution_count": 32,
   "id": "46dd371f",
   "metadata": {},
   "outputs": [
    {
     "data": {
      "text/plain": [
       "open           1.609743\n",
       "high           2.012209\n",
       "low            1.966951\n",
       "close          1.912950\n",
       "volume         2.169615\n",
       "trade_count    2.184943\n",
       "vwap           2.277835\n",
       "dtype: float64"
      ]
     },
     "execution_count": 32,
     "metadata": {},
     "output_type": "execute_result"
    }
   ],
   "source": [
    "import numpy as np\n",
    "# Annualized Sharpe Ratios\n",
    "sharperatio = (spy_cumulative_returns.mean()*252)/(spy_cumulative_returns.std()* np.sqrt(252))\n",
    "sharperatio\n"
   ]
  },
  {
   "cell_type": "code",
   "execution_count": 33,
   "id": "1db51fe7",
   "metadata": {},
   "outputs": [
    {
     "data": {
      "text/plain": [
       "<AxesSubplot:title={'center':'Sharpe Ratio Visualistation as a Bar Plot'}>"
      ]
     },
     "execution_count": 33,
     "metadata": {},
     "output_type": "execute_result"
    },
    {
     "data": {
      "image/png": "[encoded data removed]",
      "text/plain": [
       "<Figure size 1440x720 with 1 Axes>"
      ]
     },
     "metadata": {
      "needs_background": "light"
     },
     "output_type": "display_data"
    }
   ],
   "source": [
    "# Visualize the sharpe ratios as a bar plot\n",
    "sharperatio.plot(kind='bar',figsize=(20,10),title='Sharpe Ratio Visualistation as a Bar Plot')"
   ]
  },
  {
   "cell_type": "code",
   "execution_count": null,
   "id": "7796f5d3",
   "metadata": {},
   "outputs": [],
   "source": [
    "# Custom portfolio ??? \n",
    "\n",
    "# Calculate the weighted returns for the portfolio assuming an equal number of shares for each stock\n",
    "\n",
    "# Join your portfolio returns to the DataFrame that contains all of the portfolio returns\n",
    "\n",
    "# Re-run the risk analysis with your portfolio to see how it compares to the others"
   ]
  },
  {
   "cell_type": "markdown",
   "id": "054ff765",
   "metadata": {},
   "source": [
    "# Simple Moving Average"
   ]
  },
  {
   "cell_type": "code",
   "execution_count": 44,
   "id": "3b8b4725-062a-4289-98a2-be9a551568ae",
   "metadata": {},
   "outputs": [
    {
     "data": {
      "application/vnd.plotly.v1+json": {
       "config": {
        "plotlyServerURL": "https://plotly.com"
       },
       "data": [
        {
         "close": [
          368.79,
          371.33,
          373.55,
          379.1,
          381.26,
          378.69,
          378.77,
          379.79,
          378.46,
          375.7,
          378.65,
          383.89,
          384.24,
          382.88,
          384.39,
          383.79,
          374.41,
          377.63,
          370.07,
          376.23,
          381.55,
          381.85,
          386.19,
          387.71,
          390.51,
          390.25,
          390.08,
          390.71,
          392.64,
          392.3,
          392.39,
          390.72,
          390.03,
          387.03,
          387.5,
          391.77,
          382.33,
          380.36,
          389.58,
          386.54,
          381.42,
          376.7,
          383.63,
          381.72,
          387.17,
          389.58,
          393.53,
          394.06,
          396.41,
          395.91,
          397.26,
          391.48,
          389.48,
          392.59,
          389.5,
          387.52,
          389.7,
          395.98,
          395.78,
          394.73
         ],
         "high": [
          375.45,
          372.5,
          376.98,
          379.9,
          381.49,
          380.58,
          379.86,
          380.86,
          381.13,
          377.58,
          379.23,
          384.79,
          384.95,
          384.1256,
          384.77,
          385.85,
          380.32,
          381.93,
          376.67,
          377.34,
          383.22,
          383.7,
          386.24,
          388.47,
          390.56,
          390.89,
          392.28,
          391.69,
          392.9,
          394.17,
          392.66,
          391.515,
          392.38,
          389.62,
          388.945,
          392.23,
          391.88,
          385.58,
          390.92,
          390.07,
          386.83,
          384,
          384.76,
          387.68,
          389.91,
          391.4,
          395.65,
          394.21,
          396.685,
          397.83,
          398.12,
          396.72,
          391.569,
          394.07,
          393.46,
          392.75,
          390.55,
          396.41,
          396.75,
          395.45
         ],
         "low": [
          364.82,
          368.05,
          369.12,
          375.91,
          377.1,
          377.7189,
          376.36,
          377.85,
          378.1,
          373.7,
          376.75,
          380.69,
          383.25,
          381.835,
          378.46,
          383.54,
          372.01,
          375.89,
          368.27,
          370.376,
          376.3181,
          380.48,
          381.9655,
          386.1444,
          388.35,
          389.17,
          387.5,
          388.1,
          389.77,
          391.53,
          389.33,
          387.74,
          389.55,
          386.74,
          380.2,
          385.27,
          380.7789,
          378.23,
          380.572,
          386,
          381.31,
          371.88,
          372.64,
          381.42,
          381.7299,
          388.1702,
          391.74,
          391.2,
          392.03,
          395.08,
          393.3,
          390.75,
          387.15,
          389.97,
          388.66,
          387.47,
          383.9,
          390.29,
          392.81,
          393.02
         ],
         "open": [
          375.3,
          368.05,
          369.67,
          376.18,
          380.63,
          377.84,
          378.84,
          378.65,
          380.63,
          376.71,
          378.24,
          381.1,
          384.5,
          382.24,
          383.6,
          385.41,
          380.24,
          376.27,
          375.57,
          373.84,
          379.68,
          382.43,
          383.03,
          388.27,
          389.3,
          389.55,
          392.1,
          391.34,
          389.88,
          394.06,
          390.43,
          389.56,
          392.1,
          387.06,
          384.72,
          386.23,
          390.51,
          384.44,
          385.65,
          389.87,
          385.83,
          381.22,
          380.41,
          384.69,
          385.88,
          389.59,
          392.24,
          392.09,
          394.4,
          397.06,
          394.56,
          394.49,
          389.94,
          390.01,
          391.89,
          390.92,
          385.99,
          390.98,
          394.35,
          394.35
         ],
         "type": "candlestick",
         "x": [
          "2021-01-04T05:00:00+00:00",
          "2021-01-05T05:00:00+00:00",
          "2021-01-06T05:00:00+00:00",
          "2021-01-07T05:00:00+00:00",
          "2021-01-08T05:00:00+00:00",
          "2021-01-11T05:00:00+00:00",
          "2021-01-12T05:00:00+00:00",
          "2021-01-13T05:00:00+00:00",
          "2021-01-14T05:00:00+00:00",
          "2021-01-15T05:00:00+00:00",
          "2021-01-19T05:00:00+00:00",
          "2021-01-20T05:00:00+00:00",
          "2021-01-21T05:00:00+00:00",
          "2021-01-22T05:00:00+00:00",
          "2021-01-25T05:00:00+00:00",
          "2021-01-26T05:00:00+00:00",
          "2021-01-27T05:00:00+00:00",
          "2021-01-28T05:00:00+00:00",
          "2021-01-29T05:00:00+00:00",
          "2021-02-01T05:00:00+00:00",
          "2021-02-02T05:00:00+00:00",
          "2021-02-03T05:00:00+00:00",
          "2021-02-04T05:00:00+00:00",
          "2021-02-05T05:00:00+00:00",
          "2021-02-08T05:00:00+00:00",
          "2021-02-09T05:00:00+00:00",
          "2021-02-10T05:00:00+00:00",
          "2021-02-11T05:00:00+00:00",
          "2021-02-12T05:00:00+00:00",
          "2021-02-16T05:00:00+00:00",
          "2021-02-17T05:00:00+00:00",
          "2021-02-18T05:00:00+00:00",
          "2021-02-19T05:00:00+00:00",
          "2021-02-22T05:00:00+00:00",
          "2021-02-23T05:00:00+00:00",
          "2021-02-24T05:00:00+00:00",
          "2021-02-25T05:00:00+00:00",
          "2021-02-26T05:00:00+00:00",
          "2021-03-01T05:00:00+00:00",
          "2021-03-02T05:00:00+00:00",
          "2021-03-03T05:00:00+00:00",
          "2021-03-04T05:00:00+00:00",
          "2021-03-05T05:00:00+00:00",
          "2021-03-08T05:00:00+00:00",
          "2021-03-09T05:00:00+00:00",
          "2021-03-10T05:00:00+00:00",
          "2021-03-11T05:00:00+00:00",
          "2021-03-12T05:00:00+00:00",
          "2021-03-15T04:00:00+00:00",
          "2021-03-16T04:00:00+00:00",
          "2021-03-17T04:00:00+00:00",
          "2021-03-18T04:00:00+00:00",
          "2021-03-19T04:00:00+00:00",
          "2021-03-22T04:00:00+00:00",
          "2021-03-23T04:00:00+00:00",
          "2021-03-24T04:00:00+00:00",
          "2021-03-25T04:00:00+00:00",
          "2021-03-26T04:00:00+00:00",
          "2021-03-29T04:00:00+00:00",
          "2021-03-30T04:00:00+00:00"
         ]
        },
        {
         "hovertemplate": "x=%{x}<br>y=%{y}<extra></extra>",
         "legendgroup": "",
         "line": {
          "color": "#636efa",
          "dash": "solid"
         },
         "marker": {
          "symbol": "circle"
         },
         "mode": "lines",
         "name": "",
         "orientation": "v",
         "showlegend": false,
         "type": "scatter",
         "x": [
          "2021-01-08T05:00:00+00:00",
          "2021-01-11T05:00:00+00:00",
          "2021-01-12T05:00:00+00:00",
          "2021-01-13T05:00:00+00:00",
          "2021-01-14T05:00:00+00:00",
          "2021-01-15T05:00:00+00:00",
          "2021-01-19T05:00:00+00:00",
          "2021-01-20T05:00:00+00:00",
          "2021-01-21T05:00:00+00:00",
          "2021-01-22T05:00:00+00:00",
          "2021-01-25T05:00:00+00:00",
          "2021-01-26T05:00:00+00:00",
          "2021-01-27T05:00:00+00:00",
          "2021-01-28T05:00:00+00:00",
          "2021-01-29T05:00:00+00:00",
          "2021-02-01T05:00:00+00:00",
          "2021-02-02T05:00:00+00:00",
          "2021-02-03T05:00:00+00:00",
          "2021-02-04T05:00:00+00:00",
          "2021-02-05T05:00:00+00:00",
          "2021-02-08T05:00:00+00:00",
          "2021-02-09T05:00:00+00:00",
          "2021-02-10T05:00:00+00:00",
          "2021-02-11T05:00:00+00:00",
          "2021-02-12T05:00:00+00:00",
          "2021-02-16T05:00:00+00:00",
          "2021-02-17T05:00:00+00:00",
          "2021-02-18T05:00:00+00:00",
          "2021-02-19T05:00:00+00:00",
          "2021-02-22T05:00:00+00:00",
          "2021-02-23T05:00:00+00:00",
          "2021-02-24T05:00:00+00:00",
          "2021-02-25T05:00:00+00:00",
          "2021-02-26T05:00:00+00:00",
          "2021-03-01T05:00:00+00:00",
          "2021-03-02T05:00:00+00:00",
          "2021-03-03T05:00:00+00:00",
          "2021-03-04T05:00:00+00:00",
          "2021-03-05T05:00:00+00:00",
          "2021-03-08T05:00:00+00:00",
          "2021-03-09T05:00:00+00:00",
          "2021-03-10T05:00:00+00:00",
          "2021-03-11T05:00:00+00:00",
          "2021-03-12T05:00:00+00:00",
          "2021-03-15T04:00:00+00:00",
          "2021-03-16T04:00:00+00:00",
          "2021-03-17T04:00:00+00:00",
          "2021-03-18T04:00:00+00:00",
          "2021-03-19T04:00:00+00:00",
          "2021-03-22T04:00:00+00:00",
          "2021-03-23T04:00:00+00:00",
          "2021-03-24T04:00:00+00:00",
          "2021-03-25T04:00:00+00:00",
          "2021-03-26T04:00:00+00:00",
          "2021-03-29T04:00:00+00:00",
          "2021-03-30T04:00:00+00:00"
         ],
         "xaxis": "x",
         "y": [
          374.806,
          376.786,
          378.274,
          379.522,
          379.394,
          378.28200000000004,
          378.274,
          379.298,
          380.188,
          381.072,
          382.81,
          383.838,
          381.942,
          380.62,
          378.058,
          376.42600000000004,
          375.978,
          377.466,
          379.178,
          382.706,
          385.562,
          387.302,
          388.948,
          389.852,
          390.83799999999997,
          391.196,
          391.62399999999997,
          391.752,
          391.616,
          390.494,
          389.534,
          389.40999999999997,
          387.73199999999997,
          385.798,
          386.308,
          386.116,
          384.046,
          382.92,
          383.57399999999996,
          382.002,
          382.12800000000004,
          383.76,
          387.126,
          389.212,
          392.15,
          393.898,
          395.434,
          395.024,
          394.108,
          393.344,
          392.062,
          390.114,
          389.758,
          391.058,
          391.696,
          392.742
         ],
         "yaxis": "y"
        }
       ],
       "layout": {
        "template": {
         "data": {
          "bar": [
           {
            "error_x": {
             "color": "#2a3f5f"
            },
            "error_y": {
             "color": "#2a3f5f"
            },
            "marker": {
             "line": {
              "color": "#E5ECF6",
              "width": 0.5
             },
             "pattern": {
              "fillmode": "overlay",
              "size": 10,
              "solidity": 0.2
             }
            },
            "type": "bar"
           }
          ],
          "barpolar": [
           {
            "marker": {
             "line": {
              "color": "#E5ECF6",
              "width": 0.5
             },
             "pattern": {
              "fillmode": "overlay",
              "size": 10,
              "solidity": 0.2
             }
            },
            "type": "barpolar"
           }
          ],
          "carpet": [
           {
            "aaxis": {
             "endlinecolor": "#2a3f5f",
             "gridcolor": "white",
             "linecolor": "white",
             "minorgridcolor": "white",
             "startlinecolor": "#2a3f5f"
            },
            "baxis": {
             "endlinecolor": "#2a3f5f",
             "gridcolor": "white",
             "linecolor": "white",
             "minorgridcolor": "white",
             "startlinecolor": "#2a3f5f"
            },
            "type": "carpet"
           }
          ],
          "choropleth": [
           {
            "colorbar": {
             "outlinewidth": 0,
             "ticks": ""
            },
            "type": "choropleth"
           }
          ],
          "contour": [
           {
            "colorbar": {
             "outlinewidth": 0,
             "ticks": ""
            },
            "colorscale": [
             [
              0,
              "#0d0887"
             ],
             [
              0.1111111111111111,
              "#46039f"
             ],
             [
              0.2222222222222222,
              "#7201a8"
             ],
             [
              0.3333333333333333,
              "#9c179e"
             ],
             [
              0.4444444444444444,
              "#bd3786"
             ],
             [
              0.5555555555555556,
              "#d8576b"
             ],
             [
              0.6666666666666666,
              "#ed7953"
             ],
             [
              0.7777777777777778,
              "#fb9f3a"
             ],
             [
              0.8888888888888888,
              "#fdca26"
             ],
             [
              1,
              "#f0f921"
             ]
            ],
            "type": "contour"
           }
          ],
          "contourcarpet": [
           {
            "colorbar": {
             "outlinewidth": 0,
             "ticks": ""
            },
            "type": "contourcarpet"
           }
          ],
          "heatmap": [
           {
            "colorbar": {
             "outlinewidth": 0,
             "ticks": ""
            },
            "colorscale": [
             [
              0,
              "#0d0887"
             ],
             [
              0.1111111111111111,
              "#46039f"
             ],
             [
              0.2222222222222222,
              "#7201a8"
             ],
             [
              0.3333333333333333,
              "#9c179e"
             ],
             [
              0.4444444444444444,
              "#bd3786"
             ],
             [
              0.5555555555555556,
              "#d8576b"
             ],
             [
              0.6666666666666666,
              "#ed7953"
             ],
             [
              0.7777777777777778,
              "#fb9f3a"
             ],
             [
              0.8888888888888888,
              "#fdca26"
             ],
             [
              1,
              "#f0f921"
             ]
            ],
            "type": "heatmap"
           }
          ],
          "heatmapgl": [
           {
            "colorbar": {
             "outlinewidth": 0,
             "ticks": ""
            },
            "colorscale": [
             [
              0,
              "#0d0887"
             ],
             [
              0.1111111111111111,
              "#46039f"
             ],
             [
              0.2222222222222222,
              "#7201a8"
             ],
             [
              0.3333333333333333,
              "#9c179e"
             ],
             [
              0.4444444444444444,
              "#bd3786"
             ],
             [
              0.5555555555555556,
              "#d8576b"
             ],
             [
              0.6666666666666666,
              "#ed7953"
             ],
             [
              0.7777777777777778,
              "#fb9f3a"
             ],
             [
              0.8888888888888888,
              "#fdca26"
             ],
             [
              1,
              "#f0f921"
             ]
            ],
            "type": "heatmapgl"
           }
          ],
          "histogram": [
           {
            "marker": {
             "pattern": {
              "fillmode": "overlay",
              "size": 10,
              "solidity": 0.2
             }
            },
            "type": "histogram"
           }
          ],
          "histogram2d": [
           {
            "colorbar": {
             "outlinewidth": 0,
             "ticks": ""
            },
            "colorscale": [
             [
              0,
              "#0d0887"
             ],
             [
              0.1111111111111111,
              "#46039f"
             ],
             [
              0.2222222222222222,
              "#7201a8"
             ],
             [
              0.3333333333333333,
              "#9c179e"
             ],
             [
              0.4444444444444444,
              "#bd3786"
             ],
             [
              0.5555555555555556,
              "#d8576b"
             ],
             [
              0.6666666666666666,
              "#ed7953"
             ],
             [
              0.7777777777777778,
              "#fb9f3a"
             ],
             [
              0.8888888888888888,
              "#fdca26"
             ],
             [
              1,
              "#f0f921"
             ]
            ],
            "type": "histogram2d"
           }
          ],
          "histogram2dcontour": [
           {
            "colorbar": {
             "outlinewidth": 0,
             "ticks": ""
            },
            "colorscale": [
             [
              0,
              "#0d0887"
             ],
             [
              0.1111111111111111,
              "#46039f"
             ],
             [
              0.2222222222222222,
              "#7201a8"
             ],
             [
              0.3333333333333333,
              "#9c179e"
             ],
             [
              0.4444444444444444,
              "#bd3786"
             ],
             [
              0.5555555555555556,
              "#d8576b"
             ],
             [
              0.6666666666666666,
              "#ed7953"
             ],
             [
              0.7777777777777778,
              "#fb9f3a"
             ],
             [
              0.8888888888888888,
              "#fdca26"
             ],
             [
              1,
              "#f0f921"
             ]
            ],
            "type": "histogram2dcontour"
           }
          ],
          "mesh3d": [
           {
            "colorbar": {
             "outlinewidth": 0,
             "ticks": ""
            },
            "type": "mesh3d"
           }
          ],
          "parcoords": [
           {
            "line": {
             "colorbar": {
              "outlinewidth": 0,
              "ticks": ""
             }
            },
            "type": "parcoords"
           }
          ],
          "pie": [
           {
            "automargin": true,
            "type": "pie"
           }
          ],
          "scatter": [
           {
            "fillpattern": {
             "fillmode": "overlay",
             "size": 10,
             "solidity": 0.2
            },
            "type": "scatter"
           }
          ],
          "scatter3d": [
           {
            "line": {
             "colorbar": {
              "outlinewidth": 0,
              "ticks": ""
             }
            },
            "marker": {
             "colorbar": {
              "outlinewidth": 0,
              "ticks": ""
             }
            },
            "type": "scatter3d"
           }
          ],
          "scattercarpet": [
           {
            "marker": {
             "colorbar": {
              "outlinewidth": 0,
              "ticks": ""
             }
            },
            "type": "scattercarpet"
           }
          ],
          "scattergeo": [
           {
            "marker": {
             "colorbar": {
              "outlinewidth": 0,
              "ticks": ""
             }
            },
            "type": "scattergeo"
           }
          ],
          "scattergl": [
           {
            "marker": {
             "colorbar": {
              "outlinewidth": 0,
              "ticks": ""
             }
            },
            "type": "scattergl"
           }
          ],
          "scattermapbox": [
           {
            "marker": {
             "colorbar": {
              "outlinewidth": 0,
              "ticks": ""
             }
            },
            "type": "scattermapbox"
           }
          ],
          "scatterpolar": [
           {
            "marker": {
             "colorbar": {
              "outlinewidth": 0,
              "ticks": ""
             }
            },
            "type": "scatterpolar"
           }
          ],
          "scatterpolargl": [
           {
            "marker": {
             "colorbar": {
              "outlinewidth": 0,
              "ticks": ""
             }
            },
            "type": "scatterpolargl"
           }
          ],
          "scatterternary": [
           {
            "marker": {
             "colorbar": {
              "outlinewidth": 0,
              "ticks": ""
             }
            },
            "type": "scatterternary"
           }
          ],
          "surface": [
           {
            "colorbar": {
             "outlinewidth": 0,
             "ticks": ""
            },
            "colorscale": [
             [
              0,
              "#0d0887"
             ],
             [
              0.1111111111111111,
              "#46039f"
             ],
             [
              0.2222222222222222,
              "#7201a8"
             ],
             [
              0.3333333333333333,
              "#9c179e"
             ],
             [
              0.4444444444444444,
              "#bd3786"
             ],
             [
              0.5555555555555556,
              "#d8576b"
             ],
             [
              0.6666666666666666,
              "#ed7953"
             ],
             [
              0.7777777777777778,
              "#fb9f3a"
             ],
             [
              0.8888888888888888,
              "#fdca26"
             ],
             [
              1,
              "#f0f921"
             ]
            ],
            "type": "surface"
           }
          ],
          "table": [
           {
            "cells": {
             "fill": {
              "color": "#EBF0F8"
             },
             "line": {
              "color": "white"
             }
            },
            "header": {
             "fill": {
              "color": "#C8D4E3"
             },
             "line": {
              "color": "white"
             }
            },
            "type": "table"
           }
          ]
         },
         "layout": {
          "annotationdefaults": {
           "arrowcolor": "#2a3f5f",
           "arrowhead": 0,
           "arrowwidth": 1
          },
          "autotypenumbers": "strict",
          "coloraxis": {
           "colorbar": {
            "outlinewidth": 0,
            "ticks": ""
           }
          },
          "colorscale": {
           "diverging": [
            [
             0,
             "#8e0152"
            ],
            [
             0.1,
             "#c51b7d"
            ],
            [
             0.2,
             "#de77ae"
            ],
            [
             0.3,
             "#f1b6da"
            ],
            [
             0.4,
             "#fde0ef"
            ],
            [
             0.5,
             "#f7f7f7"
            ],
            [
             0.6,
             "#e6f5d0"
            ],
            [
             0.7,
             "#b8e186"
            ],
            [
             0.8,
             "#7fbc41"
            ],
            [
             0.9,
             "#4d9221"
            ],
            [
             1,
             "#276419"
            ]
           ],
           "sequential": [
            [
             0,
             "#0d0887"
            ],
            [
             0.1111111111111111,
             "#46039f"
            ],
            [
             0.2222222222222222,
             "#7201a8"
            ],
            [
             0.3333333333333333,
             "#9c179e"
            ],
            [
             0.4444444444444444,
             "#bd3786"
            ],
            [
             0.5555555555555556,
             "#d8576b"
            ],
            [
             0.6666666666666666,
             "#ed7953"
            ],
            [
             0.7777777777777778,
             "#fb9f3a"
            ],
            [
             0.8888888888888888,
             "#fdca26"
            ],
            [
             1,
             "#f0f921"
            ]
           ],
           "sequentialminus": [
            [
             0,
             "#0d0887"
            ],
            [
             0.1111111111111111,
             "#46039f"
            ],
            [
             0.2222222222222222,
             "#7201a8"
            ],
            [
             0.3333333333333333,
             "#9c179e"
            ],
            [
             0.4444444444444444,
             "#bd3786"
            ],
            [
             0.5555555555555556,
             "#d8576b"
            ],
            [
             0.6666666666666666,
             "#ed7953"
            ],
            [
             0.7777777777777778,
             "#fb9f3a"
            ],
            [
             0.8888888888888888,
             "#fdca26"
            ],
            [
             1,
             "#f0f921"
            ]
           ]
          },
          "colorway": [
           "#636efa",
           "#EF553B",
           "#00cc96",
           "#ab63fa",
           "#FFA15A",
           "#19d3f3",
           "#FF6692",
           "#B6E880",
           "#FF97FF",
           "#FECB52"
          ],
          "font": {
           "color": "#2a3f5f"
          },
          "geo": {
           "bgcolor": "white",
           "lakecolor": "white",
           "landcolor": "#E5ECF6",
           "showlakes": true,
           "showland": true,
           "subunitcolor": "white"
          },
          "hoverlabel": {
           "align": "left"
          },
          "hovermode": "closest",
          "mapbox": {
           "style": "light"
          },
          "paper_bgcolor": "white",
          "plot_bgcolor": "#E5ECF6",
          "polar": {
           "angularaxis": {
            "gridcolor": "white",
            "linecolor": "white",
            "ticks": ""
           },
           "bgcolor": "#E5ECF6",
           "radialaxis": {
            "gridcolor": "white",
            "linecolor": "white",
            "ticks": ""
           }
          },
          "scene": {
           "xaxis": {
            "backgroundcolor": "#E5ECF6",
            "gridcolor": "white",
            "gridwidth": 2,
            "linecolor": "white",
            "showbackground": true,
            "ticks": "",
            "zerolinecolor": "white"
           },
           "yaxis": {
            "backgroundcolor": "#E5ECF6",
            "gridcolor": "white",
            "gridwidth": 2,
            "linecolor": "white",
            "showbackground": true,
            "ticks": "",
            "zerolinecolor": "white"
           },
           "zaxis": {
            "backgroundcolor": "#E5ECF6",
            "gridcolor": "white",
            "gridwidth": 2,
            "linecolor": "white",
            "showbackground": true,
            "ticks": "",
            "zerolinecolor": "white"
           }
          },
          "shapedefaults": {
           "line": {
            "color": "#2a3f5f"
           }
          },
          "ternary": {
           "aaxis": {
            "gridcolor": "white",
            "linecolor": "white",
            "ticks": ""
           },
           "baxis": {
            "gridcolor": "white",
            "linecolor": "white",
            "ticks": ""
           },
           "bgcolor": "#E5ECF6",
           "caxis": {
            "gridcolor": "white",
            "linecolor": "white",
            "ticks": ""
           }
          },
          "title": {
           "x": 0.05
          },
          "xaxis": {
           "automargin": true,
           "gridcolor": "white",
           "linecolor": "white",
           "ticks": "",
           "title": {
            "standoff": 15
           },
           "zerolinecolor": "white",
           "zerolinewidth": 2
          },
          "yaxis": {
           "automargin": true,
           "gridcolor": "white",
           "linecolor": "white",
           "ticks": "",
           "title": {
            "standoff": 15
           },
           "zerolinecolor": "white",
           "zerolinewidth": 2
          }
         }
        }
       }
      }
     },
     "metadata": {},
     "output_type": "display_data"
    }
   ],
   "source": [
    "sma_sp500 = go.Figure(data=[go.Candlestick(x=spy_bars.index,\n",
    "                open=spy_bars['open'],\n",
    "                high=spy_bars['high'],\n",
    "                low=spy_bars['low'],\n",
    "                close=spy_bars['close'])])\n",
    "\n",
    "# Create Line Plot for SMA\n",
    "sma_fig = px.line(x=sma.index, y=sma)\n",
    "\n",
    "# Combine plots\n",
    "fig = go.Figure(data=sma_sp500.data + sma_fig.data)\n",
    "\n",
    "# Display chart\n",
    "fig.show()"
   ]
  },
  {
   "cell_type": "code",
   "execution_count": null,
   "id": "7b0d4acf-cbe2-4aa6-9767-5dedea88b190",
   "metadata": {},
   "outputs": [],
   "source": [
    "# Custom Portfolio?\n",
    "\n",
    "\n",
    "\n"
   ]
  },
  {
   "cell_type": "code",
   "execution_count": null,
   "id": "dd6a24da",
   "metadata": {},
   "outputs": [],
   "source": [
    "\n",
    "# URL\n",
    "url_assets = 'https://data.alpaca.markets/v2'\n",
    "\n",
    "# Rest API\n",
    "rest_api = REST(API_KEY, SECRET_KEY, 'https://data.alpaca.markets/v2')"
   ]
  },
  {
   "cell_type": "code",
   "execution_count": 47,
   "id": "ef5de9a6",
   "metadata": {},
   "outputs": [
    {
     "ename": "NameError",
     "evalue": "name 'status' is not defined",
     "output_type": "error",
     "traceback": [
      "\u001b[1;31m---------------------------------------------------------------------------\u001b[0m",
      "\u001b[1;31mNameError\u001b[0m                                 Traceback (most recent call last)",
      "\u001b[1;32mc:\\Users\\CharbelNehme\\CNA Immigration 1 Dropbox\\Charbel Nehme\\PC\\Documents\\usyd-syd-fin-pt-12-2021-u-c\\Projects\\sp500.ipynb Cell 24'\u001b[0m in \u001b[0;36m<cell line: 2>\u001b[1;34m()\u001b[0m\n\u001b[0;32m      <a href='vscode-notebook-cell:/c%3A/Users/CharbelNehme/CNA%20Immigration%201%20Dropbox/Charbel%20Nehme/PC/Documents/usyd-syd-fin-pt-12-2021-u-c/Projects/sp500.ipynb#ch0000031?line=0'>1</a>\u001b[0m assets \u001b[39m=\u001b[39m {\n\u001b[1;32m----> <a href='vscode-notebook-cell:/c%3A/Users/CharbelNehme/CNA%20Immigration%201%20Dropbox/Charbel%20Nehme/PC/Documents/usyd-syd-fin-pt-12-2021-u-c/Projects/sp500.ipynb#ch0000031?line=1'>2</a>\u001b[0m         \u001b[39m'\u001b[39m\u001b[39mstatus\u001b[39m\u001b[39m'\u001b[39m:      status,\n\u001b[0;32m      <a href='vscode-notebook-cell:/c%3A/Users/CharbelNehme/CNA%20Immigration%201%20Dropbox/Charbel%20Nehme/PC/Documents/usyd-syd-fin-pt-12-2021-u-c/Projects/sp500.ipynb#ch0000031?line=2'>3</a>\u001b[0m         \u001b[39m'\u001b[39m\u001b[39masset_class\u001b[39m\u001b[39m'\u001b[39m: asset_class,\n\u001b[0;32m      <a href='vscode-notebook-cell:/c%3A/Users/CharbelNehme/CNA%20Immigration%201%20Dropbox/Charbel%20Nehme/PC/Documents/usyd-syd-fin-pt-12-2021-u-c/Projects/sp500.ipynb#ch0000031?line=3'>4</a>\u001b[0m     }\n",
      "\u001b[1;31mNameError\u001b[0m: name 'status' is not defined"
     ]
    }
   ],
   "source": [
    "assets = {\n",
    "        'status':      status,\n",
    "        'asset_class': asset_class,\n",
    "    }"
   ]
  }
 ],
 "metadata": {
  "kernelspec": {
   "display_name": "Python 3 (ipykernel)",
   "language": "python",
   "name": "python3"
  },
  "language_info": {
   "codemirror_mode": {
    "name": "ipython",
    "version": 3
   },
   "file_extension": ".py",
   "mimetype": "text/x-python",
   "name": "python",
   "nbconvert_exporter": "python",
   "pygments_lexer": "ipython3",
   "version": "3.9.7"
  }
 },
 "nbformat": 4,
 "nbformat_minor": 5
}
