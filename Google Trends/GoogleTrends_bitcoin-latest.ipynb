{
 "cells": [
  {
   "cell_type": "code",
   "execution_count": 1,
   "id": "a328656b",
   "metadata": {},
   "outputs": [],
   "source": [
    "# !pip install pytrends\n",
    "import numpy as np\n",
    "import matplotlib.pyplot as plt\n",
    "from datetime import date, datetime, timedelta\n",
    "from pytrends.request import TrendReq\n",
    "import time\n",
    "import pandas as pd\n",
    "import matplotlib\n",
    "import gtrend   \n",
    "\n",
    "plt.style.use('seaborn-darkgrid')\n",
    "matplotlib.rcParams['font.family'] = ['Heiti TC']\n",
    "def rmax(maxrow: int=50):\n",
    "    pd.set_option('display.max_rows', maxrow)\n",
    "\n",
    "def cmax(maxcol: int=50):\n",
    "    pd.set_option('display.max_columns', maxcol)"
   ]
  },
  {
   "cell_type": "markdown",
   "id": "f612f10f",
   "metadata": {},
   "source": [
    "Setup the query terms and conditions"
   ]
  },
  {
   "cell_type": "markdown",
   "id": "a6296a4b",
   "metadata": {},
   "source": [
    "Keywords to be used:\n",
    "* Bitcoin (BTC) \n",
    "* Ethereum (ETH) \n",
    "* Tether (USDT) \n",
    "* Binance Coin (BNB)\n",
    "* USD Coin (USDC) \n",
    "* Solana (SOL)\n",
    "* XRP (XRP)\n",
    "* Terra (LUNA)\n",
    "* Cardano (ADA)\n",
    "* Avalanche (AVAX)\n",
    "* Polkadot (DOT)\n",
    "* Dogecoin (DOGE)"
   ]
  },
  {
   "cell_type": "code",
   "execution_count": 2,
   "id": "27207d63",
   "metadata": {},
   "outputs": [],
   "source": [
    "#Trying out just bitcoin to start\n",
    "pytrend = TrendReq(hl='en-US')\n",
    "keyword = 'bitcoin'\n",
    "start = '2017-01-01'\n",
    "end = '2021-11-23'\n",
    "geo='US'\n",
    "cat=0\n",
    "gprop=''\n",
    "requests_args={'verify':False}"
   ]
  },
  {
   "cell_type": "code",
   "execution_count": 3,
   "id": "e78242c7",
   "metadata": {},
   "outputs": [],
   "source": [
    "single_names = [\"bitcoin\",\"ethereum\",\"tether\",\"binance coin\", \"usd coin\"]"
   ]
  },
  {
   "cell_type": "code",
   "execution_count": 4,
   "id": "f43600b9",
   "metadata": {},
   "outputs": [],
   "source": [
    "# For the loop for different coins\n",
    "\n",
    "# dicti = {}\n",
    "# for keyword in single_names:\n",
    "#     try:\n",
    "#         pytrends.build_payload(kw_list=keyword,\n",
    "#                               timeframe = DATE_INTERVAL,\n",
    "#                               cat=CATEGORY,\n",
    "#                               gprop='')\n",
    "#         dicti[keyword] =pytrends.interest_over_time()\n",
    "#         time.sleep(6)\n",
    "#     except requests.exceptions.Timeout:\n",
    "#         print('Timeout occured')\n",
    "#         df_trends = pd.concat(dicti,axis=1)\n",
    "#         df_trends.head()"
   ]
  },
  {
   "cell_type": "code",
   "execution_count": 5,
   "id": "9af2ab39",
   "metadata": {
    "scrolled": true
   },
   "outputs": [
    {
     "name": "stdout",
     "output_type": "stream",
     "text": [
      "Fetching 'bitcoin' for period:2021-02-27 2021-11-23\n",
      "Fetching 'bitcoin' for period:2020-09-11 2021-06-07\n",
      "Normalize by overlapping period:2021-02-27 2021-06-07\n",
      "Fetching 'bitcoin' for period:2020-03-26 2020-12-20\n",
      "Normalize by overlapping period:2020-09-11 2020-12-20\n",
      "Fetching 'bitcoin' for period:2019-10-09 2020-07-04\n",
      "Normalize by overlapping period:2020-03-26 2020-07-04\n",
      "Fetching 'bitcoin' for period:2019-04-23 2020-01-17\n",
      "Normalize by overlapping period:2019-10-09 2020-01-17\n",
      "Fetching 'bitcoin' for period:2018-11-05 2019-08-01\n",
      "Normalize by overlapping period:2019-04-23 2019-08-01\n",
      "Fetching 'bitcoin' for period:2018-05-20 2019-02-13\n",
      "Normalize by overlapping period:2018-11-05 2019-02-13\n",
      "Fetching 'bitcoin' for period:2017-12-02 2018-08-28\n",
      "Normalize by overlapping period:2018-05-20 2018-08-28\n",
      "Fetching 'bitcoin' for period:2017-06-16 2018-03-12\n",
      "Normalize by overlapping period:2017-12-02 2018-03-12\n",
      "Fetching 'bitcoin' for period:2016-12-29 2017-09-24\n",
      "Normalize by overlapping period:2017-06-16 2017-09-24\n",
      "Fetching 'bitcoin' for period:2016-07-13 2017-04-08\n",
      "Normalize by overlapping period:2016-12-29 2017-04-08\n",
      "Fetching 'ethereum' for period:2021-02-27 2021-11-23\n",
      "Fetching 'ethereum' for period:2020-09-11 2021-06-07\n",
      "Normalize by overlapping period:2021-02-27 2021-06-07\n",
      "Fetching 'ethereum' for period:2020-03-26 2020-12-20\n",
      "Normalize by overlapping period:2020-09-11 2020-12-20\n",
      "Fetching 'ethereum' for period:2019-10-09 2020-07-04\n",
      "Normalize by overlapping period:2020-03-26 2020-07-04\n",
      "Fetching 'ethereum' for period:2019-04-23 2020-01-17\n",
      "Normalize by overlapping period:2019-10-09 2020-01-17\n",
      "Fetching 'ethereum' for period:2018-11-05 2019-08-01\n",
      "Normalize by overlapping period:2019-04-23 2019-08-01\n",
      "Fetching 'ethereum' for period:2018-05-20 2019-02-13\n",
      "Normalize by overlapping period:2018-11-05 2019-02-13\n",
      "Fetching 'ethereum' for period:2017-12-02 2018-08-28\n",
      "Normalize by overlapping period:2018-05-20 2018-08-28\n",
      "Fetching 'ethereum' for period:2017-06-16 2018-03-12\n",
      "Normalize by overlapping period:2017-12-02 2018-03-12\n",
      "Fetching 'ethereum' for period:2016-12-29 2017-09-24\n",
      "Normalize by overlapping period:2017-06-16 2017-09-24\n",
      "Fetching 'ethereum' for period:2016-07-13 2017-04-08\n",
      "Normalize by overlapping period:2016-12-29 2017-04-08\n",
      "Fetching 'tether' for period:2021-02-27 2021-11-23\n",
      "Fetching 'tether' for period:2020-09-11 2021-06-07\n",
      "Normalize by overlapping period:2021-02-27 2021-06-07\n",
      "Fetching 'tether' for period:2020-03-26 2020-12-20\n",
      "Normalize by overlapping period:2020-09-11 2020-12-20\n",
      "Fetching 'tether' for period:2019-10-09 2020-07-04\n",
      "Normalize by overlapping period:2020-03-26 2020-07-04\n",
      "Fetching 'tether' for period:2019-04-23 2020-01-17\n",
      "Normalize by overlapping period:2019-10-09 2020-01-17\n",
      "Fetching 'tether' for period:2018-11-05 2019-08-01\n",
      "Normalize by overlapping period:2019-04-23 2019-08-01\n",
      "Fetching 'tether' for period:2018-05-20 2019-02-13\n",
      "Normalize by overlapping period:2018-11-05 2019-02-13\n",
      "Fetching 'tether' for period:2017-12-02 2018-08-28\n",
      "Normalize by overlapping period:2018-05-20 2018-08-28\n",
      "Fetching 'tether' for period:2017-06-16 2018-03-12\n",
      "Normalize by overlapping period:2017-12-02 2018-03-12\n",
      "Fetching 'tether' for period:2016-12-29 2017-09-24\n",
      "Normalize by overlapping period:2017-06-16 2017-09-24\n",
      "Fetching 'tether' for period:2016-07-13 2017-04-08\n",
      "Normalize by overlapping period:2016-12-29 2017-04-08\n",
      "Fetching 'binance coin' for period:2021-02-27 2021-11-23\n",
      "Fetching 'binance coin' for period:2020-09-11 2021-06-07\n",
      "Normalize by overlapping period:2021-02-27 2021-06-07\n",
      "Fetching 'binance coin' for period:2020-03-26 2020-12-20\n",
      "Normalize by overlapping period:2020-09-11 2020-12-20\n",
      "Fetching 'binance coin' for period:2019-10-09 2020-07-04\n",
      "Normalize by overlapping period:2020-03-26 2020-07-04\n",
      "Fetching 'binance coin' for period:2019-04-23 2020-01-17\n",
      "Normalize by overlapping period:2019-10-09 2020-01-17\n",
      "Fetching 'binance coin' for period:2018-11-05 2019-08-01\n",
      "Normalize by overlapping period:2019-04-23 2019-08-01\n",
      "Fetching 'binance coin' for period:2018-05-20 2019-02-13\n",
      "Normalize by overlapping period:2018-11-05 2019-02-13\n",
      "Fetching 'binance coin' for period:2017-12-02 2018-08-28\n",
      "Normalize by overlapping period:2018-05-20 2018-08-28\n",
      "Fetching 'binance coin' for period:2017-06-16 2018-03-12\n",
      "Normalize by overlapping period:2017-12-02 2018-03-12\n",
      "Fetching 'binance coin' for period:2016-12-29 2017-09-24\n",
      "Normalize by overlapping period:2017-06-16 2017-09-24\n",
      "Fetching 'binance coin' for period:2016-07-13 2017-04-08\n"
     ]
    },
    {
     "ename": "KeyError",
     "evalue": "\"['isPartial'] not found in axis\"",
     "output_type": "error",
     "traceback": [
      "\u001b[1;31m---------------------------------------------------------------------------\u001b[0m",
      "\u001b[1;31mKeyError\u001b[0m                                  Traceback (most recent call last)",
      "\u001b[1;32m~\\AppData\\Local\\Temp\\ipykernel_26772\\1229041956.py\u001b[0m in \u001b[0;36m<module>\u001b[1;34m\u001b[0m\n\u001b[0;32m      1\u001b[0m \u001b[0mdicti\u001b[0m \u001b[1;33m=\u001b[0m \u001b[1;33m{\u001b[0m\u001b[1;33m}\u001b[0m\u001b[1;33m\u001b[0m\u001b[1;33m\u001b[0m\u001b[0m\n\u001b[0;32m      2\u001b[0m \u001b[1;32mfor\u001b[0m \u001b[0mkeyword\u001b[0m \u001b[1;32min\u001b[0m \u001b[0msingle_names\u001b[0m\u001b[1;33m:\u001b[0m\u001b[1;33m\u001b[0m\u001b[1;33m\u001b[0m\u001b[0m\n\u001b[1;32m----> 3\u001b[1;33m     \u001b[0mdicti\u001b[0m\u001b[1;33m[\u001b[0m\u001b[0mkeyword\u001b[0m\u001b[1;33m]\u001b[0m \u001b[1;33m=\u001b[0m \u001b[0mgtrend\u001b[0m\u001b[1;33m.\u001b[0m\u001b[0mget_daily_trend\u001b[0m\u001b[1;33m(\u001b[0m\u001b[0mpytrend\u001b[0m\u001b[1;33m,\u001b[0m \u001b[0mkeyword\u001b[0m\u001b[1;33m,\u001b[0m \u001b[0mstart\u001b[0m\u001b[1;33m,\u001b[0m \u001b[0mend\u001b[0m\u001b[1;33m,\u001b[0m \u001b[0mgeo\u001b[0m\u001b[1;33m=\u001b[0m\u001b[0mgeo\u001b[0m\u001b[1;33m,\u001b[0m \u001b[0mcat\u001b[0m\u001b[1;33m=\u001b[0m\u001b[0mcat\u001b[0m\u001b[1;33m,\u001b[0m \u001b[0mgprop\u001b[0m\u001b[1;33m=\u001b[0m\u001b[0mgprop\u001b[0m\u001b[1;33m,\u001b[0m \u001b[0mverbose\u001b[0m\u001b[1;33m=\u001b[0m\u001b[1;32mTrue\u001b[0m\u001b[1;33m,\u001b[0m \u001b[0mtz\u001b[0m\u001b[1;33m=\u001b[0m\u001b[1;36m0\u001b[0m\u001b[1;33m)\u001b[0m\u001b[1;33m.\u001b[0m\u001b[0miloc\u001b[0m\u001b[1;33m[\u001b[0m\u001b[1;33m:\u001b[0m\u001b[1;33m,\u001b[0m\u001b[1;36m0\u001b[0m\u001b[1;33m]\u001b[0m\u001b[1;33m\u001b[0m\u001b[1;33m\u001b[0m\u001b[0m\n\u001b[0m",
      "\u001b[1;32m~\\Project-2\\Google Trends\\gtrend.py\u001b[0m in \u001b[0;36mget_daily_trend\u001b[1;34m(trendreq, keyword, start, end, cat, geo, gprop, delta, overlap, sleep, tz, verbose)\u001b[0m\n\u001b[0;32m     81\u001b[0m         \u001b[1;32mif\u001b[0m \u001b[0mverbose\u001b[0m\u001b[1;33m:\u001b[0m \u001b[0mprint\u001b[0m\u001b[1;33m(\u001b[0m\u001b[1;34m'Fetching \\''\u001b[0m\u001b[1;33m+\u001b[0m\u001b[0mkeyword\u001b[0m\u001b[1;33m+\u001b[0m\u001b[1;34m'\\' for period:'\u001b[0m\u001b[1;33m+\u001b[0m\u001b[0mtf\u001b[0m\u001b[1;33m)\u001b[0m\u001b[1;33m\u001b[0m\u001b[1;33m\u001b[0m\u001b[0m\n\u001b[0;32m     82\u001b[0m         \u001b[0mtemp\u001b[0m \u001b[1;33m=\u001b[0m \u001b[0m_fetch_data\u001b[0m\u001b[1;33m(\u001b[0m\u001b[0mtrendreq\u001b[0m\u001b[1;33m,\u001b[0m \u001b[1;33m[\u001b[0m\u001b[0mkeyword\u001b[0m\u001b[1;33m]\u001b[0m\u001b[1;33m,\u001b[0m \u001b[0mtimeframe\u001b[0m\u001b[1;33m=\u001b[0m\u001b[0mtf\u001b[0m\u001b[1;33m,\u001b[0m \u001b[0mcat\u001b[0m\u001b[1;33m=\u001b[0m\u001b[0mcat\u001b[0m\u001b[1;33m,\u001b[0m \u001b[0mgeo\u001b[0m\u001b[1;33m=\u001b[0m\u001b[0mgeo\u001b[0m\u001b[1;33m,\u001b[0m \u001b[0mgprop\u001b[0m\u001b[1;33m=\u001b[0m\u001b[0mgprop\u001b[0m\u001b[1;33m)\u001b[0m\u001b[1;33m\u001b[0m\u001b[1;33m\u001b[0m\u001b[0m\n\u001b[1;32m---> 83\u001b[1;33m         \u001b[0mtemp\u001b[0m\u001b[1;33m.\u001b[0m\u001b[0mdrop\u001b[0m\u001b[1;33m(\u001b[0m\u001b[0mcolumns\u001b[0m\u001b[1;33m=\u001b[0m\u001b[1;33m[\u001b[0m\u001b[1;34m'isPartial'\u001b[0m\u001b[1;33m]\u001b[0m\u001b[1;33m,\u001b[0m \u001b[0minplace\u001b[0m\u001b[1;33m=\u001b[0m\u001b[1;32mTrue\u001b[0m\u001b[1;33m)\u001b[0m\u001b[1;33m\u001b[0m\u001b[1;33m\u001b[0m\u001b[0m\n\u001b[0m\u001b[0;32m     84\u001b[0m         \u001b[0mtemp\u001b[0m\u001b[1;33m.\u001b[0m\u001b[0mcolumns\u001b[0m\u001b[1;33m.\u001b[0m\u001b[0mvalues\u001b[0m\u001b[1;33m[\u001b[0m\u001b[1;36m0\u001b[0m\u001b[1;33m]\u001b[0m \u001b[1;33m=\u001b[0m \u001b[0mtf\u001b[0m\u001b[1;33m\u001b[0m\u001b[1;33m\u001b[0m\u001b[0m\n\u001b[0;32m     85\u001b[0m         \u001b[0mol_temp\u001b[0m \u001b[1;33m=\u001b[0m \u001b[0mtemp\u001b[0m\u001b[1;33m.\u001b[0m\u001b[0mcopy\u001b[0m\u001b[1;33m(\u001b[0m\u001b[1;33m)\u001b[0m\u001b[1;33m\u001b[0m\u001b[1;33m\u001b[0m\u001b[0m\n",
      "\u001b[1;32m~\\anaconda3\\envs\\mlenv\\lib\\site-packages\\pandas\\util\\_decorators.py\u001b[0m in \u001b[0;36mwrapper\u001b[1;34m(*args, **kwargs)\u001b[0m\n\u001b[0;32m    309\u001b[0m                     \u001b[0mstacklevel\u001b[0m\u001b[1;33m=\u001b[0m\u001b[0mstacklevel\u001b[0m\u001b[1;33m,\u001b[0m\u001b[1;33m\u001b[0m\u001b[1;33m\u001b[0m\u001b[0m\n\u001b[0;32m    310\u001b[0m                 )\n\u001b[1;32m--> 311\u001b[1;33m             \u001b[1;32mreturn\u001b[0m \u001b[0mfunc\u001b[0m\u001b[1;33m(\u001b[0m\u001b[1;33m*\u001b[0m\u001b[0margs\u001b[0m\u001b[1;33m,\u001b[0m \u001b[1;33m**\u001b[0m\u001b[0mkwargs\u001b[0m\u001b[1;33m)\u001b[0m\u001b[1;33m\u001b[0m\u001b[1;33m\u001b[0m\u001b[0m\n\u001b[0m\u001b[0;32m    312\u001b[0m \u001b[1;33m\u001b[0m\u001b[0m\n\u001b[0;32m    313\u001b[0m         \u001b[1;32mreturn\u001b[0m \u001b[0mwrapper\u001b[0m\u001b[1;33m\u001b[0m\u001b[1;33m\u001b[0m\u001b[0m\n",
      "\u001b[1;32m~\\anaconda3\\envs\\mlenv\\lib\\site-packages\\pandas\\core\\frame.py\u001b[0m in \u001b[0;36mdrop\u001b[1;34m(self, labels, axis, index, columns, level, inplace, errors)\u001b[0m\n\u001b[0;32m   4911\u001b[0m             \u001b[0mlevel\u001b[0m\u001b[1;33m=\u001b[0m\u001b[0mlevel\u001b[0m\u001b[1;33m,\u001b[0m\u001b[1;33m\u001b[0m\u001b[1;33m\u001b[0m\u001b[0m\n\u001b[0;32m   4912\u001b[0m             \u001b[0minplace\u001b[0m\u001b[1;33m=\u001b[0m\u001b[0minplace\u001b[0m\u001b[1;33m,\u001b[0m\u001b[1;33m\u001b[0m\u001b[1;33m\u001b[0m\u001b[0m\n\u001b[1;32m-> 4913\u001b[1;33m             \u001b[0merrors\u001b[0m\u001b[1;33m=\u001b[0m\u001b[0merrors\u001b[0m\u001b[1;33m,\u001b[0m\u001b[1;33m\u001b[0m\u001b[1;33m\u001b[0m\u001b[0m\n\u001b[0m\u001b[0;32m   4914\u001b[0m         )\n\u001b[0;32m   4915\u001b[0m \u001b[1;33m\u001b[0m\u001b[0m\n",
      "\u001b[1;32m~\\anaconda3\\envs\\mlenv\\lib\\site-packages\\pandas\\core\\generic.py\u001b[0m in \u001b[0;36mdrop\u001b[1;34m(self, labels, axis, index, columns, level, inplace, errors)\u001b[0m\n\u001b[0;32m   4148\u001b[0m         \u001b[1;32mfor\u001b[0m \u001b[0maxis\u001b[0m\u001b[1;33m,\u001b[0m \u001b[0mlabels\u001b[0m \u001b[1;32min\u001b[0m \u001b[0maxes\u001b[0m\u001b[1;33m.\u001b[0m\u001b[0mitems\u001b[0m\u001b[1;33m(\u001b[0m\u001b[1;33m)\u001b[0m\u001b[1;33m:\u001b[0m\u001b[1;33m\u001b[0m\u001b[1;33m\u001b[0m\u001b[0m\n\u001b[0;32m   4149\u001b[0m             \u001b[1;32mif\u001b[0m \u001b[0mlabels\u001b[0m \u001b[1;32mis\u001b[0m \u001b[1;32mnot\u001b[0m \u001b[1;32mNone\u001b[0m\u001b[1;33m:\u001b[0m\u001b[1;33m\u001b[0m\u001b[1;33m\u001b[0m\u001b[0m\n\u001b[1;32m-> 4150\u001b[1;33m                 \u001b[0mobj\u001b[0m \u001b[1;33m=\u001b[0m \u001b[0mobj\u001b[0m\u001b[1;33m.\u001b[0m\u001b[0m_drop_axis\u001b[0m\u001b[1;33m(\u001b[0m\u001b[0mlabels\u001b[0m\u001b[1;33m,\u001b[0m \u001b[0maxis\u001b[0m\u001b[1;33m,\u001b[0m \u001b[0mlevel\u001b[0m\u001b[1;33m=\u001b[0m\u001b[0mlevel\u001b[0m\u001b[1;33m,\u001b[0m \u001b[0merrors\u001b[0m\u001b[1;33m=\u001b[0m\u001b[0merrors\u001b[0m\u001b[1;33m)\u001b[0m\u001b[1;33m\u001b[0m\u001b[1;33m\u001b[0m\u001b[0m\n\u001b[0m\u001b[0;32m   4151\u001b[0m \u001b[1;33m\u001b[0m\u001b[0m\n\u001b[0;32m   4152\u001b[0m         \u001b[1;32mif\u001b[0m \u001b[0minplace\u001b[0m\u001b[1;33m:\u001b[0m\u001b[1;33m\u001b[0m\u001b[1;33m\u001b[0m\u001b[0m\n",
      "\u001b[1;32m~\\anaconda3\\envs\\mlenv\\lib\\site-packages\\pandas\\core\\generic.py\u001b[0m in \u001b[0;36m_drop_axis\u001b[1;34m(self, labels, axis, level, errors)\u001b[0m\n\u001b[0;32m   4183\u001b[0m                 \u001b[0mnew_axis\u001b[0m \u001b[1;33m=\u001b[0m \u001b[0maxis\u001b[0m\u001b[1;33m.\u001b[0m\u001b[0mdrop\u001b[0m\u001b[1;33m(\u001b[0m\u001b[0mlabels\u001b[0m\u001b[1;33m,\u001b[0m \u001b[0mlevel\u001b[0m\u001b[1;33m=\u001b[0m\u001b[0mlevel\u001b[0m\u001b[1;33m,\u001b[0m \u001b[0merrors\u001b[0m\u001b[1;33m=\u001b[0m\u001b[0merrors\u001b[0m\u001b[1;33m)\u001b[0m\u001b[1;33m\u001b[0m\u001b[1;33m\u001b[0m\u001b[0m\n\u001b[0;32m   4184\u001b[0m             \u001b[1;32melse\u001b[0m\u001b[1;33m:\u001b[0m\u001b[1;33m\u001b[0m\u001b[1;33m\u001b[0m\u001b[0m\n\u001b[1;32m-> 4185\u001b[1;33m                 \u001b[0mnew_axis\u001b[0m \u001b[1;33m=\u001b[0m \u001b[0maxis\u001b[0m\u001b[1;33m.\u001b[0m\u001b[0mdrop\u001b[0m\u001b[1;33m(\u001b[0m\u001b[0mlabels\u001b[0m\u001b[1;33m,\u001b[0m \u001b[0merrors\u001b[0m\u001b[1;33m=\u001b[0m\u001b[0merrors\u001b[0m\u001b[1;33m)\u001b[0m\u001b[1;33m\u001b[0m\u001b[1;33m\u001b[0m\u001b[0m\n\u001b[0m\u001b[0;32m   4186\u001b[0m             \u001b[0mresult\u001b[0m \u001b[1;33m=\u001b[0m \u001b[0mself\u001b[0m\u001b[1;33m.\u001b[0m\u001b[0mreindex\u001b[0m\u001b[1;33m(\u001b[0m\u001b[1;33m**\u001b[0m\u001b[1;33m{\u001b[0m\u001b[0maxis_name\u001b[0m\u001b[1;33m:\u001b[0m \u001b[0mnew_axis\u001b[0m\u001b[1;33m}\u001b[0m\u001b[1;33m)\u001b[0m\u001b[1;33m\u001b[0m\u001b[1;33m\u001b[0m\u001b[0m\n\u001b[0;32m   4187\u001b[0m \u001b[1;33m\u001b[0m\u001b[0m\n",
      "\u001b[1;32m~\\anaconda3\\envs\\mlenv\\lib\\site-packages\\pandas\\core\\indexes\\base.py\u001b[0m in \u001b[0;36mdrop\u001b[1;34m(self, labels, errors)\u001b[0m\n\u001b[0;32m   6015\u001b[0m         \u001b[1;32mif\u001b[0m \u001b[0mmask\u001b[0m\u001b[1;33m.\u001b[0m\u001b[0many\u001b[0m\u001b[1;33m(\u001b[0m\u001b[1;33m)\u001b[0m\u001b[1;33m:\u001b[0m\u001b[1;33m\u001b[0m\u001b[1;33m\u001b[0m\u001b[0m\n\u001b[0;32m   6016\u001b[0m             \u001b[1;32mif\u001b[0m \u001b[0merrors\u001b[0m \u001b[1;33m!=\u001b[0m \u001b[1;34m\"ignore\"\u001b[0m\u001b[1;33m:\u001b[0m\u001b[1;33m\u001b[0m\u001b[1;33m\u001b[0m\u001b[0m\n\u001b[1;32m-> 6017\u001b[1;33m                 \u001b[1;32mraise\u001b[0m \u001b[0mKeyError\u001b[0m\u001b[1;33m(\u001b[0m\u001b[1;34mf\"{labels[mask]} not found in axis\"\u001b[0m\u001b[1;33m)\u001b[0m\u001b[1;33m\u001b[0m\u001b[1;33m\u001b[0m\u001b[0m\n\u001b[0m\u001b[0;32m   6018\u001b[0m             \u001b[0mindexer\u001b[0m \u001b[1;33m=\u001b[0m \u001b[0mindexer\u001b[0m\u001b[1;33m[\u001b[0m\u001b[1;33m~\u001b[0m\u001b[0mmask\u001b[0m\u001b[1;33m]\u001b[0m\u001b[1;33m\u001b[0m\u001b[1;33m\u001b[0m\u001b[0m\n\u001b[0;32m   6019\u001b[0m         \u001b[1;32mreturn\u001b[0m \u001b[0mself\u001b[0m\u001b[1;33m.\u001b[0m\u001b[0mdelete\u001b[0m\u001b[1;33m(\u001b[0m\u001b[0mindexer\u001b[0m\u001b[1;33m)\u001b[0m\u001b[1;33m\u001b[0m\u001b[1;33m\u001b[0m\u001b[0m\n",
      "\u001b[1;31mKeyError\u001b[0m: \"['isPartial'] not found in axis\""
     ]
    }
   ],
   "source": [
    "dicti = {}\n",
    "for keyword in single_names:\n",
    "    dicti[keyword] = gtrend.get_daily_trend(pytrend, keyword, start, end, geo=geo, cat=cat, gprop=gprop, verbose=True, tz=0).iloc[:,0]"
   ]
  },
  {
   "cell_type": "markdown",
   "id": "0b862411",
   "metadata": {},
   "source": [
    "Acquire daily google trend data for over 9 month by concatenating multiple queries, and normalize(scaling) by the overlapping period (overlapping method)\n",
    "\n",
    "1) collect all of the daily SVI data you need in 90 day increments and combine them into a single increment covering the entire time period of interest. \n",
    "\n",
    "2) line up the data for the same entire time period, but aggregated at a weekly level to get the weekly SVI. Determine an adjustment factor which is done by dividing the weekly SVI with the daily SVI value where the dates overlap. \n",
    "\n",
    "3) multiple the daily SVI values by the adjustment factor14. In cases when the SVI was less than 1, the value was returned by the Google Trends query as < 1. To allow for an adjustment calculation we changed that value to 0.5. Google does not provide any more information on what the specific value was, so the halfway value of 0.5 was used as a substitute. As we did when collecting tweets, we elected to collect Google Trends data using the least ambiguous terms as possible which were ”bitcoin” and ”ethereum”. Each currency’s abbreviation, ”BTC” and ”ETH” respectively were not used.\n"
   ]
  },
  {
   "cell_type": "code",
   "execution_count": 6,
   "id": "3b6d8c70",
   "metadata": {},
   "outputs": [
    {
     "name": "stdout",
     "output_type": "stream",
     "text": [
      "Fetching 'binance coin' for period:2021-02-27 2021-11-23\n",
      "Fetching 'binance coin' for period:2020-09-11 2021-06-07\n",
      "Normalize by overlapping period:2021-02-27 2021-06-07\n",
      "Fetching 'binance coin' for period:2020-03-26 2020-12-20\n",
      "Normalize by overlapping period:2020-09-11 2020-12-20\n",
      "Fetching 'binance coin' for period:2019-10-09 2020-07-04\n",
      "Normalize by overlapping period:2020-03-26 2020-07-04\n",
      "Fetching 'binance coin' for period:2019-04-23 2020-01-17\n",
      "Normalize by overlapping period:2019-10-09 2020-01-17\n",
      "Fetching 'binance coin' for period:2018-11-05 2019-08-01\n",
      "Normalize by overlapping period:2019-04-23 2019-08-01\n",
      "Fetching 'binance coin' for period:2018-05-20 2019-02-13\n",
      "Normalize by overlapping period:2018-11-05 2019-02-13\n",
      "Fetching 'binance coin' for period:2017-12-02 2018-08-28\n",
      "Normalize by overlapping period:2018-05-20 2018-08-28\n",
      "Fetching 'binance coin' for period:2017-06-16 2018-03-12\n",
      "Normalize by overlapping period:2017-12-02 2018-03-12\n",
      "Fetching 'binance coin' for period:2016-12-29 2017-09-24\n",
      "Normalize by overlapping period:2017-06-16 2017-09-24\n",
      "Fetching 'binance coin' for period:2016-07-13 2017-04-08\n"
     ]
    },
    {
     "ename": "KeyError",
     "evalue": "\"['isPartial'] not found in axis\"",
     "output_type": "error",
     "traceback": [
      "\u001b[1;31m---------------------------------------------------------------------------\u001b[0m",
      "\u001b[1;31mKeyError\u001b[0m                                  Traceback (most recent call last)",
      "\u001b[1;32m~\\AppData\\Local\\Temp\\ipykernel_26772\\593243155.py\u001b[0m in \u001b[0;36m<module>\u001b[1;34m\u001b[0m\n\u001b[1;32m----> 1\u001b[1;33m \u001b[0moverlapping\u001b[0m \u001b[1;33m=\u001b[0m \u001b[0mgtrend\u001b[0m\u001b[1;33m.\u001b[0m\u001b[0mget_daily_trend\u001b[0m\u001b[1;33m(\u001b[0m\u001b[0mpytrend\u001b[0m\u001b[1;33m,\u001b[0m \u001b[0mkeyword\u001b[0m\u001b[1;33m,\u001b[0m \u001b[0mstart\u001b[0m\u001b[1;33m,\u001b[0m \u001b[0mend\u001b[0m\u001b[1;33m,\u001b[0m \u001b[0mgeo\u001b[0m\u001b[1;33m=\u001b[0m\u001b[0mgeo\u001b[0m\u001b[1;33m,\u001b[0m \u001b[0mcat\u001b[0m\u001b[1;33m=\u001b[0m\u001b[0mcat\u001b[0m\u001b[1;33m,\u001b[0m \u001b[0mgprop\u001b[0m\u001b[1;33m=\u001b[0m\u001b[0mgprop\u001b[0m\u001b[1;33m,\u001b[0m \u001b[0mverbose\u001b[0m\u001b[1;33m=\u001b[0m\u001b[1;32mTrue\u001b[0m\u001b[1;33m,\u001b[0m \u001b[0mtz\u001b[0m\u001b[1;33m=\u001b[0m\u001b[1;36m0\u001b[0m\u001b[1;33m)\u001b[0m\u001b[1;33m\u001b[0m\u001b[1;33m\u001b[0m\u001b[0m\n\u001b[0m",
      "\u001b[1;32m~\\Project-2\\Google Trends\\gtrend.py\u001b[0m in \u001b[0;36mget_daily_trend\u001b[1;34m(trendreq, keyword, start, end, cat, geo, gprop, delta, overlap, sleep, tz, verbose)\u001b[0m\n\u001b[0;32m     81\u001b[0m         \u001b[1;32mif\u001b[0m \u001b[0mverbose\u001b[0m\u001b[1;33m:\u001b[0m \u001b[0mprint\u001b[0m\u001b[1;33m(\u001b[0m\u001b[1;34m'Fetching \\''\u001b[0m\u001b[1;33m+\u001b[0m\u001b[0mkeyword\u001b[0m\u001b[1;33m+\u001b[0m\u001b[1;34m'\\' for period:'\u001b[0m\u001b[1;33m+\u001b[0m\u001b[0mtf\u001b[0m\u001b[1;33m)\u001b[0m\u001b[1;33m\u001b[0m\u001b[1;33m\u001b[0m\u001b[0m\n\u001b[0;32m     82\u001b[0m         \u001b[0mtemp\u001b[0m \u001b[1;33m=\u001b[0m \u001b[0m_fetch_data\u001b[0m\u001b[1;33m(\u001b[0m\u001b[0mtrendreq\u001b[0m\u001b[1;33m,\u001b[0m \u001b[1;33m[\u001b[0m\u001b[0mkeyword\u001b[0m\u001b[1;33m]\u001b[0m\u001b[1;33m,\u001b[0m \u001b[0mtimeframe\u001b[0m\u001b[1;33m=\u001b[0m\u001b[0mtf\u001b[0m\u001b[1;33m,\u001b[0m \u001b[0mcat\u001b[0m\u001b[1;33m=\u001b[0m\u001b[0mcat\u001b[0m\u001b[1;33m,\u001b[0m \u001b[0mgeo\u001b[0m\u001b[1;33m=\u001b[0m\u001b[0mgeo\u001b[0m\u001b[1;33m,\u001b[0m \u001b[0mgprop\u001b[0m\u001b[1;33m=\u001b[0m\u001b[0mgprop\u001b[0m\u001b[1;33m)\u001b[0m\u001b[1;33m\u001b[0m\u001b[1;33m\u001b[0m\u001b[0m\n\u001b[1;32m---> 83\u001b[1;33m         \u001b[0mtemp\u001b[0m\u001b[1;33m.\u001b[0m\u001b[0mdrop\u001b[0m\u001b[1;33m(\u001b[0m\u001b[0mcolumns\u001b[0m\u001b[1;33m=\u001b[0m\u001b[1;33m[\u001b[0m\u001b[1;34m'isPartial'\u001b[0m\u001b[1;33m]\u001b[0m\u001b[1;33m,\u001b[0m \u001b[0minplace\u001b[0m\u001b[1;33m=\u001b[0m\u001b[1;32mTrue\u001b[0m\u001b[1;33m)\u001b[0m\u001b[1;33m\u001b[0m\u001b[1;33m\u001b[0m\u001b[0m\n\u001b[0m\u001b[0;32m     84\u001b[0m         \u001b[0mtemp\u001b[0m\u001b[1;33m.\u001b[0m\u001b[0mcolumns\u001b[0m\u001b[1;33m.\u001b[0m\u001b[0mvalues\u001b[0m\u001b[1;33m[\u001b[0m\u001b[1;36m0\u001b[0m\u001b[1;33m]\u001b[0m \u001b[1;33m=\u001b[0m \u001b[0mtf\u001b[0m\u001b[1;33m\u001b[0m\u001b[1;33m\u001b[0m\u001b[0m\n\u001b[0;32m     85\u001b[0m         \u001b[0mol_temp\u001b[0m \u001b[1;33m=\u001b[0m \u001b[0mtemp\u001b[0m\u001b[1;33m.\u001b[0m\u001b[0mcopy\u001b[0m\u001b[1;33m(\u001b[0m\u001b[1;33m)\u001b[0m\u001b[1;33m\u001b[0m\u001b[1;33m\u001b[0m\u001b[0m\n",
      "\u001b[1;32m~\\anaconda3\\envs\\mlenv\\lib\\site-packages\\pandas\\util\\_decorators.py\u001b[0m in \u001b[0;36mwrapper\u001b[1;34m(*args, **kwargs)\u001b[0m\n\u001b[0;32m    309\u001b[0m                     \u001b[0mstacklevel\u001b[0m\u001b[1;33m=\u001b[0m\u001b[0mstacklevel\u001b[0m\u001b[1;33m,\u001b[0m\u001b[1;33m\u001b[0m\u001b[1;33m\u001b[0m\u001b[0m\n\u001b[0;32m    310\u001b[0m                 )\n\u001b[1;32m--> 311\u001b[1;33m             \u001b[1;32mreturn\u001b[0m \u001b[0mfunc\u001b[0m\u001b[1;33m(\u001b[0m\u001b[1;33m*\u001b[0m\u001b[0margs\u001b[0m\u001b[1;33m,\u001b[0m \u001b[1;33m**\u001b[0m\u001b[0mkwargs\u001b[0m\u001b[1;33m)\u001b[0m\u001b[1;33m\u001b[0m\u001b[1;33m\u001b[0m\u001b[0m\n\u001b[0m\u001b[0;32m    312\u001b[0m \u001b[1;33m\u001b[0m\u001b[0m\n\u001b[0;32m    313\u001b[0m         \u001b[1;32mreturn\u001b[0m \u001b[0mwrapper\u001b[0m\u001b[1;33m\u001b[0m\u001b[1;33m\u001b[0m\u001b[0m\n",
      "\u001b[1;32m~\\anaconda3\\envs\\mlenv\\lib\\site-packages\\pandas\\core\\frame.py\u001b[0m in \u001b[0;36mdrop\u001b[1;34m(self, labels, axis, index, columns, level, inplace, errors)\u001b[0m\n\u001b[0;32m   4911\u001b[0m             \u001b[0mlevel\u001b[0m\u001b[1;33m=\u001b[0m\u001b[0mlevel\u001b[0m\u001b[1;33m,\u001b[0m\u001b[1;33m\u001b[0m\u001b[1;33m\u001b[0m\u001b[0m\n\u001b[0;32m   4912\u001b[0m             \u001b[0minplace\u001b[0m\u001b[1;33m=\u001b[0m\u001b[0minplace\u001b[0m\u001b[1;33m,\u001b[0m\u001b[1;33m\u001b[0m\u001b[1;33m\u001b[0m\u001b[0m\n\u001b[1;32m-> 4913\u001b[1;33m             \u001b[0merrors\u001b[0m\u001b[1;33m=\u001b[0m\u001b[0merrors\u001b[0m\u001b[1;33m,\u001b[0m\u001b[1;33m\u001b[0m\u001b[1;33m\u001b[0m\u001b[0m\n\u001b[0m\u001b[0;32m   4914\u001b[0m         )\n\u001b[0;32m   4915\u001b[0m \u001b[1;33m\u001b[0m\u001b[0m\n",
      "\u001b[1;32m~\\anaconda3\\envs\\mlenv\\lib\\site-packages\\pandas\\core\\generic.py\u001b[0m in \u001b[0;36mdrop\u001b[1;34m(self, labels, axis, index, columns, level, inplace, errors)\u001b[0m\n\u001b[0;32m   4148\u001b[0m         \u001b[1;32mfor\u001b[0m \u001b[0maxis\u001b[0m\u001b[1;33m,\u001b[0m \u001b[0mlabels\u001b[0m \u001b[1;32min\u001b[0m \u001b[0maxes\u001b[0m\u001b[1;33m.\u001b[0m\u001b[0mitems\u001b[0m\u001b[1;33m(\u001b[0m\u001b[1;33m)\u001b[0m\u001b[1;33m:\u001b[0m\u001b[1;33m\u001b[0m\u001b[1;33m\u001b[0m\u001b[0m\n\u001b[0;32m   4149\u001b[0m             \u001b[1;32mif\u001b[0m \u001b[0mlabels\u001b[0m \u001b[1;32mis\u001b[0m \u001b[1;32mnot\u001b[0m \u001b[1;32mNone\u001b[0m\u001b[1;33m:\u001b[0m\u001b[1;33m\u001b[0m\u001b[1;33m\u001b[0m\u001b[0m\n\u001b[1;32m-> 4150\u001b[1;33m                 \u001b[0mobj\u001b[0m \u001b[1;33m=\u001b[0m \u001b[0mobj\u001b[0m\u001b[1;33m.\u001b[0m\u001b[0m_drop_axis\u001b[0m\u001b[1;33m(\u001b[0m\u001b[0mlabels\u001b[0m\u001b[1;33m,\u001b[0m \u001b[0maxis\u001b[0m\u001b[1;33m,\u001b[0m \u001b[0mlevel\u001b[0m\u001b[1;33m=\u001b[0m\u001b[0mlevel\u001b[0m\u001b[1;33m,\u001b[0m \u001b[0merrors\u001b[0m\u001b[1;33m=\u001b[0m\u001b[0merrors\u001b[0m\u001b[1;33m)\u001b[0m\u001b[1;33m\u001b[0m\u001b[1;33m\u001b[0m\u001b[0m\n\u001b[0m\u001b[0;32m   4151\u001b[0m \u001b[1;33m\u001b[0m\u001b[0m\n\u001b[0;32m   4152\u001b[0m         \u001b[1;32mif\u001b[0m \u001b[0minplace\u001b[0m\u001b[1;33m:\u001b[0m\u001b[1;33m\u001b[0m\u001b[1;33m\u001b[0m\u001b[0m\n",
      "\u001b[1;32m~\\anaconda3\\envs\\mlenv\\lib\\site-packages\\pandas\\core\\generic.py\u001b[0m in \u001b[0;36m_drop_axis\u001b[1;34m(self, labels, axis, level, errors)\u001b[0m\n\u001b[0;32m   4183\u001b[0m                 \u001b[0mnew_axis\u001b[0m \u001b[1;33m=\u001b[0m \u001b[0maxis\u001b[0m\u001b[1;33m.\u001b[0m\u001b[0mdrop\u001b[0m\u001b[1;33m(\u001b[0m\u001b[0mlabels\u001b[0m\u001b[1;33m,\u001b[0m \u001b[0mlevel\u001b[0m\u001b[1;33m=\u001b[0m\u001b[0mlevel\u001b[0m\u001b[1;33m,\u001b[0m \u001b[0merrors\u001b[0m\u001b[1;33m=\u001b[0m\u001b[0merrors\u001b[0m\u001b[1;33m)\u001b[0m\u001b[1;33m\u001b[0m\u001b[1;33m\u001b[0m\u001b[0m\n\u001b[0;32m   4184\u001b[0m             \u001b[1;32melse\u001b[0m\u001b[1;33m:\u001b[0m\u001b[1;33m\u001b[0m\u001b[1;33m\u001b[0m\u001b[0m\n\u001b[1;32m-> 4185\u001b[1;33m                 \u001b[0mnew_axis\u001b[0m \u001b[1;33m=\u001b[0m \u001b[0maxis\u001b[0m\u001b[1;33m.\u001b[0m\u001b[0mdrop\u001b[0m\u001b[1;33m(\u001b[0m\u001b[0mlabels\u001b[0m\u001b[1;33m,\u001b[0m \u001b[0merrors\u001b[0m\u001b[1;33m=\u001b[0m\u001b[0merrors\u001b[0m\u001b[1;33m)\u001b[0m\u001b[1;33m\u001b[0m\u001b[1;33m\u001b[0m\u001b[0m\n\u001b[0m\u001b[0;32m   4186\u001b[0m             \u001b[0mresult\u001b[0m \u001b[1;33m=\u001b[0m \u001b[0mself\u001b[0m\u001b[1;33m.\u001b[0m\u001b[0mreindex\u001b[0m\u001b[1;33m(\u001b[0m\u001b[1;33m**\u001b[0m\u001b[1;33m{\u001b[0m\u001b[0maxis_name\u001b[0m\u001b[1;33m:\u001b[0m \u001b[0mnew_axis\u001b[0m\u001b[1;33m}\u001b[0m\u001b[1;33m)\u001b[0m\u001b[1;33m\u001b[0m\u001b[1;33m\u001b[0m\u001b[0m\n\u001b[0;32m   4187\u001b[0m \u001b[1;33m\u001b[0m\u001b[0m\n",
      "\u001b[1;32m~\\anaconda3\\envs\\mlenv\\lib\\site-packages\\pandas\\core\\indexes\\base.py\u001b[0m in \u001b[0;36mdrop\u001b[1;34m(self, labels, errors)\u001b[0m\n\u001b[0;32m   6015\u001b[0m         \u001b[1;32mif\u001b[0m \u001b[0mmask\u001b[0m\u001b[1;33m.\u001b[0m\u001b[0many\u001b[0m\u001b[1;33m(\u001b[0m\u001b[1;33m)\u001b[0m\u001b[1;33m:\u001b[0m\u001b[1;33m\u001b[0m\u001b[1;33m\u001b[0m\u001b[0m\n\u001b[0;32m   6016\u001b[0m             \u001b[1;32mif\u001b[0m \u001b[0merrors\u001b[0m \u001b[1;33m!=\u001b[0m \u001b[1;34m\"ignore\"\u001b[0m\u001b[1;33m:\u001b[0m\u001b[1;33m\u001b[0m\u001b[1;33m\u001b[0m\u001b[0m\n\u001b[1;32m-> 6017\u001b[1;33m                 \u001b[1;32mraise\u001b[0m \u001b[0mKeyError\u001b[0m\u001b[1;33m(\u001b[0m\u001b[1;34mf\"{labels[mask]} not found in axis\"\u001b[0m\u001b[1;33m)\u001b[0m\u001b[1;33m\u001b[0m\u001b[1;33m\u001b[0m\u001b[0m\n\u001b[0m\u001b[0;32m   6018\u001b[0m             \u001b[0mindexer\u001b[0m \u001b[1;33m=\u001b[0m \u001b[0mindexer\u001b[0m\u001b[1;33m[\u001b[0m\u001b[1;33m~\u001b[0m\u001b[0mmask\u001b[0m\u001b[1;33m]\u001b[0m\u001b[1;33m\u001b[0m\u001b[1;33m\u001b[0m\u001b[0m\n\u001b[0;32m   6019\u001b[0m         \u001b[1;32mreturn\u001b[0m \u001b[0mself\u001b[0m\u001b[1;33m.\u001b[0m\u001b[0mdelete\u001b[0m\u001b[1;33m(\u001b[0m\u001b[0mindexer\u001b[0m\u001b[1;33m)\u001b[0m\u001b[1;33m\u001b[0m\u001b[1;33m\u001b[0m\u001b[0m\n",
      "\u001b[1;31mKeyError\u001b[0m: \"['isPartial'] not found in axis\""
     ]
    }
   ],
   "source": [
    "overlapping = gtrend.get_daily_trend(pytrend, keyword, start, end, geo=geo, cat=cat, gprop=gprop, verbose=True, tz=0)"
   ]
  },
  {
   "cell_type": "code",
   "execution_count": null,
   "id": "0108cd45",
   "metadata": {},
   "outputs": [],
   "source": [
    "data = pd.DataFrame()\n",
    "for keyword in dicti.keys():\n",
    "    data[keyword] = dicti[keyword]"
   ]
  },
  {
   "cell_type": "code",
   "execution_count": null,
   "id": "a8cf1885",
   "metadata": {},
   "outputs": [],
   "source": [
    "data.plot(figsize = (15,10))"
   ]
  },
  {
   "cell_type": "code",
   "execution_count": null,
   "id": "64f582e6",
   "metadata": {},
   "outputs": [],
   "source": [
    "data.corr()"
   ]
  },
  {
   "cell_type": "code",
   "execution_count": null,
   "id": "5bad9cf3",
   "metadata": {},
   "outputs": [],
   "source": [
    "import scipy.stats as stats\n",
    "\n",
    "stats.pearsonr(data[\"bitcoin\"],data[\"ethereum\"])"
   ]
  },
  {
   "cell_type": "markdown",
   "id": "ea3a3eb4",
   "metadata": {},
   "source": [
    "Acquire daily google trend data for over 9 month by concatenating multiple non-overlapping queries of 1-month, and normalize(scaling) by weekly trend value of the same period. (pytrends dailydata.py method)"
   ]
  },
  {
   "cell_type": "code",
   "execution_count": null,
   "id": "0306138b",
   "metadata": {
    "scrolled": true
   },
   "outputs": [],
   "source": [
    "data"
   ]
  },
  {
   "cell_type": "code",
   "execution_count": null,
   "id": "1c7069e8",
   "metadata": {},
   "outputs": [],
   "source": [
    "import yfinance as yf\n",
    "\n",
    "ticker = yf.Ticker(\"BTC-USD\")\n",
    "print(ticker)\n",
    "# ticker.info\n",
    "btc = ticker.history(start=start, end=end)"
   ]
  },
  {
   "cell_type": "code",
   "execution_count": null,
   "id": "93cb9c32",
   "metadata": {},
   "outputs": [],
   "source": [
    "ticker = yf.Ticker(\"ETH-USD\")\n",
    "print(ticker)\n",
    "# ticker.info\n",
    "eth = ticker.history(start=start, end=end)"
   ]
  },
  {
   "cell_type": "code",
   "execution_count": null,
   "id": "2392f7d2",
   "metadata": {},
   "outputs": [],
   "source": [
    "ticker = yf.Ticker(\"USDT-USD\")\n",
    "print(ticker)\n",
    "# ticker.info\n",
    "teth = ticker.history(start=start, end=end)"
   ]
  },
  {
   "cell_type": "code",
   "execution_count": null,
   "id": "cf4a8daa",
   "metadata": {},
   "outputs": [],
   "source": [
    "btc.columns= ['Open', 'High', 'Low', 'bitcoin_Close', 'Volume', 'Dividends', 'Stock Splits']\n",
    "eth.columns = ['Open', 'High', 'Low', 'ethereum_Close', 'Volume', 'Dividends', 'Stock Splits']\n",
    "teth.columns = ['Open', 'High', 'Low', 'tether_Close', 'Volume', 'Dividends', 'Stock Splits']"
   ]
  },
  {
   "cell_type": "code",
   "execution_count": null,
   "id": "3e2deb8b",
   "metadata": {},
   "outputs": [],
   "source": [
    "data = pd.merge(data,btc['bitcoin_Close'],left_index = True, right_index = True)\n",
    "data = pd.merge(data,eth['ethereum_Close'],left_index = True, right_index = True)"
   ]
  },
  {
   "cell_type": "code",
   "execution_count": null,
   "id": "376297e1",
   "metadata": {},
   "outputs": [],
   "source": [
    "data = pd.merge(data,teth['tether_Close'],left_index = True, right_index = True)"
   ]
  },
  {
   "cell_type": "code",
   "execution_count": null,
   "id": "8f4e60f8",
   "metadata": {},
   "outputs": [],
   "source": [
    "data"
   ]
  },
  {
   "cell_type": "code",
   "execution_count": null,
   "id": "23806268-f1f0-470d-9d91-62e5e933f8ad",
   "metadata": {},
   "outputs": [],
   "source": [
    "\"\"\" SAVE RESULT AS CSV \"\"\"\n",
    "\n",
    "data.to_csv(\"googletrends_data_results.csv\")"
   ]
  },
  {
   "cell_type": "code",
   "execution_count": null,
   "id": "fe970bd1-b647-4357-9c2c-36c7838b3ab2",
   "metadata": {},
   "outputs": [],
   "source": [
    "stats.pearsonr(data[\"bitcoin\"], data[\"bitcoin_Close\"])"
   ]
  },
  {
   "cell_type": "code",
   "execution_count": null,
   "id": "bb52ce8d",
   "metadata": {},
   "outputs": [],
   "source": [
    "data[[\"bitcoin\",\"bitcoin_Close\"]].plot(figsize = (15,10),secondary_y=True )"
   ]
  },
  {
   "cell_type": "code",
   "execution_count": null,
   "id": "91c13d1a",
   "metadata": {},
   "outputs": [],
   "source": [
    "from sklearn.preprocessing import StandardScaler"
   ]
  },
  {
   "cell_type": "code",
   "execution_count": null,
   "id": "13877da1",
   "metadata": {},
   "outputs": [],
   "source": [
    "sc = StandardScaler()\n",
    "sc.fit(data[[\"ethereum\",\"ethereum_Close\"]])"
   ]
  },
  {
   "cell_type": "code",
   "execution_count": null,
   "id": "31a2f3bc",
   "metadata": {},
   "outputs": [],
   "source": [
    "std_data = pd.DataFrame(sc.transform(data[[\"ethereum\",\"ethereum_Close\"]]),index = data.index, columns = [\"intterest in ethereum\",\"Close Price\"])"
   ]
  },
  {
   "cell_type": "code",
   "execution_count": null,
   "id": "13d669af",
   "metadata": {},
   "outputs": [],
   "source": [
    "std_data.plot(figsize = (15,10))"
   ]
  },
  {
   "cell_type": "code",
   "execution_count": null,
   "id": "c0cbb696",
   "metadata": {},
   "outputs": [],
   "source": [
    "import statsmodels.api as sm\n",
    "\n",
    "models = dict()\n",
    "\n",
    "for cryp in [\"bitcoin\",\"ethereum\",\"tether\"]:\n",
    "    y = data['{}_Close'.format(cryp)]\n",
    "    x1 = data[[cryp]]\n",
    "    x = sm.add_constant(x1)\n",
    "    models[cryp] = sm.OLS(y,x).fit()"
   ]
  },
  {
   "cell_type": "code",
   "execution_count": null,
   "id": "1cec6d03",
   "metadata": {},
   "outputs": [],
   "source": [
    "models[\"bitcoin\"].summary()"
   ]
  },
  {
   "cell_type": "code",
   "execution_count": null,
   "id": "ed33826f",
   "metadata": {},
   "outputs": [],
   "source": [
    "models[\"ethereum\"].summary()"
   ]
  },
  {
   "cell_type": "code",
   "execution_count": null,
   "id": "12d5d7e6",
   "metadata": {},
   "outputs": [],
   "source": [
    "models[\"tether\"].summary()"
   ]
  },
  {
   "cell_type": "code",
   "execution_count": null,
   "id": "b2f96305",
   "metadata": {},
   "outputs": [],
   "source": [
    "stats.pearsonr(data[\"tether\"], data[\"tether_Close\"])"
   ]
  },
  {
   "cell_type": "code",
   "execution_count": null,
   "id": "b4420543",
   "metadata": {},
   "outputs": [],
   "source": []
  }
 ],
 "metadata": {
  "kernelspec": {
   "display_name": "Python [conda env:mlenv]",
   "language": "python",
   "name": "conda-env-mlenv-py"
  },
  "language_info": {
   "codemirror_mode": {
    "name": "ipython",
    "version": 3
   },
   "file_extension": ".py",
   "mimetype": "text/x-python",
   "name": "python",
   "nbconvert_exporter": "python",
   "pygments_lexer": "ipython3",
   "version": "3.7.11"
  }
 },
 "nbformat": 4,
 "nbformat_minor": 5
}
