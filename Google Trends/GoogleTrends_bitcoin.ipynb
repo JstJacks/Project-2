{
 "cells": [
  {
   "cell_type": "code",
   "execution_count": 1,
   "id": "a328656b",
   "metadata": {},
   "outputs": [],
   "source": [
    "# !pip install pytrends\n",
    "import numpy as np\n",
    "import matplotlib.pyplot as plt\n",
    "from datetime import date, datetime, timedelta\n",
    "from pytrends.request import TrendReq\n",
    "import time\n",
    "import pandas as pd\n",
    "import matplotlib\n",
    "import gtrend   \n",
    "\n",
    "plt.style.use('seaborn-darkgrid')\n",
    "matplotlib.rcParams['font.family'] = ['Heiti TC']\n",
    "def rmax(maxrow: int=50):\n",
    "    pd.set_option('display.max_rows', maxrow)\n",
    "\n",
    "def cmax(maxcol: int=50):\n",
    "    pd.set_option('display.max_columns', maxcol)"
   ]
  },
  {
   "cell_type": "markdown",
   "id": "f612f10f",
   "metadata": {},
   "source": [
    "Setup the query terms and conditions"
   ]
  },
  {
   "cell_type": "markdown",
   "id": "a6296a4b",
   "metadata": {},
   "source": [
    "Keywords to be used:\n",
    "* Bitcoin (BTC) \n",
    "* Ethereum (ETH) \n",
    "* Tether (USDT) \n",
    "* Binance Coin (BNB)\n",
    "* USD Coin (USDC) \n",
    "* Solana (SOL)\n",
    "* XRP (XRP)\n",
    "* Terra (LUNA)\n",
    "* Cardano (ADA)\n",
    "* Avalanche (AVAX)\n",
    "* Polkadot (DOT)\n",
    "* Dogecoin (DOGE)"
   ]
  },
  {
   "cell_type": "code",
   "execution_count": 8,
   "id": "27207d63",
   "metadata": {},
   "outputs": [],
   "source": [
    "#Trying out just bitcoin to start\n",
    "pytrend = TrendReq(hl='en-US')\n",
    "keyword = 'bitcoin'\n",
    "start = '2017-01-01'\n",
    "end = '2021-11-23'\n",
    "geo='US'\n",
    "cat=0\n",
    "gprop=''\n",
    "requests_args={'verify':False}"
   ]
  },
  {
   "cell_type": "code",
   "execution_count": 7,
   "id": "ae7c5b79",
   "metadata": {},
   "outputs": [],
   "source": [
    "single_names = [\"bitcoin\",\"ethereum\",\"tether\",\"binance coin\", \"usd coin\"]"
   ]
  },
  {
   "cell_type": "code",
   "execution_count": 5,
   "id": "f43600b9",
   "metadata": {},
   "outputs": [],
   "source": [
    "# For the loop for different coins\n",
    "\n",
    "# dicti = {}\n",
    "# for keyword in single_names:\n",
    "#     try:\n",
    "#         pytrends.build_payload(kw_list=keyword,\n",
    "#                               timeframe = DATE_INTERVAL,\n",
    "#                               cat=CATEGORY,\n",
    "#                               gprop='')\n",
    "#         dicti[keyword] =pytrends.interest_over_time()\n",
    "#         time.sleep(6)\n",
    "#     except requests.exceptions.Timeout:\n",
    "#         print('Timeout occured')\n",
    "#         df_trends = pd.concat(dicti,axis=1)\n",
    "#         df_trends.head()"
   ]
  },
  {
   "cell_type": "code",
   "execution_count": 20,
   "id": "9af2ab39",
   "metadata": {
    "scrolled": true
   },
   "outputs": [
    {
     "name": "stdout",
     "output_type": "stream",
     "text": [
      "Fetching 'bitcoin' for period:2021-02-27 2021-11-23\n",
      "Fetching 'bitcoin' for period:2020-09-11 2021-06-07\n",
      "Normalize by overlapping period:2021-02-27 2021-06-07\n",
      "Fetching 'bitcoin' for period:2020-03-26 2020-12-20\n",
      "Normalize by overlapping period:2020-09-11 2020-12-20\n",
      "Fetching 'bitcoin' for period:2019-10-09 2020-07-04\n",
      "Normalize by overlapping period:2020-03-26 2020-07-04\n",
      "Fetching 'bitcoin' for period:2019-04-23 2020-01-17\n",
      "Normalize by overlapping period:2019-10-09 2020-01-17\n",
      "Fetching 'bitcoin' for period:2018-11-05 2019-08-01\n",
      "Normalize by overlapping period:2019-04-23 2019-08-01\n",
      "Fetching 'bitcoin' for period:2018-05-20 2019-02-13\n",
      "Normalize by overlapping period:2018-11-05 2019-02-13\n",
      "Fetching 'bitcoin' for period:2017-12-02 2018-08-28\n",
      "Normalize by overlapping period:2018-05-20 2018-08-28\n",
      "Fetching 'bitcoin' for period:2017-06-16 2018-03-12\n",
      "Normalize by overlapping period:2017-12-02 2018-03-12\n",
      "Fetching 'bitcoin' for period:2016-12-29 2017-09-24\n",
      "Normalize by overlapping period:2017-06-16 2017-09-24\n",
      "Fetching 'bitcoin' for period:2016-07-13 2017-04-08\n",
      "Normalize by overlapping period:2016-12-29 2017-04-08\n",
      "Fetching 'ethereum' for period:2021-02-27 2021-11-23\n",
      "Fetching 'ethereum' for period:2020-09-11 2021-06-07\n",
      "Normalize by overlapping period:2021-02-27 2021-06-07\n",
      "Fetching 'ethereum' for period:2020-03-26 2020-12-20\n",
      "Normalize by overlapping period:2020-09-11 2020-12-20\n",
      "Fetching 'ethereum' for period:2019-10-09 2020-07-04\n",
      "Normalize by overlapping period:2020-03-26 2020-07-04\n",
      "Fetching 'ethereum' for period:2019-04-23 2020-01-17\n",
      "Normalize by overlapping period:2019-10-09 2020-01-17\n",
      "Fetching 'ethereum' for period:2018-11-05 2019-08-01\n",
      "Normalize by overlapping period:2019-04-23 2019-08-01\n",
      "Fetching 'ethereum' for period:2018-05-20 2019-02-13\n",
      "Normalize by overlapping period:2018-11-05 2019-02-13\n",
      "Fetching 'ethereum' for period:2017-12-02 2018-08-28\n",
      "Normalize by overlapping period:2018-05-20 2018-08-28\n",
      "Fetching 'ethereum' for period:2017-06-16 2018-03-12\n",
      "Normalize by overlapping period:2017-12-02 2018-03-12\n",
      "Fetching 'ethereum' for period:2016-12-29 2017-09-24\n",
      "Normalize by overlapping period:2017-06-16 2017-09-24\n",
      "Fetching 'ethereum' for period:2016-07-13 2017-04-08\n",
      "Normalize by overlapping period:2016-12-29 2017-04-08\n",
      "Fetching 'tether' for period:2021-02-27 2021-11-23\n",
      "Fetching 'tether' for period:2020-09-11 2021-06-07\n",
      "Normalize by overlapping period:2021-02-27 2021-06-07\n",
      "Fetching 'tether' for period:2020-03-26 2020-12-20\n",
      "Normalize by overlapping period:2020-09-11 2020-12-20\n",
      "Fetching 'tether' for period:2019-10-09 2020-07-04\n",
      "Normalize by overlapping period:2020-03-26 2020-07-04\n",
      "Fetching 'tether' for period:2019-04-23 2020-01-17\n",
      "Normalize by overlapping period:2019-10-09 2020-01-17\n",
      "Fetching 'tether' for period:2018-11-05 2019-08-01\n",
      "Normalize by overlapping period:2019-04-23 2019-08-01\n",
      "Fetching 'tether' for period:2018-05-20 2019-02-13\n",
      "Normalize by overlapping period:2018-11-05 2019-02-13\n",
      "Fetching 'tether' for period:2017-12-02 2018-08-28\n",
      "Normalize by overlapping period:2018-05-20 2018-08-28\n",
      "Fetching 'tether' for period:2017-06-16 2018-03-12\n",
      "Normalize by overlapping period:2017-12-02 2018-03-12\n",
      "Fetching 'tether' for period:2016-12-29 2017-09-24\n",
      "Normalize by overlapping period:2017-06-16 2017-09-24\n",
      "Fetching 'tether' for period:2016-07-13 2017-04-08\n",
      "Normalize by overlapping period:2016-12-29 2017-04-08\n",
      "Fetching 'binance coin' for period:2021-02-27 2021-11-23\n",
      "Fetching 'binance coin' for period:2020-09-11 2021-06-07\n",
      "Normalize by overlapping period:2021-02-27 2021-06-07\n",
      "Fetching 'binance coin' for period:2020-03-26 2020-12-20\n",
      "Normalize by overlapping period:2020-09-11 2020-12-20\n",
      "Fetching 'binance coin' for period:2019-10-09 2020-07-04\n",
      "Normalize by overlapping period:2020-03-26 2020-07-04\n",
      "Fetching 'binance coin' for period:2019-04-23 2020-01-17\n",
      "Normalize by overlapping period:2019-10-09 2020-01-17\n",
      "Fetching 'binance coin' for period:2018-11-05 2019-08-01\n",
      "Normalize by overlapping period:2019-04-23 2019-08-01\n",
      "Fetching 'binance coin' for period:2018-05-20 2019-02-13\n",
      "Normalize by overlapping period:2018-11-05 2019-02-13\n",
      "Fetching 'binance coin' for period:2017-12-02 2018-08-28\n",
      "Normalize by overlapping period:2018-05-20 2018-08-28\n",
      "Fetching 'binance coin' for period:2017-06-16 2018-03-12\n",
      "Normalize by overlapping period:2017-12-02 2018-03-12\n",
      "Fetching 'binance coin' for period:2016-12-29 2017-09-24\n",
      "Normalize by overlapping period:2017-06-16 2017-09-24\n",
      "Fetching 'binance coin' for period:2016-07-13 2017-04-08\n"
     ]
    },
    {
     "ename": "KeyError",
     "evalue": "\"['isPartial'] not found in axis\"",
     "output_type": "error",
     "traceback": [
      "\u001b[1;31m---------------------------------------------------------------------------\u001b[0m",
      "\u001b[1;31mKeyError\u001b[0m                                  Traceback (most recent call last)",
      "\u001b[1;32m~\\AppData\\Local\\Temp/ipykernel_16760/1229041956.py\u001b[0m in \u001b[0;36m<module>\u001b[1;34m\u001b[0m\n\u001b[0;32m      1\u001b[0m \u001b[0mdicti\u001b[0m \u001b[1;33m=\u001b[0m \u001b[1;33m{\u001b[0m\u001b[1;33m}\u001b[0m\u001b[1;33m\u001b[0m\u001b[1;33m\u001b[0m\u001b[0m\n\u001b[0;32m      2\u001b[0m \u001b[1;32mfor\u001b[0m \u001b[0mkeyword\u001b[0m \u001b[1;32min\u001b[0m \u001b[0msingle_names\u001b[0m\u001b[1;33m:\u001b[0m\u001b[1;33m\u001b[0m\u001b[1;33m\u001b[0m\u001b[0m\n\u001b[1;32m----> 3\u001b[1;33m     \u001b[0mdicti\u001b[0m\u001b[1;33m[\u001b[0m\u001b[0mkeyword\u001b[0m\u001b[1;33m]\u001b[0m \u001b[1;33m=\u001b[0m \u001b[0mgtrend\u001b[0m\u001b[1;33m.\u001b[0m\u001b[0mget_daily_trend\u001b[0m\u001b[1;33m(\u001b[0m\u001b[0mpytrend\u001b[0m\u001b[1;33m,\u001b[0m \u001b[0mkeyword\u001b[0m\u001b[1;33m,\u001b[0m \u001b[0mstart\u001b[0m\u001b[1;33m,\u001b[0m \u001b[0mend\u001b[0m\u001b[1;33m,\u001b[0m \u001b[0mgeo\u001b[0m\u001b[1;33m=\u001b[0m\u001b[0mgeo\u001b[0m\u001b[1;33m,\u001b[0m \u001b[0mcat\u001b[0m\u001b[1;33m=\u001b[0m\u001b[0mcat\u001b[0m\u001b[1;33m,\u001b[0m \u001b[0mgprop\u001b[0m\u001b[1;33m=\u001b[0m\u001b[0mgprop\u001b[0m\u001b[1;33m,\u001b[0m \u001b[0mverbose\u001b[0m\u001b[1;33m=\u001b[0m\u001b[1;32mTrue\u001b[0m\u001b[1;33m,\u001b[0m \u001b[0mtz\u001b[0m\u001b[1;33m=\u001b[0m\u001b[1;36m0\u001b[0m\u001b[1;33m)\u001b[0m\u001b[1;33m.\u001b[0m\u001b[0miloc\u001b[0m\u001b[1;33m[\u001b[0m\u001b[1;33m:\u001b[0m\u001b[1;33m,\u001b[0m\u001b[1;36m0\u001b[0m\u001b[1;33m]\u001b[0m\u001b[1;33m\u001b[0m\u001b[1;33m\u001b[0m\u001b[0m\n\u001b[0m",
      "\u001b[1;32m~\\Desktop\\Google Trends\\gtrend.py\u001b[0m in \u001b[0;36mget_daily_trend\u001b[1;34m(trendreq, keyword, start, end, cat, geo, gprop, delta, overlap, sleep, tz, verbose)\u001b[0m\n\u001b[0;32m     81\u001b[0m         \u001b[1;32mif\u001b[0m \u001b[0mverbose\u001b[0m\u001b[1;33m:\u001b[0m \u001b[0mprint\u001b[0m\u001b[1;33m(\u001b[0m\u001b[1;34m'Fetching \\''\u001b[0m\u001b[1;33m+\u001b[0m\u001b[0mkeyword\u001b[0m\u001b[1;33m+\u001b[0m\u001b[1;34m'\\' for period:'\u001b[0m\u001b[1;33m+\u001b[0m\u001b[0mtf\u001b[0m\u001b[1;33m)\u001b[0m\u001b[1;33m\u001b[0m\u001b[1;33m\u001b[0m\u001b[0m\n\u001b[0;32m     82\u001b[0m         \u001b[0mtemp\u001b[0m \u001b[1;33m=\u001b[0m \u001b[0m_fetch_data\u001b[0m\u001b[1;33m(\u001b[0m\u001b[0mtrendreq\u001b[0m\u001b[1;33m,\u001b[0m \u001b[1;33m[\u001b[0m\u001b[0mkeyword\u001b[0m\u001b[1;33m]\u001b[0m\u001b[1;33m,\u001b[0m \u001b[0mtimeframe\u001b[0m\u001b[1;33m=\u001b[0m\u001b[0mtf\u001b[0m\u001b[1;33m,\u001b[0m \u001b[0mcat\u001b[0m\u001b[1;33m=\u001b[0m\u001b[0mcat\u001b[0m\u001b[1;33m,\u001b[0m \u001b[0mgeo\u001b[0m\u001b[1;33m=\u001b[0m\u001b[0mgeo\u001b[0m\u001b[1;33m,\u001b[0m \u001b[0mgprop\u001b[0m\u001b[1;33m=\u001b[0m\u001b[0mgprop\u001b[0m\u001b[1;33m)\u001b[0m\u001b[1;33m\u001b[0m\u001b[1;33m\u001b[0m\u001b[0m\n\u001b[1;32m---> 83\u001b[1;33m         \u001b[0mtemp\u001b[0m\u001b[1;33m.\u001b[0m\u001b[0mdrop\u001b[0m\u001b[1;33m(\u001b[0m\u001b[0mcolumns\u001b[0m\u001b[1;33m=\u001b[0m\u001b[1;33m[\u001b[0m\u001b[1;34m'isPartial'\u001b[0m\u001b[1;33m]\u001b[0m\u001b[1;33m,\u001b[0m \u001b[0minplace\u001b[0m\u001b[1;33m=\u001b[0m\u001b[1;32mTrue\u001b[0m\u001b[1;33m)\u001b[0m\u001b[1;33m\u001b[0m\u001b[1;33m\u001b[0m\u001b[0m\n\u001b[0m\u001b[0;32m     84\u001b[0m         \u001b[0mtemp\u001b[0m\u001b[1;33m.\u001b[0m\u001b[0mcolumns\u001b[0m\u001b[1;33m.\u001b[0m\u001b[0mvalues\u001b[0m\u001b[1;33m[\u001b[0m\u001b[1;36m0\u001b[0m\u001b[1;33m]\u001b[0m \u001b[1;33m=\u001b[0m \u001b[0mtf\u001b[0m\u001b[1;33m\u001b[0m\u001b[1;33m\u001b[0m\u001b[0m\n\u001b[0;32m     85\u001b[0m         \u001b[0mol_temp\u001b[0m \u001b[1;33m=\u001b[0m \u001b[0mtemp\u001b[0m\u001b[1;33m.\u001b[0m\u001b[0mcopy\u001b[0m\u001b[1;33m(\u001b[0m\u001b[1;33m)\u001b[0m\u001b[1;33m\u001b[0m\u001b[1;33m\u001b[0m\u001b[0m\n",
      "\u001b[1;32m~\\anaconda3\\lib\\site-packages\\pandas\\util\\_decorators.py\u001b[0m in \u001b[0;36mwrapper\u001b[1;34m(*args, **kwargs)\u001b[0m\n\u001b[0;32m    309\u001b[0m                     \u001b[0mstacklevel\u001b[0m\u001b[1;33m=\u001b[0m\u001b[0mstacklevel\u001b[0m\u001b[1;33m,\u001b[0m\u001b[1;33m\u001b[0m\u001b[1;33m\u001b[0m\u001b[0m\n\u001b[0;32m    310\u001b[0m                 )\n\u001b[1;32m--> 311\u001b[1;33m             \u001b[1;32mreturn\u001b[0m \u001b[0mfunc\u001b[0m\u001b[1;33m(\u001b[0m\u001b[1;33m*\u001b[0m\u001b[0margs\u001b[0m\u001b[1;33m,\u001b[0m \u001b[1;33m**\u001b[0m\u001b[0mkwargs\u001b[0m\u001b[1;33m)\u001b[0m\u001b[1;33m\u001b[0m\u001b[1;33m\u001b[0m\u001b[0m\n\u001b[0m\u001b[0;32m    312\u001b[0m \u001b[1;33m\u001b[0m\u001b[0m\n\u001b[0;32m    313\u001b[0m         \u001b[1;32mreturn\u001b[0m \u001b[0mwrapper\u001b[0m\u001b[1;33m\u001b[0m\u001b[1;33m\u001b[0m\u001b[0m\n",
      "\u001b[1;32m~\\anaconda3\\lib\\site-packages\\pandas\\core\\frame.py\u001b[0m in \u001b[0;36mdrop\u001b[1;34m(self, labels, axis, index, columns, level, inplace, errors)\u001b[0m\n\u001b[0;32m   4904\u001b[0m                 \u001b[0mweight\u001b[0m  \u001b[1;36m1.0\u001b[0m     \u001b[1;36m0.8\u001b[0m\u001b[1;33m\u001b[0m\u001b[1;33m\u001b[0m\u001b[0m\n\u001b[0;32m   4905\u001b[0m         \"\"\"\n\u001b[1;32m-> 4906\u001b[1;33m         return super().drop(\n\u001b[0m\u001b[0;32m   4907\u001b[0m             \u001b[0mlabels\u001b[0m\u001b[1;33m=\u001b[0m\u001b[0mlabels\u001b[0m\u001b[1;33m,\u001b[0m\u001b[1;33m\u001b[0m\u001b[1;33m\u001b[0m\u001b[0m\n\u001b[0;32m   4908\u001b[0m             \u001b[0maxis\u001b[0m\u001b[1;33m=\u001b[0m\u001b[0maxis\u001b[0m\u001b[1;33m,\u001b[0m\u001b[1;33m\u001b[0m\u001b[1;33m\u001b[0m\u001b[0m\n",
      "\u001b[1;32m~\\anaconda3\\lib\\site-packages\\pandas\\core\\generic.py\u001b[0m in \u001b[0;36mdrop\u001b[1;34m(self, labels, axis, index, columns, level, inplace, errors)\u001b[0m\n\u001b[0;32m   4148\u001b[0m         \u001b[1;32mfor\u001b[0m \u001b[0maxis\u001b[0m\u001b[1;33m,\u001b[0m \u001b[0mlabels\u001b[0m \u001b[1;32min\u001b[0m \u001b[0maxes\u001b[0m\u001b[1;33m.\u001b[0m\u001b[0mitems\u001b[0m\u001b[1;33m(\u001b[0m\u001b[1;33m)\u001b[0m\u001b[1;33m:\u001b[0m\u001b[1;33m\u001b[0m\u001b[1;33m\u001b[0m\u001b[0m\n\u001b[0;32m   4149\u001b[0m             \u001b[1;32mif\u001b[0m \u001b[0mlabels\u001b[0m \u001b[1;32mis\u001b[0m \u001b[1;32mnot\u001b[0m \u001b[1;32mNone\u001b[0m\u001b[1;33m:\u001b[0m\u001b[1;33m\u001b[0m\u001b[1;33m\u001b[0m\u001b[0m\n\u001b[1;32m-> 4150\u001b[1;33m                 \u001b[0mobj\u001b[0m \u001b[1;33m=\u001b[0m \u001b[0mobj\u001b[0m\u001b[1;33m.\u001b[0m\u001b[0m_drop_axis\u001b[0m\u001b[1;33m(\u001b[0m\u001b[0mlabels\u001b[0m\u001b[1;33m,\u001b[0m \u001b[0maxis\u001b[0m\u001b[1;33m,\u001b[0m \u001b[0mlevel\u001b[0m\u001b[1;33m=\u001b[0m\u001b[0mlevel\u001b[0m\u001b[1;33m,\u001b[0m \u001b[0merrors\u001b[0m\u001b[1;33m=\u001b[0m\u001b[0merrors\u001b[0m\u001b[1;33m)\u001b[0m\u001b[1;33m\u001b[0m\u001b[1;33m\u001b[0m\u001b[0m\n\u001b[0m\u001b[0;32m   4151\u001b[0m \u001b[1;33m\u001b[0m\u001b[0m\n\u001b[0;32m   4152\u001b[0m         \u001b[1;32mif\u001b[0m \u001b[0minplace\u001b[0m\u001b[1;33m:\u001b[0m\u001b[1;33m\u001b[0m\u001b[1;33m\u001b[0m\u001b[0m\n",
      "\u001b[1;32m~\\anaconda3\\lib\\site-packages\\pandas\\core\\generic.py\u001b[0m in \u001b[0;36m_drop_axis\u001b[1;34m(self, labels, axis, level, errors)\u001b[0m\n\u001b[0;32m   4183\u001b[0m                 \u001b[0mnew_axis\u001b[0m \u001b[1;33m=\u001b[0m \u001b[0maxis\u001b[0m\u001b[1;33m.\u001b[0m\u001b[0mdrop\u001b[0m\u001b[1;33m(\u001b[0m\u001b[0mlabels\u001b[0m\u001b[1;33m,\u001b[0m \u001b[0mlevel\u001b[0m\u001b[1;33m=\u001b[0m\u001b[0mlevel\u001b[0m\u001b[1;33m,\u001b[0m \u001b[0merrors\u001b[0m\u001b[1;33m=\u001b[0m\u001b[0merrors\u001b[0m\u001b[1;33m)\u001b[0m\u001b[1;33m\u001b[0m\u001b[1;33m\u001b[0m\u001b[0m\n\u001b[0;32m   4184\u001b[0m             \u001b[1;32melse\u001b[0m\u001b[1;33m:\u001b[0m\u001b[1;33m\u001b[0m\u001b[1;33m\u001b[0m\u001b[0m\n\u001b[1;32m-> 4185\u001b[1;33m                 \u001b[0mnew_axis\u001b[0m \u001b[1;33m=\u001b[0m \u001b[0maxis\u001b[0m\u001b[1;33m.\u001b[0m\u001b[0mdrop\u001b[0m\u001b[1;33m(\u001b[0m\u001b[0mlabels\u001b[0m\u001b[1;33m,\u001b[0m \u001b[0merrors\u001b[0m\u001b[1;33m=\u001b[0m\u001b[0merrors\u001b[0m\u001b[1;33m)\u001b[0m\u001b[1;33m\u001b[0m\u001b[1;33m\u001b[0m\u001b[0m\n\u001b[0m\u001b[0;32m   4186\u001b[0m             \u001b[0mresult\u001b[0m \u001b[1;33m=\u001b[0m \u001b[0mself\u001b[0m\u001b[1;33m.\u001b[0m\u001b[0mreindex\u001b[0m\u001b[1;33m(\u001b[0m\u001b[1;33m**\u001b[0m\u001b[1;33m{\u001b[0m\u001b[0maxis_name\u001b[0m\u001b[1;33m:\u001b[0m \u001b[0mnew_axis\u001b[0m\u001b[1;33m}\u001b[0m\u001b[1;33m)\u001b[0m\u001b[1;33m\u001b[0m\u001b[1;33m\u001b[0m\u001b[0m\n\u001b[0;32m   4187\u001b[0m \u001b[1;33m\u001b[0m\u001b[0m\n",
      "\u001b[1;32m~\\anaconda3\\lib\\site-packages\\pandas\\core\\indexes\\base.py\u001b[0m in \u001b[0;36mdrop\u001b[1;34m(self, labels, errors)\u001b[0m\n\u001b[0;32m   6015\u001b[0m         \u001b[1;32mif\u001b[0m \u001b[0mmask\u001b[0m\u001b[1;33m.\u001b[0m\u001b[0many\u001b[0m\u001b[1;33m(\u001b[0m\u001b[1;33m)\u001b[0m\u001b[1;33m:\u001b[0m\u001b[1;33m\u001b[0m\u001b[1;33m\u001b[0m\u001b[0m\n\u001b[0;32m   6016\u001b[0m             \u001b[1;32mif\u001b[0m \u001b[0merrors\u001b[0m \u001b[1;33m!=\u001b[0m \u001b[1;34m\"ignore\"\u001b[0m\u001b[1;33m:\u001b[0m\u001b[1;33m\u001b[0m\u001b[1;33m\u001b[0m\u001b[0m\n\u001b[1;32m-> 6017\u001b[1;33m                 \u001b[1;32mraise\u001b[0m \u001b[0mKeyError\u001b[0m\u001b[1;33m(\u001b[0m\u001b[1;34mf\"{labels[mask]} not found in axis\"\u001b[0m\u001b[1;33m)\u001b[0m\u001b[1;33m\u001b[0m\u001b[1;33m\u001b[0m\u001b[0m\n\u001b[0m\u001b[0;32m   6018\u001b[0m             \u001b[0mindexer\u001b[0m \u001b[1;33m=\u001b[0m \u001b[0mindexer\u001b[0m\u001b[1;33m[\u001b[0m\u001b[1;33m~\u001b[0m\u001b[0mmask\u001b[0m\u001b[1;33m]\u001b[0m\u001b[1;33m\u001b[0m\u001b[1;33m\u001b[0m\u001b[0m\n\u001b[0;32m   6019\u001b[0m         \u001b[1;32mreturn\u001b[0m \u001b[0mself\u001b[0m\u001b[1;33m.\u001b[0m\u001b[0mdelete\u001b[0m\u001b[1;33m(\u001b[0m\u001b[0mindexer\u001b[0m\u001b[1;33m)\u001b[0m\u001b[1;33m\u001b[0m\u001b[1;33m\u001b[0m\u001b[0m\n",
      "\u001b[1;31mKeyError\u001b[0m: \"['isPartial'] not found in axis\""
     ]
    }
   ],
   "source": [
    "dicti = {}\n",
    "for keyword in single_names:\n",
    "    dicti[keyword] = gtrend.get_daily_trend(pytrend, keyword, start, end, geo=geo, cat=cat, gprop=gprop, verbose=True, tz=0).iloc[:,0]"
   ]
  },
  {
   "cell_type": "markdown",
   "id": "0b862411",
   "metadata": {},
   "source": [
    "Acquire daily google trend data for over 9 month by concatenating multiple queries, and normalize(scaling) by the overlapping period (overlapping method)\n",
    "\n",
    "1) collect all of the daily SVI data you need in 90 day increments and combine them into a single increment covering the entire time period of interest. \n",
    "\n",
    "2) line up the data for the same entire time period, but aggregated at a weekly level to get the weekly SVI. Determine an adjustment factor which is done by dividing the weekly SVI with the daily SVI value where the dates overlap. \n",
    "\n",
    "3) multiple the daily SVI values by the adjustment factor14. In cases when the SVI was less than 1, the value was returned by the Google Trends query as < 1. To allow for an adjustment calculation we changed that value to 0.5. Google does not provide any more information on what the specific value was, so the halfway value of 0.5 was used as a substitute. As we did when collecting tweets, we elected to collect Google Trends data using the least ambiguous terms as possible which were ”bitcoin” and ”ethereum”. Each currency’s abbreviation, ”BTC” and ”ETH” respectively were not used.\n"
   ]
  },
  {
   "cell_type": "code",
   "execution_count": 12,
   "id": "3b6d8c70",
   "metadata": {},
   "outputs": [
    {
     "name": "stdout",
     "output_type": "stream",
     "text": [
      "Fetching 'bitcoin' for period:2021-02-27 2021-11-23\n",
      "Fetching 'bitcoin' for period:2020-09-11 2021-06-07\n",
      "Normalize by overlapping period:2021-02-27 2021-06-07\n",
      "Fetching 'bitcoin' for period:2020-03-26 2020-12-20\n",
      "Normalize by overlapping period:2020-09-11 2020-12-20\n",
      "Fetching 'bitcoin' for period:2019-10-09 2020-07-04\n",
      "Normalize by overlapping period:2020-03-26 2020-07-04\n",
      "Fetching 'bitcoin' for period:2019-04-23 2020-01-17\n",
      "Normalize by overlapping period:2019-10-09 2020-01-17\n",
      "Fetching 'bitcoin' for period:2018-11-05 2019-08-01\n",
      "Normalize by overlapping period:2019-04-23 2019-08-01\n",
      "Fetching 'bitcoin' for period:2018-05-20 2019-02-13\n",
      "Normalize by overlapping period:2018-11-05 2019-02-13\n",
      "Fetching 'bitcoin' for period:2017-12-02 2018-08-28\n",
      "Normalize by overlapping period:2018-05-20 2018-08-28\n",
      "Fetching 'bitcoin' for period:2017-06-16 2018-03-12\n",
      "Normalize by overlapping period:2017-12-02 2018-03-12\n",
      "Fetching 'bitcoin' for period:2016-12-29 2017-09-24\n",
      "Normalize by overlapping period:2017-06-16 2017-09-24\n",
      "Fetching 'bitcoin' for period:2016-07-13 2017-04-08\n",
      "Normalize by overlapping period:2016-12-29 2017-04-08\n"
     ]
    }
   ],
   "source": [
    "overlapping = gtrend.get_daily_trend(pytrend, keyword, start, end, geo=geo, cat=cat, gprop=gprop, verbose=True, tz=0)"
   ]
  },
  {
   "cell_type": "code",
   "execution_count": 88,
   "id": "aea7195c",
   "metadata": {},
   "outputs": [],
   "source": [
    "data = pd.DataFrame()\n",
    "for keyword in dicti.keys():\n",
    "    data[keyword] = dicti[keyword]"
   ]
  },
  {
   "cell_type": "code",
   "execution_count": 29,
   "id": "c5787dad",
   "metadata": {},
   "outputs": [
    {
     "data": {
      "text/plain": [
       "<AxesSubplot:xlabel='date'>"
      ]
     },
     "execution_count": 29,
     "metadata": {},
     "output_type": "execute_result"
    },
    {
     "data": {
      "image/png": "[encoded data removed]",
      "text/plain": [
       "<Figure size 1080x720 with 1 Axes>"
      ]
     },
     "metadata": {},
     "output_type": "display_data"
    }
   ],
   "source": [
    "data.plot(figsize = (15,10))"
   ]
  },
  {
   "cell_type": "code",
   "execution_count": 31,
   "id": "39104b48",
   "metadata": {},
   "outputs": [
    {
     "data": {
      "text/html": [
       "<div>\n",
       "<style scoped>\n",
       "    .dataframe tbody tr th:only-of-type {\n",
       "        vertical-align: middle;\n",
       "    }\n",
       "\n",
       "    .dataframe tbody tr th {\n",
       "        vertical-align: top;\n",
       "    }\n",
       "\n",
       "    .dataframe thead th {\n",
       "        text-align: right;\n",
       "    }\n",
       "</style>\n",
       "<table border=\"1\" class=\"dataframe\">\n",
       "  <thead>\n",
       "    <tr style=\"text-align: right;\">\n",
       "      <th></th>\n",
       "      <th>bitcoin</th>\n",
       "      <th>ethereum</th>\n",
       "      <th>tether</th>\n",
       "    </tr>\n",
       "  </thead>\n",
       "  <tbody>\n",
       "    <tr>\n",
       "      <th>bitcoin</th>\n",
       "      <td>1.000000</td>\n",
       "      <td>0.673608</td>\n",
       "      <td>0.535010</td>\n",
       "    </tr>\n",
       "    <tr>\n",
       "      <th>ethereum</th>\n",
       "      <td>0.673608</td>\n",
       "      <td>1.000000</td>\n",
       "      <td>0.521053</td>\n",
       "    </tr>\n",
       "    <tr>\n",
       "      <th>tether</th>\n",
       "      <td>0.535010</td>\n",
       "      <td>0.521053</td>\n",
       "      <td>1.000000</td>\n",
       "    </tr>\n",
       "  </tbody>\n",
       "</table>\n",
       "</div>"
      ],
      "text/plain": [
       "           bitcoin  ethereum    tether\n",
       "bitcoin   1.000000  0.673608  0.535010\n",
       "ethereum  0.673608  1.000000  0.521053\n",
       "tether    0.535010  0.521053  1.000000"
      ]
     },
     "execution_count": 31,
     "metadata": {},
     "output_type": "execute_result"
    }
   ],
   "source": [
    "data.corr()"
   ]
  },
  {
   "cell_type": "code",
   "execution_count": 32,
   "id": "4a038124",
   "metadata": {},
   "outputs": [
    {
     "data": {
      "text/plain": [
       "(0.6736084285061446, 8.689609915657394e-237)"
      ]
     },
     "execution_count": 32,
     "metadata": {},
     "output_type": "execute_result"
    }
   ],
   "source": [
    "import scipy.stats as stats\n",
    "\n",
    "stats.pearsonr(data[\"bitcoin\"],data[\"ethereum\"])"
   ]
  },
  {
   "cell_type": "markdown",
   "id": "ea3a3eb4",
   "metadata": {},
   "source": [
    "Acquire daily google trend data for over 9 month by concatenating multiple non-overlapping queries of 1-month, and normalize(scaling) by weekly trend value of the same period. (pytrends dailydata.py method)"
   ]
  },
  {
   "cell_type": "code",
   "execution_count": null,
   "id": "2d10de3d",
   "metadata": {},
   "outputs": [],
   "source": [
    "from pytrends import dailydata\n",
    "\n",
    "start_d = datetime.strptime(start, '%Y-%m-%d')\n",
    "end_d = datetime.strptime(end, '%Y-%m-%d')\n",
    "s_year = start_d.year\n",
    "s_mon = start_d.month\n",
    "e_year = end_d.year\n",
    "e_mon = end_d.month\n",
    "\n",
    "dailydata = dailydata.get_daily_data(word= keyword,\n",
    "                 start_year= s_year,\n",
    "                 start_mon= s_mon,\n",
    "                 stop_year= e_year,\n",
    "                 stop_mon= e_mon,\n",
    "                 geo= geo,\n",
    "                 verbose= False,\n",
    "                 wait_time = 1.0)\n",
    "requests_args={'verify':False}"
   ]
  },
  {
   "cell_type": "code",
   "execution_count": null,
   "id": "f4af5224",
   "metadata": {},
   "outputs": [],
   "source": [
    "print(dailydata.columns)\n",
    "dailydata[f'{keyword}'].plot(figsize=(15,10))"
   ]
  },
  {
   "cell_type": "markdown",
   "id": "c5404d4b",
   "metadata": {},
   "source": [
    "The weekly trend data might be a reference for comparing above normalization methods. For query period between 269 days (~9months) and 5 years, google trend will return weely data. To have comparable axis scale, the weekly data is interpolated to obtain daily data."
   ]
  },
  {
   "cell_type": "code",
   "execution_count": null,
   "id": "9b9ce8a0",
   "metadata": {},
   "outputs": [],
   "source": [
    "tf = start_d.strftime('%Y-%m-%d')+' '+end_d.strftime('%Y-%m-%d')\n",
    "pytrend.build_payload(kw_list=[keyword], cat=cat, geo=geo, gprop=gprop, timeframe=tf)\n",
    "week = pytrend.interest_over_time()\n",
    "week_interp = week.resample('D').mean()\n",
    "week_interp[f'{keyword}'] = week_interp[f'{keyword}'].interpolate()"
   ]
  },
  {
   "cell_type": "code",
   "execution_count": null,
   "id": "0c409fc8",
   "metadata": {},
   "outputs": [],
   "source": [
    "week_interp.drop(columns='isPartial', inplace=True)"
   ]
  },
  {
   "cell_type": "code",
   "execution_count": null,
   "id": "7c94c88b",
   "metadata": {},
   "outputs": [],
   "source": [
    "week_interp.plot(figsize=(15,10))"
   ]
  },
  {
   "cell_type": "markdown",
   "id": "aad43b99",
   "metadata": {},
   "source": [
    "For better visual comparison, let's put all 3 dataset together."
   ]
  },
  {
   "cell_type": "code",
   "execution_count": null,
   "id": "86e1ecea",
   "metadata": {},
   "outputs": [],
   "source": [
    "overlapping.loc[:,keyword]"
   ]
  },
  {
   "cell_type": "code",
   "execution_count": null,
   "id": "4599b9e3",
   "metadata": {},
   "outputs": [],
   "source": [
    "overlapping.columns"
   ]
  },
  {
   "cell_type": "code",
   "execution_count": null,
   "id": "77fa5dfe",
   "metadata": {},
   "outputs": [],
   "source": [
    "combined = pd.concat([overlapping, dailydata.loc[:,keyword], week_interp], axis=1)\n",
    "\n",
    "# combined = combined.rename(columns={'bitcoin': 'overlapping method', 'overlap': 'overlap period','bitcoin': 'dailydata method','bitcoin': 'weekly data'})\n",
    "# column=[overlapping method,overlap period,dailydata method,weekly data]"
   ]
  },
  {
   "cell_type": "code",
   "execution_count": null,
   "id": "0d5cde41",
   "metadata": {},
   "outputs": [],
   "source": [
    "combined.tail(10)"
   ]
  },
  {
   "cell_type": "code",
   "execution_count": null,
   "id": "b9f79485",
   "metadata": {},
   "outputs": [],
   "source": [
    "combined.columns = ['overlapping method','overlap period', 'dailydata method', 'weekly data']\n",
    "combined = combined.resample('D').mean()"
   ]
  },
  {
   "cell_type": "code",
   "execution_count": null,
   "id": "bf4f8dc0",
   "metadata": {},
   "outputs": [],
   "source": [
    "combined.tail(10)"
   ]
  },
  {
   "cell_type": "code",
   "execution_count": null,
   "id": "2e6b3151",
   "metadata": {},
   "outputs": [],
   "source": [
    "import matplotlib.dates as mdates\n",
    "from cycler import cycler\n",
    "from matplotlib.cm import get_cmap\n",
    "\n",
    "combined2 = combined.iloc[:, [0,2,3,1]]\n",
    "combined2.index = [pd.to_datetime(date, format='%Y-%m-%d').date() for date in combined2.index]\n",
    "# c = ['royalblue', 'darkorange', 'limegreen', 'salmon']\n",
    "# colors = plt.cm.Paired(np.linspace(0,1,4)) # This returns RGBA; convert:\n",
    "c = []\n",
    "for i in range(0,4):\n",
    "    c.append(matplotlib.colors.rgb2hex(plt.cm.tab10(i)))\n",
    "ax = combined2.plot(figsize=(15,10), color=c)\n",
    "# set line colors\n",
    "# c = plt.cm.hot(np.linspace(0,1,4))\n",
    "# ax.set_prop_cycle(cycler('color', c))\n",
    "# ax.set_prop_cycle(color=colors)\n",
    "# ax.set_prop_cycle('color',plt.cm.Spectral(np.linspace(0,1,30)))\n",
    "# set monthly locator\n",
    "ax.xaxis.set_major_locator(mdates.YearLocator())\n",
    "ax.xaxis.set_minor_locator(mdates.MonthLocator(bymonthday=15))\n",
    "# set formatter\n",
    "ax.xaxis.set_major_formatter(mdates.DateFormatter('%Y'))\n",
    "ax.xaxis.set_minor_formatter(mdates.DateFormatter('%b'))\n",
    "\n",
    "ax.tick_params(direction='out', pad=20)\n",
    "# set font and rotation for date tick labels\n",
    "# plt.gcf().autofmt_xdate()\n",
    "ax.xaxis.grid(True, which='minor')\n",
    "\n",
    "plt.ylabel('Relative Search Trends')\n",
    "# plt.xlabel('Date')\n",
    "plt.title('Daily Google Trends Value for \\'iPhone\\' from '+start+' to '+end)\n",
    "# plt.set_cmap('Pastel2')\n",
    "\n",
    "plt.show()"
   ]
  },
  {
   "cell_type": "markdown",
   "id": "cdddf3dd",
   "metadata": {},
   "source": [
    "Use plotly to have better visualization"
   ]
  },
  {
   "cell_type": "code",
   "execution_count": null,
   "id": "81622e01",
   "metadata": {},
   "outputs": [],
   "source": [
    "# ax.get_lines()[0].get_color(), ax.get_lines()[1].get_color(), ax.get_lines()[2].get_color(), ax.get_lines()[3].get_color()"
   ]
  },
  {
   "cell_type": "code",
   "execution_count": null,
   "id": "24fe42ad",
   "metadata": {},
   "outputs": [],
   "source": [
    "# combined['overlap period'].fillna(value='0', inplace=True)\n",
    "combined.tail(20)"
   ]
  },
  {
   "cell_type": "code",
   "execution_count": null,
   "id": "96f16a55",
   "metadata": {},
   "outputs": [],
   "source": [
    "combined_m = pd.melt(combined.reset_index().drop(columns='overlap period'), id_vars='date')\n",
    "import plotly.express as px\n",
    "import plotly.graph_objects as go\n",
    "\n",
    "fig = px.line(combined_m, x='date', y='value', color='variable').for_each_trace(lambda t: t.update(name=t.name.replace(\"variable=\",\"\")))\n",
    "\n",
    "fig.update_layout(xaxis = dict(\n",
    "                    tickmode = 'auto',\n",
    "#                     tick0 = '2017-01-15',  # start tick on the middle of each month\n",
    "#                     dtick = (28*86400000.0) # tick spaced for every 28 days\n",
    "#                     dtick = 'M1' # tick spaced for every 1 month\n",
    "\n",
    "\n",
    "                )\n",
    "                )\n",
    "\n",
    "fig.show()"
   ]
  },
  {
   "cell_type": "markdown",
   "id": "8ce91265",
   "metadata": {},
   "source": [
    "\n",
    "Let's focus on a shorter period, such as 2017 Jul to 2017 Dec where the trend data varies a lot and 3 methods gave quite different values. In this case, we can even fetch the 'real' daily data directly from google trend (period less then 9 months) without doing any scaling/processing for comparison."
   ]
  },
  {
   "cell_type": "code",
   "execution_count": null,
   "id": "5e9f83fb",
   "metadata": {},
   "outputs": [],
   "source": [
    "p_start = '2017-07-01'\n",
    "p_end = '2017-12-31'\n",
    "# p_start_d = datetime.strptime(p_start, '%Y-%m-%d')\n",
    "# p_end_d = datetime.strptime(p_end, '%Y-%m-%d')\n",
    "tf = p_start+' '+p_end\n",
    "geo='US'\n",
    "pytrend.build_payload(kw_list=[keyword], cat=cat, geo=geo, gprop=gprop, timeframe=tf)\n",
    "daily_real = pytrend.interest_over_time()"
   ]
  },
  {
   "cell_type": "markdown",
   "id": "e7602142",
   "metadata": {},
   "source": [
    "Correct the time zone difference"
   ]
  },
  {
   "cell_type": "code",
   "execution_count": null,
   "id": "81de4ac1",
   "metadata": {},
   "outputs": [],
   "source": [
    "combined_period = combined.loc[p_start:p_end]\n",
    "combined_period  = pd.concat([combined_period,daily_real], axis=1)\n",
    "combined_period.drop(columns=['isPartial','overlap period'], inplace=True)\n",
    "combined_period.columns = ['overlapping method', 'dailydata method', 'weekly data', 'original data']"
   ]
  },
  {
   "cell_type": "code",
   "execution_count": null,
   "id": "8625ca56",
   "metadata": {},
   "outputs": [],
   "source": [
    "c = []\n",
    "for i in range(0,7):\n",
    "    c.append(matplotlib.colors.rgb2hex(plt.cm.tab10(i)))\n",
    "c"
   ]
  },
  {
   "cell_type": "code",
   "execution_count": null,
   "id": "fc64c484",
   "metadata": {},
   "outputs": [],
   "source": [
    "# combined_period.plot(figsize=(15,10))\n",
    "from matplotlib.dates import MO, TU, WE, TH, FR, SA, SU\n",
    "\n",
    "combined2 = combined_period.copy()\n",
    "combined2.index = [pd.to_datetime(date, format='%Y-%m-%d').date() for date in combined2.index]\n",
    "c = ['#1f77b4', '#ff7f0e', '#2ca02c', '#e377c2']\n",
    "ax = combined2.plot(figsize=(15,10), color=c)\n",
    "# set weekday locator\n",
    "ax.xaxis.set_major_locator(mdates.WeekdayLocator(byweekday=TU))\n",
    "# set formatter\n",
    "ax.xaxis.set_major_formatter(mdates.DateFormatter('%b %d'))\n",
    "# set font and rotation for date tick labels\n",
    "plt.gcf().autofmt_xdate()\n",
    "\n",
    "plt.ylabel('Relative Search Trends')\n",
    "plt.xlabel(None)\n",
    "plt.title('Daily Google Trends Value for \\'iPhone\\' from '+p_start+' to '+p_end)\n",
    "\n",
    "\n",
    "plt.show()"
   ]
  },
  {
   "cell_type": "code",
   "execution_count": null,
   "id": "0296c4f0",
   "metadata": {},
   "outputs": [],
   "source": [
    "period_m = pd.melt(combined_period.reset_index(), id_vars='date')\n",
    "\n",
    "fig = px.line(period_m, x='date', y='value', color='variable')\n",
    "fig.update_layout(xaxis = dict(\n",
    "                    tickmode = 'linear',\n",
    "                    tick0 = '2017-07-02',  # start on sunday\n",
    "                    dtick = (7*86400000.0) # tick spaced for every 7 days\n",
    "                )\n",
    "                )\n",
    "fig.show()\n",
    "\n",
    "# xaxis = {\n",
    "#    'tickformat': '%Y-%m-%d',\n",
    "#    'tickmode': 'auto',\n",
    "#    'nticks': value, [where value is the max # of ticks]\n",
    "#    'tick0': value, [where value is the first tick]\n",
    "#    'dtick': value [where value is the step between ticks]\n",
    "# }"
   ]
  },
  {
   "cell_type": "code",
   "execution_count": null,
   "id": "e53d152a",
   "metadata": {},
   "outputs": [],
   "source": [
    "# Calculating & chg for SVI index?\n",
    "combined_pc = ((combined - combined.shift(1))/combined.shift(1)).copy()\n",
    "combined_pc.tail(10)"
   ]
  },
  {
   "cell_type": "code",
   "execution_count": 33,
   "id": "d4824e0e",
   "metadata": {},
   "outputs": [
    {
     "name": "stdout",
     "output_type": "stream",
     "text": [
      "yfinance.Ticker object <BTC-USD>\n"
     ]
    }
   ],
   "source": [
    "# !pip install yfinance\n",
    "import yfinance as yf\n",
    "\n",
    "ticker = yf.Ticker(\"BTC-USD\")\n",
    "print(ticker)\n",
    "# ticker.info\n",
    "btc = ticker.history(start=start, end=end)"
   ]
  },
  {
   "cell_type": "code",
   "execution_count": null,
   "id": "cfd52179",
   "metadata": {},
   "outputs": [],
   "source": [
    "btc_pc = ((btc.Close - btc.Close.shift(1))/btc.Close.shift(1)).copy()\n",
    "btc_pc.tail(5)"
   ]
  },
  {
   "cell_type": "code",
   "execution_count": null,
   "id": "c8e59d81",
   "metadata": {},
   "outputs": [],
   "source": [
    "combined_stock = pd.concat([combined, btc.Close], axis=1)\n",
    "combined_stock.drop(columns=['dailydata method', 'overlap period'], inplace=True)"
   ]
  },
  {
   "cell_type": "code",
   "execution_count": null,
   "id": "86a7a3bd",
   "metadata": {},
   "outputs": [],
   "source": [
    "combined_stock.columns = ['daily trends', 'weekly trends', 'BTC stock price']"
   ]
  },
  {
   "cell_type": "code",
   "execution_count": null,
   "id": "9a264e33",
   "metadata": {},
   "outputs": [],
   "source": [
    "# combined.drop(index=date(2019,11,24), inplace=True)\n",
    "combined.tail(20)"
   ]
  },
  {
   "cell_type": "code",
   "execution_count": null,
   "id": "ad2daec5",
   "metadata": {},
   "outputs": [],
   "source": [
    "df_m = pd.melt(combined_stock.reset_index(), id_vars='index')"
   ]
  },
  {
   "cell_type": "code",
   "execution_count": null,
   "id": "1eab7590",
   "metadata": {},
   "outputs": [],
   "source": [
    "fig = px.line(df_m, x='index', y='value', color='variable').for_each_trace(lambda t: t.update(name=t.name.replace(\"variable=\",\"\")))\n",
    "\n",
    "\n",
    "fig.update_layout(xaxis = dict(\n",
    "                    tickmode = 'auto'\n",
    "                    ) \n",
    "                )\n",
    "\n",
    "\n",
    "\n",
    "fig.update_layout(\n",
    "    title={\n",
    "        'text': \"\\'bitcoin\\' daily search trend and Bitcoin stock price from \"+start+\" to \"+end,\n",
    "        'x':0.5,\n",
    "        'xanchor': 'center',\n",
    "        'yanchor': 'top'},\n",
    "    xaxis_title=None,\n",
    "    yaxis_title=\"Trend value / stock price\",\n",
    "    legend=go.layout.Legend(\n",
    "        x=0.83,\n",
    "        y=1,\n",
    "        traceorder=\"normal\",\n",
    "    )\n",
    ")\n",
    "\n",
    "fig.show()\n",
    "\n",
    "#To adjust scale for the chart!"
   ]
  },
  {
   "cell_type": "markdown",
   "id": "7af326f8",
   "metadata": {},
   "source": [
    "### Next to do:\n",
    "To determine if a relationship is present between Google Trends search data and cryptocurrency price changes a correlation was ran for both currencies. The two primary metrics to determine this are the ”Pearson R” and the p value. The Pearson R is a measure of the strength of the correlation. Its value ranges from -1 to 1. \n",
    "\n",
    "A positive value means that the two variables are positively correlated, or that an increase in one variable is associated with an increase in the other variable (this is correlation, not causation, so we can’t conclude that the change in one variable causes a change in the other, just that there is a relationship). Conversely, a negative value means that the two variables are negatively correlated, or an increase in one variables value is related to a decrease in the other variable. \n",
    "\n",
    "The p-value tells us how likely it is that these correlation measures would have been found by random chance. So the smaller the p-value, the more confident we can be that a relationship is in fact present, and not the result of random chance. \n",
    "\n",
    "Then use multiple regression model with Twitter data as inputs"
   ]
  },
  {
   "cell_type": "code",
   "execution_count": null,
   "id": "0b303ce4",
   "metadata": {},
   "outputs": [],
   "source": [
    "btc_pc"
   ]
  },
  {
   "cell_type": "code",
   "execution_count": null,
   "id": "e56292df",
   "metadata": {},
   "outputs": [],
   "source": [
    "combined_pc[\"btc_pc\"] = btc_pc"
   ]
  },
  {
   "cell_type": "code",
   "execution_count": null,
   "id": "3d5c858e",
   "metadata": {},
   "outputs": [],
   "source": [
    "combined_pc.corr()"
   ]
  },
  {
   "cell_type": "code",
   "execution_count": null,
   "id": "8043f38a",
   "metadata": {},
   "outputs": [],
   "source": [
    "combined_pc.corr().loc[\"dailydata method\",\"btc_pc\"]"
   ]
  },
  {
   "cell_type": "code",
   "execution_count": null,
   "id": "62f29d5c",
   "metadata": {},
   "outputs": [],
   "source": [
    "import scipy.stats as stats"
   ]
  },
  {
   "cell_type": "code",
   "execution_count": null,
   "id": "4309d2bc",
   "metadata": {},
   "outputs": [],
   "source": [
    "stats.pearsonr(combined_pc[\"dailydata method\"],combined_pc[\"btc_pc\"])"
   ]
  },
  {
   "cell_type": "code",
   "execution_count": 43,
   "id": "71dd28ea",
   "metadata": {
    "scrolled": true
   },
   "outputs": [
    {
     "data": {
      "text/html": [
       "<div>\n",
       "<style scoped>\n",
       "    .dataframe tbody tr th:only-of-type {\n",
       "        vertical-align: middle;\n",
       "    }\n",
       "\n",
       "    .dataframe tbody tr th {\n",
       "        vertical-align: top;\n",
       "    }\n",
       "\n",
       "    .dataframe thead th {\n",
       "        text-align: right;\n",
       "    }\n",
       "</style>\n",
       "<table border=\"1\" class=\"dataframe\">\n",
       "  <thead>\n",
       "    <tr style=\"text-align: right;\">\n",
       "      <th></th>\n",
       "      <th>bitcoin</th>\n",
       "      <th>ethereum</th>\n",
       "      <th>tether</th>\n",
       "    </tr>\n",
       "    <tr>\n",
       "      <th>date</th>\n",
       "      <th></th>\n",
       "      <th></th>\n",
       "      <th></th>\n",
       "    </tr>\n",
       "  </thead>\n",
       "  <tbody>\n",
       "    <tr>\n",
       "      <th>2017-01-01</th>\n",
       "      <td>2.0</td>\n",
       "      <td>1.0</td>\n",
       "      <td>20.0</td>\n",
       "    </tr>\n",
       "    <tr>\n",
       "      <th>2017-01-02</th>\n",
       "      <td>3.0</td>\n",
       "      <td>1.0</td>\n",
       "      <td>17.0</td>\n",
       "    </tr>\n",
       "    <tr>\n",
       "      <th>2017-01-03</th>\n",
       "      <td>2.0</td>\n",
       "      <td>1.0</td>\n",
       "      <td>20.0</td>\n",
       "    </tr>\n",
       "    <tr>\n",
       "      <th>2017-01-04</th>\n",
       "      <td>3.0</td>\n",
       "      <td>2.0</td>\n",
       "      <td>13.0</td>\n",
       "    </tr>\n",
       "    <tr>\n",
       "      <th>2017-01-05</th>\n",
       "      <td>4.0</td>\n",
       "      <td>2.0</td>\n",
       "      <td>27.0</td>\n",
       "    </tr>\n",
       "    <tr>\n",
       "      <th>...</th>\n",
       "      <td>...</td>\n",
       "      <td>...</td>\n",
       "      <td>...</td>\n",
       "    </tr>\n",
       "    <tr>\n",
       "      <th>2021-11-19</th>\n",
       "      <td>11.0</td>\n",
       "      <td>32.0</td>\n",
       "      <td>28.0</td>\n",
       "    </tr>\n",
       "    <tr>\n",
       "      <th>2021-11-20</th>\n",
       "      <td>10.0</td>\n",
       "      <td>28.0</td>\n",
       "      <td>28.0</td>\n",
       "    </tr>\n",
       "    <tr>\n",
       "      <th>2021-11-21</th>\n",
       "      <td>9.0</td>\n",
       "      <td>24.0</td>\n",
       "      <td>29.0</td>\n",
       "    </tr>\n",
       "    <tr>\n",
       "      <th>2021-11-22</th>\n",
       "      <td>10.0</td>\n",
       "      <td>29.0</td>\n",
       "      <td>20.0</td>\n",
       "    </tr>\n",
       "    <tr>\n",
       "      <th>2021-11-23</th>\n",
       "      <td>10.0</td>\n",
       "      <td>25.0</td>\n",
       "      <td>21.0</td>\n",
       "    </tr>\n",
       "  </tbody>\n",
       "</table>\n",
       "<p>1788 rows × 3 columns</p>\n",
       "</div>"
      ],
      "text/plain": [
       "            bitcoin  ethereum  tether\n",
       "date                                 \n",
       "2017-01-01      2.0       1.0    20.0\n",
       "2017-01-02      3.0       1.0    17.0\n",
       "2017-01-03      2.0       1.0    20.0\n",
       "2017-01-04      3.0       2.0    13.0\n",
       "2017-01-05      4.0       2.0    27.0\n",
       "...             ...       ...     ...\n",
       "2021-11-19     11.0      32.0    28.0\n",
       "2021-11-20     10.0      28.0    28.0\n",
       "2021-11-21      9.0      24.0    29.0\n",
       "2021-11-22     10.0      29.0    20.0\n",
       "2021-11-23     10.0      25.0    21.0\n",
       "\n",
       "[1788 rows x 3 columns]"
      ]
     },
     "execution_count": 43,
     "metadata": {},
     "output_type": "execute_result"
    }
   ],
   "source": [
    "data"
   ]
  },
  {
   "cell_type": "code",
   "execution_count": 44,
   "id": "4b26ec03",
   "metadata": {},
   "outputs": [
    {
     "name": "stdout",
     "output_type": "stream",
     "text": [
      "yfinance.Ticker object <BTC-USD>\n"
     ]
    }
   ],
   "source": [
    "import yfinance as yf\n",
    "\n",
    "ticker = yf.Ticker(\"BTC-USD\")\n",
    "print(ticker)\n",
    "# ticker.info\n",
    "btc = ticker.history(start=start, end=end)"
   ]
  },
  {
   "cell_type": "code",
   "execution_count": 84,
   "id": "0291ec92",
   "metadata": {},
   "outputs": [
    {
     "name": "stdout",
     "output_type": "stream",
     "text": [
      "yfinance.Ticker object <ETH-USD>\n"
     ]
    }
   ],
   "source": [
    "ticker = yf.Ticker(\"ETH-USD\")\n",
    "print(ticker)\n",
    "# ticker.info\n",
    "eth = ticker.history(start=start, end=end)"
   ]
  },
  {
   "cell_type": "code",
   "execution_count": 95,
   "id": "8fcb124b",
   "metadata": {},
   "outputs": [
    {
     "name": "stdout",
     "output_type": "stream",
     "text": [
      "yfinance.Ticker object <USDT-USD>\n"
     ]
    }
   ],
   "source": [
    "ticker = yf.Ticker(\"USDT-USD\")\n",
    "print(ticker)\n",
    "# ticker.info\n",
    "teth = ticker.history(start=start, end=end)"
   ]
  },
  {
   "cell_type": "code",
   "execution_count": 96,
   "id": "ed0dc68a",
   "metadata": {},
   "outputs": [],
   "source": [
    "btc.columns= ['Open', 'High', 'Low', 'bitcoin_Close', 'Volume', 'Dividends', 'Stock Splits']\n",
    "eth.columns = ['Open', 'High', 'Low', 'ethereum_Close', 'Volume', 'Dividends', 'Stock Splits']\n",
    "teth.columns = ['Open', 'High', 'Low', 'tether_Close', 'Volume', 'Dividends', 'Stock Splits']"
   ]
  },
  {
   "cell_type": "code",
   "execution_count": 93,
   "id": "91315b1a",
   "metadata": {},
   "outputs": [],
   "source": [
    "data = pd.merge(data,btc['bitcoin_Close'],left_index = True, right_index = True)\n",
    "data = pd.merge(data,eth['ethereum_Close'],left_index = True, right_index = True)"
   ]
  },
  {
   "cell_type": "code",
   "execution_count": 98,
   "id": "50ef91a0",
   "metadata": {},
   "outputs": [],
   "source": [
    "data = pd.merge(data,teth['tether_Close'],left_index = True, right_index = True)"
   ]
  },
  {
   "cell_type": "code",
   "execution_count": 99,
   "id": "73366466",
   "metadata": {},
   "outputs": [
    {
     "data": {
      "text/html": [
       "<div>\n",
       "<style scoped>\n",
       "    .dataframe tbody tr th:only-of-type {\n",
       "        vertical-align: middle;\n",
       "    }\n",
       "\n",
       "    .dataframe tbody tr th {\n",
       "        vertical-align: top;\n",
       "    }\n",
       "\n",
       "    .dataframe thead th {\n",
       "        text-align: right;\n",
       "    }\n",
       "</style>\n",
       "<table border=\"1\" class=\"dataframe\">\n",
       "  <thead>\n",
       "    <tr style=\"text-align: right;\">\n",
       "      <th></th>\n",
       "      <th>bitcoin</th>\n",
       "      <th>ethereum</th>\n",
       "      <th>tether</th>\n",
       "      <th>bitcoin_Close</th>\n",
       "      <th>ethereum_Close</th>\n",
       "      <th>tether_Close</th>\n",
       "    </tr>\n",
       "  </thead>\n",
       "  <tbody>\n",
       "    <tr>\n",
       "      <th>2017-11-09</th>\n",
       "      <td>10.0</td>\n",
       "      <td>13.0</td>\n",
       "      <td>28.0</td>\n",
       "      <td>7143.580078</td>\n",
       "      <td>320.884003</td>\n",
       "      <td>1.008180</td>\n",
       "    </tr>\n",
       "    <tr>\n",
       "      <th>2017-11-10</th>\n",
       "      <td>13.0</td>\n",
       "      <td>12.0</td>\n",
       "      <td>22.0</td>\n",
       "      <td>6618.140137</td>\n",
       "      <td>299.252991</td>\n",
       "      <td>1.006010</td>\n",
       "    </tr>\n",
       "    <tr>\n",
       "      <th>2017-11-11</th>\n",
       "      <td>12.0</td>\n",
       "      <td>9.0</td>\n",
       "      <td>24.0</td>\n",
       "      <td>6357.600098</td>\n",
       "      <td>314.681000</td>\n",
       "      <td>1.008990</td>\n",
       "    </tr>\n",
       "    <tr>\n",
       "      <th>2017-11-12</th>\n",
       "      <td>15.0</td>\n",
       "      <td>9.0</td>\n",
       "      <td>26.0</td>\n",
       "      <td>5950.069824</td>\n",
       "      <td>307.907990</td>\n",
       "      <td>1.012470</td>\n",
       "    </tr>\n",
       "    <tr>\n",
       "      <th>2017-11-13</th>\n",
       "      <td>12.0</td>\n",
       "      <td>10.0</td>\n",
       "      <td>18.0</td>\n",
       "      <td>6559.490234</td>\n",
       "      <td>316.716003</td>\n",
       "      <td>1.009350</td>\n",
       "    </tr>\n",
       "    <tr>\n",
       "      <th>...</th>\n",
       "      <td>...</td>\n",
       "      <td>...</td>\n",
       "      <td>...</td>\n",
       "      <td>...</td>\n",
       "      <td>...</td>\n",
       "      <td>...</td>\n",
       "    </tr>\n",
       "    <tr>\n",
       "      <th>2021-11-18</th>\n",
       "      <td>12.0</td>\n",
       "      <td>35.0</td>\n",
       "      <td>25.0</td>\n",
       "      <td>56942.136719</td>\n",
       "      <td>4000.650879</td>\n",
       "      <td>0.999970</td>\n",
       "    </tr>\n",
       "    <tr>\n",
       "      <th>2021-11-19</th>\n",
       "      <td>11.0</td>\n",
       "      <td>32.0</td>\n",
       "      <td>28.0</td>\n",
       "      <td>58119.578125</td>\n",
       "      <td>4298.306641</td>\n",
       "      <td>1.000820</td>\n",
       "    </tr>\n",
       "    <tr>\n",
       "      <th>2021-11-20</th>\n",
       "      <td>10.0</td>\n",
       "      <td>28.0</td>\n",
       "      <td>28.0</td>\n",
       "      <td>59697.195312</td>\n",
       "      <td>4409.931152</td>\n",
       "      <td>1.000362</td>\n",
       "    </tr>\n",
       "    <tr>\n",
       "      <th>2021-11-21</th>\n",
       "      <td>9.0</td>\n",
       "      <td>24.0</td>\n",
       "      <td>29.0</td>\n",
       "      <td>58730.476562</td>\n",
       "      <td>4269.732910</td>\n",
       "      <td>1.000873</td>\n",
       "    </tr>\n",
       "    <tr>\n",
       "      <th>2021-11-22</th>\n",
       "      <td>10.0</td>\n",
       "      <td>29.0</td>\n",
       "      <td>20.0</td>\n",
       "      <td>56289.289062</td>\n",
       "      <td>4088.457764</td>\n",
       "      <td>1.000451</td>\n",
       "    </tr>\n",
       "  </tbody>\n",
       "</table>\n",
       "<p>1475 rows × 6 columns</p>\n",
       "</div>"
      ],
      "text/plain": [
       "            bitcoin  ethereum  tether  bitcoin_Close  ethereum_Close  \\\n",
       "2017-11-09     10.0      13.0    28.0    7143.580078      320.884003   \n",
       "2017-11-10     13.0      12.0    22.0    6618.140137      299.252991   \n",
       "2017-11-11     12.0       9.0    24.0    6357.600098      314.681000   \n",
       "2017-11-12     15.0       9.0    26.0    5950.069824      307.907990   \n",
       "2017-11-13     12.0      10.0    18.0    6559.490234      316.716003   \n",
       "...             ...       ...     ...            ...             ...   \n",
       "2021-11-18     12.0      35.0    25.0   56942.136719     4000.650879   \n",
       "2021-11-19     11.0      32.0    28.0   58119.578125     4298.306641   \n",
       "2021-11-20     10.0      28.0    28.0   59697.195312     4409.931152   \n",
       "2021-11-21      9.0      24.0    29.0   58730.476562     4269.732910   \n",
       "2021-11-22     10.0      29.0    20.0   56289.289062     4088.457764   \n",
       "\n",
       "            tether_Close  \n",
       "2017-11-09      1.008180  \n",
       "2017-11-10      1.006010  \n",
       "2017-11-11      1.008990  \n",
       "2017-11-12      1.012470  \n",
       "2017-11-13      1.009350  \n",
       "...                  ...  \n",
       "2021-11-18      0.999970  \n",
       "2021-11-19      1.000820  \n",
       "2021-11-20      1.000362  \n",
       "2021-11-21      1.000873  \n",
       "2021-11-22      1.000451  \n",
       "\n",
       "[1475 rows x 6 columns]"
      ]
     },
     "execution_count": 99,
     "metadata": {},
     "output_type": "execute_result"
    }
   ],
   "source": [
    "data"
   ]
  },
  {
   "cell_type": "code",
   "execution_count": 50,
   "id": "5d0e1c46",
   "metadata": {},
   "outputs": [
    {
     "data": {
      "text/plain": [
       "(0.4385090244994617, 7.219141405868868e-85)"
      ]
     },
     "execution_count": 50,
     "metadata": {},
     "output_type": "execute_result"
    }
   ],
   "source": [
    "stats.pearsonr(data[\"bitcoin\"], data[\"Close\"])"
   ]
  },
  {
   "cell_type": "code",
   "execution_count": 52,
   "id": "62f6eb29",
   "metadata": {},
   "outputs": [
    {
     "data": {
      "text/plain": [
       "<AxesSubplot:>"
      ]
     },
     "execution_count": 52,
     "metadata": {},
     "output_type": "execute_result"
    },
    {
     "data": {
      "image/png": "[encoded data removed]",
      "text/plain": [
       "<Figure size 1080x720 with 2 Axes>"
      ]
     },
     "metadata": {},
     "output_type": "display_data"
    }
   ],
   "source": [
    "data[[\"bitcoin\",\"Close\"]].plot(figsize = (15,10),secondary_y=True )"
   ]
  },
  {
   "cell_type": "code",
   "execution_count": 53,
   "id": "2ab112b0",
   "metadata": {},
   "outputs": [],
   "source": [
    "from sklearn.preprocessing import StandardScaler"
   ]
  },
  {
   "cell_type": "code",
   "execution_count": 54,
   "id": "c445b16c",
   "metadata": {},
   "outputs": [
    {
     "data": {
      "text/plain": [
       "StandardScaler()"
      ]
     },
     "execution_count": 54,
     "metadata": {},
     "output_type": "execute_result"
    }
   ],
   "source": [
    "sc = StandardScaler()\n",
    "sc.fit(data[[\"bitcoin\",\"Close\"]])"
   ]
  },
  {
   "cell_type": "code",
   "execution_count": 55,
   "id": "6c72354b",
   "metadata": {},
   "outputs": [],
   "source": [
    "std_data = pd.DataFrame(sc.transform(data[[\"bitcoin\",\"Close\"]]),index = data.index, columns = [\"bitcoin\",\"Close\"])"
   ]
  },
  {
   "cell_type": "code",
   "execution_count": 57,
   "id": "5fee29d5",
   "metadata": {},
   "outputs": [
    {
     "data": {
      "text/plain": [
       "<AxesSubplot:>"
      ]
     },
     "execution_count": 57,
     "metadata": {},
     "output_type": "execute_result"
    },
    {
     "data": {
      "image/png": "[encoded data removed]",
      "text/plain": [
       "<Figure size 1080x720 with 1 Axes>"
      ]
     },
     "metadata": {},
     "output_type": "display_data"
    }
   ],
   "source": [
    "std_data.plot(figsize = (15,10))"
   ]
  },
  {
   "cell_type": "code",
   "execution_count": 101,
   "id": "e4572edb",
   "metadata": {},
   "outputs": [
    {
     "name": "stderr",
     "output_type": "stream",
     "text": [
      "C:\\Users\\Ksenija\\anaconda3\\lib\\site-packages\\statsmodels\\tsa\\tsatools.py:142: FutureWarning: In a future version of pandas all arguments of concat except for the argument 'objs' will be keyword-only\n",
      "  x = pd.concat(x[::order], 1)\n"
     ]
    }
   ],
   "source": [
    "import statsmodels.api as sm\n",
    "\n",
    "models = dict()\n",
    "\n",
    "for cryp in [\"bitcoin\",\"ethereum\",\"tether\"]:\n",
    "    y = data['{}_Close'.format(cryp)]\n",
    "    x1 = data[[cryp]]\n",
    "    x = sm.add_constant(x1)\n",
    "    models[cryp] = sm.OLS(y,x).fit()"
   ]
  },
  {
   "cell_type": "code",
   "execution_count": 103,
   "id": "5e63ce0e",
   "metadata": {},
   "outputs": [
    {
     "data": {
      "text/html": [
       "<table class=\"simpletable\">\n",
       "<caption>OLS Regression Results</caption>\n",
       "<tr>\n",
       "  <th>Dep. Variable:</th>      <td>bitcoin_Close</td>  <th>  R-squared:         </th> <td>   0.163</td> \n",
       "</tr>\n",
       "<tr>\n",
       "  <th>Model:</th>                   <td>OLS</td>       <th>  Adj. R-squared:    </th> <td>   0.162</td> \n",
       "</tr>\n",
       "<tr>\n",
       "  <th>Method:</th>             <td>Least Squares</td>  <th>  F-statistic:       </th> <td>   286.6</td> \n",
       "</tr>\n",
       "<tr>\n",
       "  <th>Date:</th>             <td>Fri, 15 Apr 2022</td> <th>  Prob (F-statistic):</th> <td>6.90e-59</td> \n",
       "</tr>\n",
       "<tr>\n",
       "  <th>Time:</th>                 <td>16:51:35</td>     <th>  Log-Likelihood:    </th> <td> -16319.</td> \n",
       "</tr>\n",
       "<tr>\n",
       "  <th>No. Observations:</th>      <td>  1475</td>      <th>  AIC:               </th> <td>3.264e+04</td>\n",
       "</tr>\n",
       "<tr>\n",
       "  <th>Df Residuals:</th>          <td>  1473</td>      <th>  BIC:               </th> <td>3.265e+04</td>\n",
       "</tr>\n",
       "<tr>\n",
       "  <th>Df Model:</th>              <td>     1</td>      <th>                     </th>     <td> </td>    \n",
       "</tr>\n",
       "<tr>\n",
       "  <th>Covariance Type:</th>      <td>nonrobust</td>    <th>                     </th>     <td> </td>    \n",
       "</tr>\n",
       "</table>\n",
       "<table class=\"simpletable\">\n",
       "<tr>\n",
       "     <td></td>        <th>coef</th>     <th>std err</th>      <th>t</th>      <th>P>|t|</th>  <th>[0.025</th>    <th>0.975]</th>  \n",
       "</tr>\n",
       "<tr>\n",
       "  <th>const</th>   <td> 1.084e+04</td> <td>  554.616</td> <td>   19.543</td> <td> 0.000</td> <td> 9750.946</td> <td> 1.19e+04</td>\n",
       "</tr>\n",
       "<tr>\n",
       "  <th>bitcoin</th> <td>  783.2378</td> <td>   46.263</td> <td>   16.930</td> <td> 0.000</td> <td>  692.489</td> <td>  873.986</td>\n",
       "</tr>\n",
       "</table>\n",
       "<table class=\"simpletable\">\n",
       "<tr>\n",
       "  <th>Omnibus:</th>       <td>276.887</td> <th>  Durbin-Watson:     </th> <td>   0.043</td> \n",
       "</tr>\n",
       "<tr>\n",
       "  <th>Prob(Omnibus):</th> <td> 0.000</td>  <th>  Jarque-Bera (JB):  </th> <td> 519.573</td> \n",
       "</tr>\n",
       "<tr>\n",
       "  <th>Skew:</th>          <td> 1.132</td>  <th>  Prob(JB):          </th> <td>1.50e-113</td>\n",
       "</tr>\n",
       "<tr>\n",
       "  <th>Kurtosis:</th>      <td> 4.824</td>  <th>  Cond. No.          </th> <td>    16.6</td> \n",
       "</tr>\n",
       "</table><br/><br/>Notes:<br/>[1] Standard Errors assume that the covariance matrix of the errors is correctly specified."
      ],
      "text/plain": [
       "<class 'statsmodels.iolib.summary.Summary'>\n",
       "\"\"\"\n",
       "                            OLS Regression Results                            \n",
       "==============================================================================\n",
       "Dep. Variable:          bitcoin_Close   R-squared:                       0.163\n",
       "Model:                            OLS   Adj. R-squared:                  0.162\n",
       "Method:                 Least Squares   F-statistic:                     286.6\n",
       "Date:                Fri, 15 Apr 2022   Prob (F-statistic):           6.90e-59\n",
       "Time:                        16:51:35   Log-Likelihood:                -16319.\n",
       "No. Observations:                1475   AIC:                         3.264e+04\n",
       "Df Residuals:                    1473   BIC:                         3.265e+04\n",
       "Df Model:                           1                                         \n",
       "Covariance Type:            nonrobust                                         \n",
       "==============================================================================\n",
       "                 coef    std err          t      P>|t|      [0.025      0.975]\n",
       "------------------------------------------------------------------------------\n",
       "const       1.084e+04    554.616     19.543      0.000    9750.946    1.19e+04\n",
       "bitcoin      783.2378     46.263     16.930      0.000     692.489     873.986\n",
       "==============================================================================\n",
       "Omnibus:                      276.887   Durbin-Watson:                   0.043\n",
       "Prob(Omnibus):                  0.000   Jarque-Bera (JB):              519.573\n",
       "Skew:                           1.132   Prob(JB):                    1.50e-113\n",
       "Kurtosis:                       4.824   Cond. No.                         16.6\n",
       "==============================================================================\n",
       "\n",
       "Notes:\n",
       "[1] Standard Errors assume that the covariance matrix of the errors is correctly specified.\n",
       "\"\"\""
      ]
     },
     "execution_count": 103,
     "metadata": {},
     "output_type": "execute_result"
    }
   ],
   "source": [
    "models[\"bitcoin\"].summary()"
   ]
  },
  {
   "cell_type": "code",
   "execution_count": 104,
   "id": "f0f4005d",
   "metadata": {},
   "outputs": [
    {
     "data": {
      "text/html": [
       "<table class=\"simpletable\">\n",
       "<caption>OLS Regression Results</caption>\n",
       "<tr>\n",
       "  <th>Dep. Variable:</th>     <td>ethereum_Close</td>  <th>  R-squared:         </th> <td>   0.594</td> \n",
       "</tr>\n",
       "<tr>\n",
       "  <th>Model:</th>                   <td>OLS</td>       <th>  Adj. R-squared:    </th> <td>   0.594</td> \n",
       "</tr>\n",
       "<tr>\n",
       "  <th>Method:</th>             <td>Least Squares</td>  <th>  F-statistic:       </th> <td>   2157.</td> \n",
       "</tr>\n",
       "<tr>\n",
       "  <th>Date:</th>             <td>Fri, 15 Apr 2022</td> <th>  Prob (F-statistic):</th> <td>8.41e-291</td>\n",
       "</tr>\n",
       "<tr>\n",
       "  <th>Time:</th>                 <td>16:51:51</td>     <th>  Log-Likelihood:    </th> <td> -11718.</td> \n",
       "</tr>\n",
       "<tr>\n",
       "  <th>No. Observations:</th>      <td>  1475</td>      <th>  AIC:               </th> <td>2.344e+04</td>\n",
       "</tr>\n",
       "<tr>\n",
       "  <th>Df Residuals:</th>          <td>  1473</td>      <th>  BIC:               </th> <td>2.345e+04</td>\n",
       "</tr>\n",
       "<tr>\n",
       "  <th>Df Model:</th>              <td>     1</td>      <th>                     </th>     <td> </td>    \n",
       "</tr>\n",
       "<tr>\n",
       "  <th>Covariance Type:</th>      <td>nonrobust</td>    <th>                     </th>     <td> </td>    \n",
       "</tr>\n",
       "</table>\n",
       "<table class=\"simpletable\">\n",
       "<tr>\n",
       "      <td></td>        <th>coef</th>     <th>std err</th>      <th>t</th>      <th>P>|t|</th>  <th>[0.025</th>    <th>0.975]</th>  \n",
       "</tr>\n",
       "<tr>\n",
       "  <th>const</th>    <td>  189.6884</td> <td>   22.623</td> <td>    8.385</td> <td> 0.000</td> <td>  145.311</td> <td>  234.066</td>\n",
       "</tr>\n",
       "<tr>\n",
       "  <th>ethereum</th> <td>   56.9314</td> <td>    1.226</td> <td>   46.445</td> <td> 0.000</td> <td>   54.527</td> <td>   59.336</td>\n",
       "</tr>\n",
       "</table>\n",
       "<table class=\"simpletable\">\n",
       "<tr>\n",
       "  <th>Omnibus:</th>       <td>390.112</td> <th>  Durbin-Watson:     </th> <td>   0.130</td>\n",
       "</tr>\n",
       "<tr>\n",
       "  <th>Prob(Omnibus):</th> <td> 0.000</td>  <th>  Jarque-Bera (JB):  </th> <td>1893.906</td>\n",
       "</tr>\n",
       "<tr>\n",
       "  <th>Skew:</th>          <td> 1.159</td>  <th>  Prob(JB):          </th> <td>    0.00</td>\n",
       "</tr>\n",
       "<tr>\n",
       "  <th>Kurtosis:</th>      <td> 8.044</td>  <th>  Cond. No.          </th> <td>    23.5</td>\n",
       "</tr>\n",
       "</table><br/><br/>Notes:<br/>[1] Standard Errors assume that the covariance matrix of the errors is correctly specified."
      ],
      "text/plain": [
       "<class 'statsmodels.iolib.summary.Summary'>\n",
       "\"\"\"\n",
       "                            OLS Regression Results                            \n",
       "==============================================================================\n",
       "Dep. Variable:         ethereum_Close   R-squared:                       0.594\n",
       "Model:                            OLS   Adj. R-squared:                  0.594\n",
       "Method:                 Least Squares   F-statistic:                     2157.\n",
       "Date:                Fri, 15 Apr 2022   Prob (F-statistic):          8.41e-291\n",
       "Time:                        16:51:51   Log-Likelihood:                -11718.\n",
       "No. Observations:                1475   AIC:                         2.344e+04\n",
       "Df Residuals:                    1473   BIC:                         2.345e+04\n",
       "Df Model:                           1                                         \n",
       "Covariance Type:            nonrobust                                         \n",
       "==============================================================================\n",
       "                 coef    std err          t      P>|t|      [0.025      0.975]\n",
       "------------------------------------------------------------------------------\n",
       "const        189.6884     22.623      8.385      0.000     145.311     234.066\n",
       "ethereum      56.9314      1.226     46.445      0.000      54.527      59.336\n",
       "==============================================================================\n",
       "Omnibus:                      390.112   Durbin-Watson:                   0.130\n",
       "Prob(Omnibus):                  0.000   Jarque-Bera (JB):             1893.906\n",
       "Skew:                           1.159   Prob(JB):                         0.00\n",
       "Kurtosis:                       8.044   Cond. No.                         23.5\n",
       "==============================================================================\n",
       "\n",
       "Notes:\n",
       "[1] Standard Errors assume that the covariance matrix of the errors is correctly specified.\n",
       "\"\"\""
      ]
     },
     "execution_count": 104,
     "metadata": {},
     "output_type": "execute_result"
    }
   ],
   "source": [
    "models[\"ethereum\"].summary()"
   ]
  },
  {
   "cell_type": "code",
   "execution_count": 105,
   "id": "e08fa1f1",
   "metadata": {},
   "outputs": [
    {
     "data": {
      "text/html": [
       "<table class=\"simpletable\">\n",
       "<caption>OLS Regression Results</caption>\n",
       "<tr>\n",
       "  <th>Dep. Variable:</th>      <td>tether_Close</td>   <th>  R-squared:         </th>  <td>   0.001</td> \n",
       "</tr>\n",
       "<tr>\n",
       "  <th>Model:</th>                   <td>OLS</td>       <th>  Adj. R-squared:    </th>  <td>  -0.000</td> \n",
       "</tr>\n",
       "<tr>\n",
       "  <th>Method:</th>             <td>Least Squares</td>  <th>  F-statistic:       </th>  <td>  0.8953</td> \n",
       "</tr>\n",
       "<tr>\n",
       "  <th>Date:</th>             <td>Fri, 15 Apr 2022</td> <th>  Prob (F-statistic):</th>   <td> 0.344</td>  \n",
       "</tr>\n",
       "<tr>\n",
       "  <th>Time:</th>                 <td>16:52:09</td>     <th>  Log-Likelihood:    </th>  <td>  5366.6</td> \n",
       "</tr>\n",
       "<tr>\n",
       "  <th>No. Observations:</th>      <td>  1475</td>      <th>  AIC:               </th> <td>-1.073e+04</td>\n",
       "</tr>\n",
       "<tr>\n",
       "  <th>Df Residuals:</th>          <td>  1473</td>      <th>  BIC:               </th> <td>-1.072e+04</td>\n",
       "</tr>\n",
       "<tr>\n",
       "  <th>Df Model:</th>              <td>     1</td>      <th>                     </th>      <td> </td>    \n",
       "</tr>\n",
       "<tr>\n",
       "  <th>Covariance Type:</th>      <td>nonrobust</td>    <th>                     </th>      <td> </td>    \n",
       "</tr>\n",
       "</table>\n",
       "<table class=\"simpletable\">\n",
       "<tr>\n",
       "     <td></td>       <th>coef</th>     <th>std err</th>      <th>t</th>      <th>P>|t|</th>  <th>[0.025</th>    <th>0.975]</th>  \n",
       "</tr>\n",
       "<tr>\n",
       "  <th>const</th>  <td>    1.0025</td> <td>    0.001</td> <td> 1885.515</td> <td> 0.000</td> <td>    1.001</td> <td>    1.004</td>\n",
       "</tr>\n",
       "<tr>\n",
       "  <th>tether</th> <td>-1.999e-05</td> <td> 2.11e-05</td> <td>   -0.946</td> <td> 0.344</td> <td>-6.14e-05</td> <td> 2.14e-05</td>\n",
       "</tr>\n",
       "</table>\n",
       "<table class=\"simpletable\">\n",
       "<tr>\n",
       "  <th>Omnibus:</th>       <td>814.391</td> <th>  Durbin-Watson:     </th> <td>   0.647</td> \n",
       "</tr>\n",
       "<tr>\n",
       "  <th>Prob(Omnibus):</th> <td> 0.000</td>  <th>  Jarque-Bera (JB):  </th> <td>31534.791</td>\n",
       "</tr>\n",
       "<tr>\n",
       "  <th>Skew:</th>          <td> 1.919</td>  <th>  Prob(JB):          </th> <td>    0.00</td> \n",
       "</tr>\n",
       "<tr>\n",
       "  <th>Kurtosis:</th>      <td>25.324</td>  <th>  Cond. No.          </th> <td>    80.8</td> \n",
       "</tr>\n",
       "</table><br/><br/>Notes:<br/>[1] Standard Errors assume that the covariance matrix of the errors is correctly specified."
      ],
      "text/plain": [
       "<class 'statsmodels.iolib.summary.Summary'>\n",
       "\"\"\"\n",
       "                            OLS Regression Results                            \n",
       "==============================================================================\n",
       "Dep. Variable:           tether_Close   R-squared:                       0.001\n",
       "Model:                            OLS   Adj. R-squared:                 -0.000\n",
       "Method:                 Least Squares   F-statistic:                    0.8953\n",
       "Date:                Fri, 15 Apr 2022   Prob (F-statistic):              0.344\n",
       "Time:                        16:52:09   Log-Likelihood:                 5366.6\n",
       "No. Observations:                1475   AIC:                        -1.073e+04\n",
       "Df Residuals:                    1473   BIC:                        -1.072e+04\n",
       "Df Model:                           1                                         \n",
       "Covariance Type:            nonrobust                                         \n",
       "==============================================================================\n",
       "                 coef    std err          t      P>|t|      [0.025      0.975]\n",
       "------------------------------------------------------------------------------\n",
       "const          1.0025      0.001   1885.515      0.000       1.001       1.004\n",
       "tether     -1.999e-05   2.11e-05     -0.946      0.344   -6.14e-05    2.14e-05\n",
       "==============================================================================\n",
       "Omnibus:                      814.391   Durbin-Watson:                   0.647\n",
       "Prob(Omnibus):                  0.000   Jarque-Bera (JB):            31534.791\n",
       "Skew:                           1.919   Prob(JB):                         0.00\n",
       "Kurtosis:                      25.324   Cond. No.                         80.8\n",
       "==============================================================================\n",
       "\n",
       "Notes:\n",
       "[1] Standard Errors assume that the covariance matrix of the errors is correctly specified.\n",
       "\"\"\""
      ]
     },
     "execution_count": 105,
     "metadata": {},
     "output_type": "execute_result"
    }
   ],
   "source": [
    "models[\"tether\"].summary()"
   ]
  },
  {
   "cell_type": "code",
   "execution_count": 106,
   "id": "50208fa6",
   "metadata": {},
   "outputs": [
    {
     "data": {
      "text/plain": [
       "(-0.024646874541398266, 0.34418818498585113)"
      ]
     },
     "execution_count": 106,
     "metadata": {},
     "output_type": "execute_result"
    }
   ],
   "source": [
    "stats.pearsonr(data[\"tether\"], data[\"tether_Close\"])"
   ]
  },
  {
   "cell_type": "code",
   "execution_count": null,
   "id": "c5bdb482",
   "metadata": {},
   "outputs": [],
   "source": []
  }
 ],
 "metadata": {
  "kernelspec": {
   "display_name": "Python 3 (ipykernel)",
   "language": "python",
   "name": "python3"
  },
  "language_info": {
   "codemirror_mode": {
    "name": "ipython",
    "version": 3
   },
   "file_extension": ".py",
   "mimetype": "text/x-python",
   "name": "python",
   "nbconvert_exporter": "python",
   "pygments_lexer": "ipython3",
   "version": "3.9.7"
  }
 },
 "nbformat": 4,
 "nbformat_minor": 5
}
