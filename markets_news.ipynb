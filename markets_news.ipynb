{
 "cells": [
  {
   "cell_type": "code",
   "execution_count": 6,
   "id": "0bff87d7-ca35-46cd-a4b6-23cd4fe3396c",
   "metadata": {},
   "outputs": [],
   "source": [
    "# Initial imports\n",
    "import os\n",
    "import requests\n",
    "import pandas as pd\n",
    "from datetime import datetime, timedelta\n",
    "from dotenv import load_dotenv\n",
    "import alpaca_trade_api as tradeapi\n",
    "from alpaca_trade_api.rest import REST, TimeFrame, TimeFrameUnit\n",
    "import nltk as nltk\n",
    "from nltk.sentiment.vader import SentimentIntensityAnalyzer\n",
    "import matplotlib.pyplot as plt\n",
    "import dataframe_image as dfi\n",
    "\n",
    "%matplotlib inline"
   ]
  },
  {
   "cell_type": "code",
   "execution_count": 7,
   "id": "f30a2992-b50f-492c-9746-5f7700e9d8bb",
   "metadata": {},
   "outputs": [],
   "source": [
    "# Load .env enviroment variables\n",
    "load_dotenv()\n",
    "\n",
    "# Set Alpaca API key and secret\n",
    "alpaca_api_key = os.getenv(\"ALPACA_API_KEY\")\n",
    "alpaca_secret_key = os.getenv(\"ALPACA_SECRET_KEY\")\n",
    "\n",
    "# Create Alpaca Trade API client\n",
    "api = tradeapi.REST(alpaca_api_key, alpaca_secret_key, api_version='v2')"
   ]
  },
  {
   "cell_type": "code",
   "execution_count": 8,
   "id": "49b3861e-e915-4e1b-a288-fd9c686edabb",
   "metadata": {},
   "outputs": [],
   "source": [
    "# Fetch json data\n",
    "url     = 'https://data.alpaca.markets/v1beta1/news?end=2022-10-04T11:59:59Z&symbols=SP500&include_content=True'\n",
    "#payload = { 'key' : 'val' }\n",
    "headers = {'Apca-Api-Key-Id': \"PK2WA1GYRO281K7F855F\",\n",
    "            'Apca-Api-Secret-Key':\"DjgIrZMUgqsL7E95XV4WU9fi7Lc4441WkL8ylWM6\"}"
   ]
  },
  {
   "cell_type": "raw",
   "id": "a152622a-4ec1-4ed1-a74e-1dfb41a80fab",
   "metadata": {},
   "source": [
    "# Bitcoin news dataframe\n",
    "res = requests.get(url, headers=headers)\n",
    "data = res.json()\n",
    "sp500_news_df = pd.DataFrame.from_dict(data)\n",
    "sp500__news_df.tail()"
   ]
  }
 ],
 "metadata": {
  "kernelspec": {
   "display_name": "Python 3 (ipykernel)",
   "language": "python",
   "name": "python3"
  },
  "language_info": {
   "codemirror_mode": {
    "name": "ipython",
    "version": 3
   },
   "file_extension": ".py",
   "mimetype": "text/x-python",
   "name": "python",
   "nbconvert_exporter": "python",
   "pygments_lexer": "ipython3",
   "version": "3.9.7"
  }
 },
 "nbformat": 4,
 "nbformat_minor": 5
}
